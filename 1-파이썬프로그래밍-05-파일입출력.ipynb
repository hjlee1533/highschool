{
 "cells": [
  {
   "cell_type": "markdown",
   "metadata": {},
   "source": [
    "# 5.파일 입출력"
   ]
  },
  {
   "cell_type": "markdown",
   "metadata": {},
   "source": [
    "## 01. 파일목록 및 파일경로\n",
    "'''\n",
    "※ 파이썬에서 디렉토리 표현방법 \n",
    " -  \"C:\\\\python\\\\highschool\\\\test\", \n",
    " -  \"C:/python/highschool/test\"\n",
    "'''"
   ]
  },
  {
   "cell_type": "markdown",
   "metadata": {},
   "source": [
    "### 현재 디렉토리에 있는 파일목록"
   ]
  },
  {
   "cell_type": "code",
   "execution_count": 11,
   "metadata": {},
   "outputs": [
    {
     "name": "stdout",
     "output_type": "stream",
     "text": [
      "['.ipynb_checkpoints', '0_joys', 'ahnlab_pbl', 'aicamp', 'AIMaker', 'alphapose', 'codu4', 'dataAnalysis', 'debug.log', 'gachon', 'highschool', 'JetsonNano', 'kdigitaltraining', 'master', 'meerae1', 'meerae2', 'opencv-sample', 'opencv예제', 'openpose', 'posenet', 'posenet-python-master', 'pycharm', 'python-3.8.6-amd64.exe', 'Python39', 'rapa', 'rapa_online', 'rapa_org', 'rapa_test', 'sdong', 'snakegame', 'stat_python', 'sungdong', 'sungdonggu', 'sungsugo', 'test', 'TM', 'tmd', 'Untitled Folder', 'Untitled.ipynb', 'Untitled1.ipynb', 'venv']\n"
     ]
    }
   ],
   "source": [
    "import os\n",
    "\n",
    "print(os.listdir(os.getcwd()))"
   ]
  },
  {
   "cell_type": "markdown",
   "metadata": {},
   "source": [
    "### 디렉토리 위치 변경"
   ]
  },
  {
   "cell_type": "code",
   "execution_count": 12,
   "metadata": {},
   "outputs": [
    {
     "name": "stdout",
     "output_type": "stream",
     "text": [
      "C:\\\n"
     ]
    }
   ],
   "source": [
    "import os\n",
    "\n",
    "dirname = '../'          #디렉토리 지정, './':현재 디렉토리, '../':이전(parent) 디렉토리\n",
    "os.chdir(dirname)       #디렉토리 변경\n",
    "path = os.getcwd()  #변경된 디렉토리 확인\n",
    "print(path)"
   ]
  },
  {
   "cell_type": "code",
   "execution_count": 13,
   "metadata": {},
   "outputs": [],
   "source": [
    "os.chdir('C:/python/highschool')"
   ]
  },
  {
   "cell_type": "markdown",
   "metadata": {},
   "source": [
    "### [실습문제]\n",
    "지정한 디렉토리의 파일 목록을 출력하는 프로그램을 함수로 만들어 보세요."
   ]
  },
  {
   "cell_type": "code",
   "execution_count": 15,
   "metadata": {},
   "outputs": [
    {
     "name": "stdout",
     "output_type": "stream",
     "text": [
      "현재디렉토리--> C:\\python\\highschool\n",
      "------------------------------\n",
      ".ipynb_checkpoints\n",
      "00-파이썬-OpenAPI-이미지인식.ipynb\n",
      "1-파이썬프로그래밍-00-사전학습-답안.ipynb\n",
      "1-파이썬프로그래밍-00-설치.ipynb\n",
      "1-파이썬프로그래밍-01-기본자료형.ipynb\n",
      "1-파이썬프로그래밍-02-연산자.ipynb\n",
      "1-파이썬프로그래밍-03-제어문.ipynb\n",
      "1-파이썬프로그래밍-04-함수모듈패키지클래스.ipynb\n",
      "1-파이썬프로그래밍-05-파일입출력.ipynb\n",
      "1-파이썬프로그래밍-06-리스트튜플딕셔너리집합.ipynb\n",
      "1-파이썬프로그래밍-07-pygame.ipynb\n",
      "1-파이썬프로그래밍-07-tkinter.ipynb\n",
      "1-파이썬프로그래밍-07-turtle.ipynb\n",
      "1-파이썬프로그래밍-08-기타.ipynb\n",
      "1-파이썬프로그래밍-08-네이버오픈API사용하기.ipynb\n",
      "1-파이썬프로그래밍-예제-문제-01_20.ipynb\n",
      "1-파이썬프로그래밍-예제-별찍기.ipynb\n",
      "1-파이썬프로그래밍-예제-입사문제들.ipynb\n",
      "1-파이썬프로그래밍-파이썬기초문법.ipynb\n",
      "1일차-파이썬-기본자료형-실습.ipynb\n",
      "2-데이터분석-라이브러리설치.ipynb\n",
      "2일차-파이썬-실습-연산자.ipynb\n",
      "3-파이썬라이브러리-matplotlib-완성.ipynb\n",
      "3-파이썬라이브러리-numpy-완성.ipynb\n",
      "3-파이썬라이브러리-pandas-mito맛보기-완성.ipynb\n",
      "3-파이썬라이브러리-pandas-완성.ipynb\n",
      "3-파이썬라이브러리-Seaborn-완성.ipynb\n",
      "3-파이썬라이브러리-자연어처리-관련기술-완성.ipynb\n",
      "3일차-파이썬-실습-while반복문.ipynb\n",
      "3일차-파이썬-실습-함수모듈클래스.ipynb\n",
      "4-공공데이터분석-기상청날씨-완성.ipynb\n",
      "4-공공데이터분석-네이버 뉴스 검색 API 코드-파일저장-완성.ipynb\n",
      "4-공공데이터분석-수질데이터-완성.ipynb\n",
      "4-공공데이터분석-지도를 이용한 데이터 시각화-완성.ipynb\n",
      "5-딥러닝-Tensorflow-숫자인식-당뇨병예측-완성.ipynb\n",
      "5-딥러닝-컴퓨터비전-CartoonFilterCamera.py\n",
      "5-딥러닝-컴퓨터비전-관련기술-실습-완성.ipynb\n",
      "5-머신러닝-데이터분석에많이사용되는함수.ipynb\n",
      "5-머신러닝-분류-붓꽃분류-완성.ipynb\n",
      "5-머신러닝-분류-타이타닉생존자예측-완성.ipynb\n",
      "5-머신러닝-사이킷런-군집-KMean-고객세분화-완성.ipynb\n",
      "5-머신러닝-자연어처리-네이버뉴스검색_영화리뷰-분석-완성.ipynb\n",
      "5-머신러닝-코랩_자연어처리_네이버뉴스검색_영화리뷰_분석_완성.ipynb\n",
      "5-머신러닝-회귀-따릉이자전거이용예측-완성.ipynb\n",
      "5-머신러닝-회귀-주택가격예측하기-완성.ipynb\n",
      "A.py\n",
      "chromedriver.exe\n",
      "data\n",
      "day2-3-turtle.py\n",
      "day2-3-함수-turtle-별그리기.py\n",
      "day2-3-함수-turtle-원그리기.py\n",
      "day3-1-함수-turtle-꽃그리기.py\n",
      "gif\n",
      "graph\n",
      "image\n",
      "Module1.py\n",
      "opencv\n",
      "pygame\n",
      "test.ipynb\n",
      "test.txt\n",
      "test2.ipynb\n",
      "Untitled.ipynb\n",
      "WebDriver\n",
      "__pycache__\n",
      "현재디렉토리--> C:\\python\n",
      "------------------------------\n",
      ".ipynb_checkpoints\n",
      "0_joys\n",
      "ahnlab_pbl\n",
      "aicamp\n",
      "AIMaker\n",
      "alphapose\n",
      "codu4\n",
      "dataAnalysis\n",
      "debug.log\n",
      "gachon\n",
      "highschool\n",
      "JetsonNano\n",
      "kdigitaltraining\n",
      "master\n",
      "meerae1\n",
      "meerae2\n",
      "opencv-sample\n",
      "opencv예제\n",
      "openpose\n",
      "posenet\n",
      "posenet-python-master\n",
      "pycharm\n",
      "python-3.8.6-amd64.exe\n",
      "Python39\n",
      "rapa\n",
      "rapa_online\n",
      "rapa_org\n",
      "rapa_test\n",
      "sdong\n",
      "snakegame\n",
      "stat_python\n",
      "sungdong\n",
      "sungdonggu\n",
      "sungsugo\n",
      "test\n",
      "TM\n",
      "tmd\n",
      "Untitled Folder\n",
      "Untitled.ipynb\n",
      "Untitled1.ipynb\n",
      "venv\n",
      "현재디렉토리--> C:\\python\\highschool\n",
      "------------------------------\n",
      "C:\\python\\highschool\\.ipynb_checkpoints\n",
      "C:\\python\\highschool\\00-파이썬-OpenAPI-이미지인식.ipynb\n",
      "C:\\python\\highschool\\1-파이썬프로그래밍-00-사전학습-답안.ipynb\n",
      "C:\\python\\highschool\\1-파이썬프로그래밍-00-설치.ipynb\n",
      "C:\\python\\highschool\\1-파이썬프로그래밍-01-기본자료형.ipynb\n",
      "C:\\python\\highschool\\1-파이썬프로그래밍-02-연산자.ipynb\n",
      "C:\\python\\highschool\\1-파이썬프로그래밍-03-제어문.ipynb\n",
      "C:\\python\\highschool\\1-파이썬프로그래밍-04-함수모듈패키지클래스.ipynb\n",
      "C:\\python\\highschool\\1-파이썬프로그래밍-05-파일입출력.ipynb\n",
      "C:\\python\\highschool\\1-파이썬프로그래밍-06-리스트튜플딕셔너리집합.ipynb\n",
      "C:\\python\\highschool\\1-파이썬프로그래밍-07-pygame.ipynb\n",
      "C:\\python\\highschool\\1-파이썬프로그래밍-07-tkinter.ipynb\n",
      "C:\\python\\highschool\\1-파이썬프로그래밍-07-turtle.ipynb\n",
      "C:\\python\\highschool\\1-파이썬프로그래밍-08-기타.ipynb\n",
      "C:\\python\\highschool\\1-파이썬프로그래밍-08-네이버오픈API사용하기.ipynb\n",
      "C:\\python\\highschool\\1-파이썬프로그래밍-예제-문제-01_20.ipynb\n",
      "C:\\python\\highschool\\1-파이썬프로그래밍-예제-별찍기.ipynb\n",
      "C:\\python\\highschool\\1-파이썬프로그래밍-예제-입사문제들.ipynb\n",
      "C:\\python\\highschool\\1-파이썬프로그래밍-파이썬기초문법.ipynb\n",
      "C:\\python\\highschool\\1일차-파이썬-기본자료형-실습.ipynb\n",
      "C:\\python\\highschool\\2-데이터분석-라이브러리설치.ipynb\n",
      "C:\\python\\highschool\\2일차-파이썬-실습-연산자.ipynb\n",
      "C:\\python\\highschool\\3-파이썬라이브러리-matplotlib-완성.ipynb\n",
      "C:\\python\\highschool\\3-파이썬라이브러리-numpy-완성.ipynb\n",
      "C:\\python\\highschool\\3-파이썬라이브러리-pandas-mito맛보기-완성.ipynb\n",
      "C:\\python\\highschool\\3-파이썬라이브러리-pandas-완성.ipynb\n",
      "C:\\python\\highschool\\3-파이썬라이브러리-Seaborn-완성.ipynb\n",
      "C:\\python\\highschool\\3-파이썬라이브러리-자연어처리-관련기술-완성.ipynb\n",
      "C:\\python\\highschool\\3일차-파이썬-실습-while반복문.ipynb\n",
      "C:\\python\\highschool\\3일차-파이썬-실습-함수모듈클래스.ipynb\n",
      "C:\\python\\highschool\\4-공공데이터분석-기상청날씨-완성.ipynb\n",
      "C:\\python\\highschool\\4-공공데이터분석-네이버 뉴스 검색 API 코드-파일저장-완성.ipynb\n",
      "C:\\python\\highschool\\4-공공데이터분석-수질데이터-완성.ipynb\n",
      "C:\\python\\highschool\\4-공공데이터분석-지도를 이용한 데이터 시각화-완성.ipynb\n",
      "C:\\python\\highschool\\5-딥러닝-Tensorflow-숫자인식-당뇨병예측-완성.ipynb\n",
      "C:\\python\\highschool\\5-딥러닝-컴퓨터비전-CartoonFilterCamera.py\n",
      "C:\\python\\highschool\\5-딥러닝-컴퓨터비전-관련기술-실습-완성.ipynb\n",
      "C:\\python\\highschool\\5-머신러닝-데이터분석에많이사용되는함수.ipynb\n",
      "C:\\python\\highschool\\5-머신러닝-분류-붓꽃분류-완성.ipynb\n",
      "C:\\python\\highschool\\5-머신러닝-분류-타이타닉생존자예측-완성.ipynb\n",
      "C:\\python\\highschool\\5-머신러닝-사이킷런-군집-KMean-고객세분화-완성.ipynb\n",
      "C:\\python\\highschool\\5-머신러닝-자연어처리-네이버뉴스검색_영화리뷰-분석-완성.ipynb\n",
      "C:\\python\\highschool\\5-머신러닝-코랩_자연어처리_네이버뉴스검색_영화리뷰_분석_완성.ipynb\n",
      "C:\\python\\highschool\\5-머신러닝-회귀-따릉이자전거이용예측-완성.ipynb\n",
      "C:\\python\\highschool\\5-머신러닝-회귀-주택가격예측하기-완성.ipynb\n",
      "C:\\python\\highschool\\A.py\n",
      "C:\\python\\highschool\\chromedriver.exe\n",
      "C:\\python\\highschool\\data\n",
      "C:\\python\\highschool\\day2-3-turtle.py\n",
      "C:\\python\\highschool\\day2-3-함수-turtle-별그리기.py\n",
      "C:\\python\\highschool\\day2-3-함수-turtle-원그리기.py\n",
      "C:\\python\\highschool\\day3-1-함수-turtle-꽃그리기.py\n",
      "C:\\python\\highschool\\gif\n",
      "C:\\python\\highschool\\graph\n",
      "C:\\python\\highschool\\image\n",
      "C:\\python\\highschool\\Module1.py\n",
      "C:\\python\\highschool\\opencv\n",
      "C:\\python\\highschool\\pygame\n",
      "C:\\python\\highschool\\test.ipynb\n",
      "C:\\python\\highschool\\test.txt\n",
      "C:\\python\\highschool\\test2.ipynb\n",
      "C:\\python\\highschool\\Untitled.ipynb\n",
      "C:\\python\\highschool\\WebDriver\n",
      "C:\\python\\highschool\\__pycache__\n"
     ]
    }
   ],
   "source": [
    "import os\n",
    "\n",
    "# 특정 디렉토리 목록 출력하기\n",
    "def getDirList(dirname, printOption=False):\n",
    "    os.chdir(dirname)\n",
    "    path = os.getcwd() \n",
    "    \n",
    "    print('현재디렉토리-->', path)\n",
    "    print('-'*30)\n",
    "    for i in os.listdir(path):\n",
    "        if printOption==True:\n",
    "            print(path+'\\\\'+i)\n",
    "        else:\n",
    "            print(i)\n",
    "\n",
    "getDirList('./')                        # 현재 디렉토리 출력\n",
    "getDirList('../', False)                # 이전 디렉토리 출력\n",
    "getDirList('C:/python/highschool', True)# 특정 디렉토리 출력"
   ]
  },
  {
   "cell_type": "markdown",
   "metadata": {},
   "source": [
    "### 디렉토리 생성하기"
   ]
  },
  {
   "cell_type": "code",
   "execution_count": 7,
   "metadata": {},
   "outputs": [
    {
     "name": "stdout",
     "output_type": "stream",
     "text": [
      "[C:/python/highschool/data] 디렉토리가 이미 존재합니다.\n"
     ]
    }
   ],
   "source": [
    "#디렉토리 생성하기\n",
    "import os\n",
    " \n",
    "def createFolder(directory):\n",
    "    try:\n",
    "        if not os.path.exists(directory):\n",
    "            if input(f'진짜 디렉토리[{directory}]를 생성하시겠습니까?(y/n): ') == 'y':\n",
    "                os.makedirs(directory)\n",
    "            else:\n",
    "                print('디렉토리 생성 작업이 취소되었습니다.')\n",
    "        else:\n",
    "            print(f'[{directory}] 디렉토리가 이미 존재합니다.')\n",
    "            \n",
    "    except OSError:\n",
    "        print ('Error: Creating directory. ' +  directory)\n",
    "\n",
    "        \n",
    "# 함수 호출\n",
    "createFolder('C:/python/highschool/test') # 기존에 디렉토리(폴더)가 없으면 신규 생성."
   ]
  },
  {
   "cell_type": "markdown",
   "metadata": {},
   "source": [
    "### 디렉토리 삭제하기"
   ]
  },
  {
   "cell_type": "code",
   "execution_count": 9,
   "metadata": {},
   "outputs": [
    {
     "name": "stdout",
     "output_type": "stream",
     "text": [
      "진짜 디렉토리[C:/python/highschool/test]를 삭제하시겠습니까?(y/n): y\n",
      "디렉토리가 삭제 되었습니다.\n"
     ]
    }
   ],
   "source": [
    "#디렉토리 삭제하기\n",
    "import os\n",
    " \n",
    "def deleteFolder(directory):\n",
    "    try:\n",
    "        if os.path.exists(directory):\n",
    "            if input(f'진짜 디렉토리[{directory}]를 삭제하시겠습니까?(y/n): ') == 'y':\n",
    "                os.rmdir(directory)\n",
    "                print('디렉토리가 삭제 되었습니다.')\n",
    "            else:\n",
    "                print('디렉토리 삭제 작업이 취소되었습니다.')\n",
    "        else:\n",
    "            print(f'[{directory}] 디렉토리가 존재하지 않습니다.')\n",
    "    except OSError:\n",
    "        print ('Error: deleting directory. ' +  directory)\n",
    "\n",
    "        \n",
    "# 함수 호출\n",
    "deleteFolder('C:/python/highschool/test') # 기존에 디렉토리(폴더)가 있으면 삭제"
   ]
  },
  {
   "cell_type": "markdown",
   "metadata": {},
   "source": [
    "--------"
   ]
  },
  {
   "cell_type": "markdown",
   "metadata": {},
   "source": [
    "## 02. TXT 파일 입출력"
   ]
  },
  {
   "cell_type": "markdown",
   "metadata": {},
   "source": [
    "내 시스템의 유니코드 확인하기"
   ]
  },
  {
   "cell_type": "code",
   "execution_count": 4,
   "metadata": {
    "scrolled": true
   },
   "outputs": [
    {
     "name": "stdout",
     "output_type": "stream",
     "text": [
      "표준 입력 인코딩: cp949\n",
      "표준 출력 인코딩: UTF-8\n"
     ]
    }
   ],
   "source": [
    "import sys\n",
    "\n",
    "print(f'표준 입력 인코딩: {sys.stdin.encoding}')\n",
    "print(f'표준 출력 인코딩: {sys.stdout.encoding}')"
   ]
  },
  {
   "cell_type": "markdown",
   "metadata": {},
   "source": [
    "### txt 파일 기본 입출력"
   ]
  },
  {
   "cell_type": "code",
   "execution_count": 1,
   "metadata": {},
   "outputs": [],
   "source": [
    "#파일을 열어(쓰기 모드’w’) 파일에 쓰기\n",
    "f = open('test.txt','w')\n",
    "for i in range(1,11):\n",
    "    f.write('%d 번째 줄입니다.\\n'% i)\n",
    "f.close()"
   ]
  },
  {
   "cell_type": "code",
   "execution_count": 87,
   "metadata": {},
   "outputs": [
    {
     "name": "stdout",
     "output_type": "stream",
     "text": [
      "1 번째 줄입니다.\n",
      "\n"
     ]
    }
   ],
   "source": [
    "#파일을 열어(읽기 모드’r’) 1줄 읽어서 화면에 출력하기\n",
    "#readline(): \n",
    "f = open('test.txt','r')\n",
    "line = f.readline()\n",
    "print(line)\n",
    "f.close()"
   ]
  },
  {
   "cell_type": "code",
   "execution_count": 2,
   "metadata": {},
   "outputs": [
    {
     "name": "stdout",
     "output_type": "stream",
     "text": [
      "1 번째 줄입니다.\n",
      "\n",
      "2 번째 줄입니다.\n",
      "\n",
      "3 번째 줄입니다.\n",
      "\n",
      "4 번째 줄입니다.\n",
      "\n",
      "5 번째 줄입니다.\n",
      "\n",
      "6 번째 줄입니다.\n",
      "\n",
      "7 번째 줄입니다.\n",
      "\n",
      "8 번째 줄입니다.\n",
      "\n",
      "9 번째 줄입니다.\n",
      "\n",
      "10 번째 줄입니다.\n",
      "\n"
     ]
    }
   ],
   "source": [
    "#파일을 열어(읽기 모드’r’) 모두 읽어서 화면에 출력하기\n",
    "#readline(): \n",
    "f = open('test.txt','r')\n",
    "while True:\n",
    "    line = f.readline()\n",
    "    if not line: break\n",
    "    print(line)\n",
    "f.close()"
   ]
  },
  {
   "cell_type": "code",
   "execution_count": 3,
   "metadata": {},
   "outputs": [
    {
     "name": "stdout",
     "output_type": "stream",
     "text": [
      "1 번째 줄입니다.\n",
      "\n",
      "2 번째 줄입니다.\n",
      "\n",
      "3 번째 줄입니다.\n",
      "\n",
      "4 번째 줄입니다.\n",
      "\n",
      "5 번째 줄입니다.\n",
      "\n",
      "6 번째 줄입니다.\n",
      "\n",
      "7 번째 줄입니다.\n",
      "\n",
      "8 번째 줄입니다.\n",
      "\n",
      "9 번째 줄입니다.\n",
      "\n",
      "10 번째 줄입니다.\n",
      "\n"
     ]
    }
   ],
   "source": [
    "#readlines(): \n",
    "f = open('test.txt','r')\n",
    "for line in f.readlines():\n",
    "    print(line)\n",
    "f.close()"
   ]
  },
  {
   "cell_type": "code",
   "execution_count": 4,
   "metadata": {},
   "outputs": [
    {
     "name": "stdout",
     "output_type": "stream",
     "text": [
      "1 번째 줄입니다.\n",
      "2 번째 줄입니다.\n",
      "3 번째 줄입니다.\n",
      "4 번째 줄입니다.\n",
      "5 번째 줄입니다.\n",
      "6 번째 줄입니다.\n",
      "7 번째 줄입니다.\n",
      "8 번째 줄입니다.\n",
      "9 번째 줄입니다.\n",
      "10 번째 줄입니다.\n",
      "\n"
     ]
    }
   ],
   "source": [
    "#read()\n",
    "f = open('test.txt','r')\n",
    "data = f.read()\n",
    "print(data)\n",
    "f.close()"
   ]
  },
  {
   "cell_type": "code",
   "execution_count": 6,
   "metadata": {},
   "outputs": [],
   "source": [
    "#파일을 열어(쓰기 모드’a’) 파일에 이어서 쓰기\n",
    "f = open('test.txt','a')\n",
    "for i in range(11,21):\n",
    "    f.write('%d 번째 줄입니다.\\n'% i)\n",
    "f.close()"
   ]
  },
  {
   "cell_type": "markdown",
   "metadata": {},
   "source": [
    "### with문 사용해서 파일 입출력"
   ]
  },
  {
   "cell_type": "code",
   "execution_count": 8,
   "metadata": {},
   "outputs": [],
   "source": [
    "with open(\"C:/python/highschool/test.txt\", 'w') as f:\n",
    "    for i in range(1,11):\n",
    "        f.write('%d 번째 줄입니다.\\n'% i)\n",
    "    f.write('--end---\\n')\n",
    "f.close()"
   ]
  },
  {
   "cell_type": "code",
   "execution_count": 130,
   "metadata": {},
   "outputs": [
    {
     "name": "stdout",
     "output_type": "stream",
     "text": [
      "1 번째 줄입니다.\n",
      "2 번째 줄입니다.\n",
      "3 번째 줄입니다.\n",
      "4 번째 줄입니다.\n",
      "5 번째 줄입니다.\n",
      "6 번째 줄입니다.\n",
      "7 번째 줄입니다.\n",
      "8 번째 줄입니다.\n",
      "9 번째 줄입니다.\n",
      "10 번째 줄입니다.\n",
      "--end---\n",
      "\n"
     ]
    }
   ],
   "source": [
    "with open(\"C:/python/highschool/test.txt\", 'r+') as f:\n",
    "    data = f.read()\n",
    "    print(data)\n",
    "    data = data.replace(\"줄\",\"사람\")\n",
    "    f.write(data)\n"
   ]
  },
  {
   "cell_type": "markdown",
   "metadata": {},
   "source": [
    "### [실습문제]\n",
    "파일(sample.txt)을 만들어 그 파일에 1~100사이의 임의의 정수를 10개 출력하세요"
   ]
  },
  {
   "cell_type": "code",
   "execution_count": 137,
   "metadata": {},
   "outputs": [],
   "source": [
    "import random\n",
    "\n",
    "f = open('data/sample.txt', 'w')\n",
    "\n",
    "for i in range(10):\n",
    "    num = str(random.randint(1,100))\n",
    "    f.write(num+'\\n')\n",
    "f.close()"
   ]
  },
  {
   "cell_type": "code",
   "execution_count": 142,
   "metadata": {},
   "outputs": [],
   "source": [
    "import random\n",
    "\n",
    "with open('data/sample.txt', 'w') as f:\n",
    "    [f.write(str(random.randint(1,100))+'\\n') \n",
    "        for i in range(10)]"
   ]
  },
  {
   "cell_type": "markdown",
   "metadata": {},
   "source": [
    "### [실습문제]\n",
    "앞에서 생성시킨 파일(sample.txt)에 있는 10개의 데이터를 읽은 후 총합과 평균값을 구하여 화면과 (result.txt) 파일에 각각 출력하세요"
   ]
  },
  {
   "cell_type": "code",
   "execution_count": null,
   "metadata": {},
   "outputs": [],
   "source": [
    "hap, avg = 0, 0 \n",
    "\n",
    "f1 = open('data/sample.txt', 'r')\n",
    "f2 = open(\"data/result.txt\", 'w')\n",
    "\n",
    "lines = f1.readlines()\n",
    "\n",
    "for line in lines:\n",
    "    hap += int(line)\n",
    "avg = hap / len(lines)\n",
    "\n",
    "sentence = f'총합은 {hap} 입니다.\\n평균은 {avg} 입니다'\n",
    "print(sentence)\n",
    "f2.write(sentence)\n",
    "\n",
    "f1.close()\n",
    "f2.close()"
   ]
  },
  {
   "cell_type": "code",
   "execution_count": 148,
   "metadata": {},
   "outputs": [
    {
     "name": "stdout",
     "output_type": "stream",
     "text": [
      "[59, 8, 41, 21, 85, 33, 82, 7, 3, 13]의 \n",
      "총합은 352 입니다.\n",
      "평균은 35.2 입니다.\n"
     ]
    }
   ],
   "source": [
    "hap, avg = 0, 0 \n",
    "with open('data/sample.txt', 'r') as f1:\n",
    "    data = [int(line) for line in f1.readlines()]\n",
    "    hap = sum(data)\n",
    "    avg = hap/len(data)\n",
    "context = f'{data}의 \\n총합은 {hap} 입니다.\\n평균은 {avg} 입니다.'    \n",
    "print(context)\n",
    "    \n",
    "with open(\"data/result.txt\", 'w') as f2:\n",
    "    f2.write(context)   \n",
    "    "
   ]
  },
  {
   "cell_type": "markdown",
   "metadata": {},
   "source": [
    "### [실습문제]\n",
    "(article.txt) 파일을 읽어 딕셔너리 key에 해당하는 단어를 value값으로 대체하여 (result2.txt) 파일에 출력하세요.\n"
   ]
  },
  {
   "cell_type": "code",
   "execution_count": 8,
   "metadata": {
    "scrolled": true
   },
   "outputs": [
    {
     "name": "stdout",
     "output_type": "stream",
     "text": [
      "[[변경전]]\n",
      "〈(런던〈영국〉=연합뉴스) 사커봇 = 잉글랜드 프리미어리그 토트넘이 해리 케인의 결승골에 힘입어 레스터를 꺾었다. 토트넘은 13일(한국시간) 영국 런던 웸블리 스타디움에서 열린 2017-2018 잉글랜드 프로축구 프리미어리그 최종라운드 레스터와 홈 경기에서 5-4로 승리했다.\n",
      " \n",
      "  토트넘은 전반 4분 먼저 실점했다. 리야드 마레즈의 어시스트를 제이미 바디가 헤딩 슈팅으로 토트넘의 골문을 열었다. 3분 뒤 토트넘의 해리 케인이 동점골을 뽑아냈다. 9분 뒤 리야드 마레즈의 슈팅이 골문 안으로 들어가며 레스터는 다시 리드를 잡았다.(중략)\n",
      " \n",
      "  손흥민은 무사 시소코의 교체 선수로 그라운드를 밟았다. 토트넘은 남은 시간을 잘 막아내며 승점 3점을 추가했다. 손흥민은 교체 출전 기회를 얻었지만 공격 포인트를 기록하지 못했다. 토트넘은 이날 펼쳐진 경기에서 승리를 거두며 3경기 연속 무승의 부진을 끊었다. robot@yna.co.kr〉\n",
      "--------------------------------------------------\n",
      "[[변경후]]:\n",
      " 〈(런던〈영국〉=연합뉴스) 사커봇 = 잉글랜드 프리미어리그 맨체스터유나이티드이 박지성의 결승골에 힘입어 레스터를 꺾었다. 맨체스터유나이티드은 20일(한국시간) 영국 런던 웸블리 스타디움에서 열린 2017-2018 잉글랜드 프로축구 프리미어리그 최종라운드 레스터와 홈 경기에서 5-4로 승리했다.\n",
      " \n",
      "  맨체스터유나이티드은 전반 4분 먼저 실점했다. 리야드 마레즈의 어시스트를 제이미 바디가 헤딩 슈팅으로 맨체스터유나이티드의 골문을 열었다. 3분 뒤 맨체스터유나이티드의 박지성이 동점골을 뽑아냈다. 9분 뒤 리야드 마레즈의 슈팅이 골문 안으로 들어가며 레스터는 다시 리드를 잡았다.(중략)\n",
      " \n",
      "  이승우은 무사 시소코의 교체 선수로 그라운드를 밟았다. 맨체스터유나이티드은 남은 시간을 잘 막아내며 승점 3점을 추가했다. 이승우은 교체 출전 기회를 얻었지만 공격 포인트를 기록하지 못했다. 맨체스터유나이티드은 이날 펼쳐진 경기에서 승리를 거두며 3경기 연속 무승의 부진을 끊었다. robot@yna.co.kr〉\n"
     ]
    }
   ],
   "source": [
    "dicText = {'13':'20','토트넘':'맨체스터유나이티드','해리 케인':'박지성','손흥민':'이승우'}\n",
    "\n",
    "with open('data/article.txt', 'r', encoding='UTF-8') as f1:\n",
    "    data = f1.read()\n",
    "    \n",
    "with open(\"data/result2.txt\", 'w') as f2:\n",
    "    print('[[변경전]]\\n' + data)\n",
    "    for key in dicText.keys():\n",
    "        data = data.replace(key, dicText[key])\n",
    "        \n",
    "    print('-'*50)       \n",
    "    print('[[변경후]]:\\n ' + data) \n",
    "    f2.write(data)  #string데이터 형식으로 저장해야한다.\n"
   ]
  },
  {
   "cell_type": "markdown",
   "metadata": {},
   "source": [
    "### 실습문제: 팀 만들어 수강생 나누기\n",
    " - (members.txt) 파일에 있는 수강생 데이터를 읽은 후 리스트로 만들고\n",
    " - 리스트를 섞은 후\n",
    " - 팀당 4명의 수강생 만들어 { 팀명: [수강생] } 딕셔너리 형태로 만들고\n",
    " - 화면과 (teams.txt) 파일로 출력하세요. ex) 팀명: 수강생명 (,쉼표로 분리)\n",
    " - 팀명은 서로 연관성 있는 이름(과일, 야채, 동물 등)으로 구성된 리스트에서 임의로 부여되도록 한다."
   ]
  },
  {
   "cell_type": "code",
   "execution_count": 11,
   "metadata": {},
   "outputs": [
    {
     "name": "stdout",
     "output_type": "stream",
     "text": [
      "--팀원수: 26\n",
      "--팀개수: 7 \n",
      " {'1팀': ['홍서연', '윤예은', '강덕현', '고명기'], '2팀': ['강푸름', '김하빈', '홍승우', '이승근'], '3팀': ['김지후', '정대웅', '임세찬', '김성현'], '4팀': ['김대연', '김진성', '김유준', '고승태'], '5팀': ['한신혁', '오민수', '박지혜', '고대은'], '6팀': ['박재민', '송남현', '정가영', '정현석'], '7팀': ['박정민', '강재권']}\n"
     ]
    }
   ],
   "source": [
    "#팀 만들어 수강생 나누기\n",
    "import random\n",
    "\n",
    "rfname = 'data/members.txt' \n",
    "wfname = 'data/teams.txt'\n",
    "teams = ['1팀','2팀','3팀','4팀','5팀',\n",
    "        '6팀','7팀','8팀','9팀','10팀']\n",
    "teamDic = dict()\n",
    "\n",
    "def makeMembers(fname):\n",
    "    with open(fname, 'r', encoding='utf-8') as f:        \n",
    "        return [ member.replace('\\n','') for member in f.readlines()]\n",
    "    \n",
    "def makeTeamMembers(fname, teams, members, cnt=4): \n",
    "    global teamDic\n",
    "\n",
    "    members = ' '.join(members).split()   #리스트에서 공백 제거하기\n",
    "    random.shuffle(members)               #리스트 섞기\n",
    "    print('--팀원수:',len(members))\n",
    "    with open(fname, 'w', encoding='utf-8') as f: \n",
    "        for team in teams:\n",
    "            if len(members) == 0: break\n",
    "            tmp = []\n",
    "            for i in range(cnt):          #4명식 구성하기\n",
    "                if len(members) > 0: \n",
    "                    member = random.choice(members)\n",
    "                    tmp.append(member)\n",
    "                    members.remove(member)\n",
    "                else:\n",
    "                    break\n",
    "            if tmp : teamDic[team] = tmp\n",
    "            f.write(f\"{team} : {' '.join(tmp)}\\n\")   #파일에 쓰기            \n",
    "\n",
    "    return teamDic\n",
    "\n",
    "teamDic = makeTeamMembers( wfname, teams, makeMembers(rfname) )\n",
    "print('--팀개수:',len(teamDic),'\\n', teamDic)"
   ]
  },
  {
   "cell_type": "markdown",
   "metadata": {},
   "source": [
    " - 딕셔너리 형태 그대로 파일로 저장하고 \n",
    " - 파일을 그대로 읽어 딕셔너리 형태 그대로 출력하기"
   ]
  },
  {
   "cell_type": "code",
   "execution_count": 12,
   "metadata": {},
   "outputs": [
    {
     "name": "stdout",
     "output_type": "stream",
     "text": [
      "{'1팀': ['김지후', '홍승우', '박지혜', '김진성'], '2팀': ['강푸름', '임세찬', '김대연', '윤예은'], '3팀': ['고승태', '고대은', '박정민', '고승혁'], '4팀': ['이수영', '정가영', '홍서연', '김하빈'], '5팀': ['김유한', '정현석', '한신혁', '김유준'], '6팀': ['강재권', '박재민', '이승근', '오민수'], '7팀': ['강연재', '고명기', '강덕현', '김성현'], '8팀': ['정대웅', '송남현']}\n"
     ]
    }
   ],
   "source": [
    "#데이터형태(딕셔너리) 그대로 저장하고 그대로 읽어오기\n",
    "#(파일을 직접 읽으면 한글이 깨져서 보인다.)\n",
    "import pickle\n",
    "\n",
    "with open('data/teamDic.txt', 'wb') as f:  #binary형태로 저장한다.\n",
    "    pickle.dump(teamDic, f)  # 딕셔너리 형태로 그래도 저장하고\n",
    "    \n",
    "with open('data/teamDic.txt', 'rb') as f:  #binary데이터로 읽는다\n",
    "    print(pickle.load(f))  "
   ]
  },
  {
   "cell_type": "markdown",
   "metadata": {},
   "source": [
    "-----"
   ]
  },
  {
   "cell_type": "markdown",
   "metadata": {},
   "source": [
    "## 03. csv 파일 읽고 쓰기: pandas"
   ]
  },
  {
   "cell_type": "code",
   "execution_count": null,
   "metadata": {},
   "outputs": [],
   "source": [
    "# pandas 설치하기\n",
    "#pip install pandas"
   ]
  },
  {
   "cell_type": "markdown",
   "metadata": {},
   "source": [
    "### csv 파일 읽기"
   ]
  },
  {
   "cell_type": "code",
   "execution_count": 17,
   "metadata": {
    "scrolled": true
   },
   "outputs": [
    {
     "data": {
      "text/html": [
       "<div><div id=44b3bfb9-457b-49d3-9a8f-0affa4740874 style=\"display:none; background-color:#9D6CFF; color:white; width:200px; height:30px; padding-left:5px; border-radius:4px; flex-direction:row; justify-content:space-around; align-items:center;\" onmouseover=\"this.style.backgroundColor='#BA9BF8'\" onmouseout=\"this.style.backgroundColor='#9D6CFF'\" onclick=\"window.commands?.execute('create-mitosheet-from-dataframe-output');\">See Full Dataframe in Mito</div> <script> if (window.commands?.hasCommand('create-mitosheet-from-dataframe-output')) document.getElementById('44b3bfb9-457b-49d3-9a8f-0affa4740874').style.display = 'flex' </script> <table border=\"1\" class=\"dataframe\">\n",
       "  <thead>\n",
       "    <tr style=\"text-align: right;\">\n",
       "      <th></th>\n",
       "      <th>name</th>\n",
       "    </tr>\n",
       "  </thead>\n",
       "  <tbody>\n",
       "    <tr>\n",
       "      <th>0</th>\n",
       "      <td>강연재</td>\n",
       "    </tr>\n",
       "    <tr>\n",
       "      <th>1</th>\n",
       "      <td>강재권</td>\n",
       "    </tr>\n",
       "    <tr>\n",
       "      <th>2</th>\n",
       "      <td>강푸름</td>\n",
       "    </tr>\n",
       "    <tr>\n",
       "      <th>3</th>\n",
       "      <td>고승태</td>\n",
       "    </tr>\n",
       "    <tr>\n",
       "      <th>4</th>\n",
       "      <td>김대연</td>\n",
       "    </tr>\n",
       "    <tr>\n",
       "      <th>...</th>\n",
       "      <td>...</td>\n",
       "    </tr>\n",
       "    <tr>\n",
       "      <th>25</th>\n",
       "      <td>박재민</td>\n",
       "    </tr>\n",
       "    <tr>\n",
       "      <th>26</th>\n",
       "      <td>박정민</td>\n",
       "    </tr>\n",
       "    <tr>\n",
       "      <th>27</th>\n",
       "      <td>이승근</td>\n",
       "    </tr>\n",
       "    <tr>\n",
       "      <th>28</th>\n",
       "      <td>정현석</td>\n",
       "    </tr>\n",
       "    <tr>\n",
       "      <th>29</th>\n",
       "      <td>홍승우</td>\n",
       "    </tr>\n",
       "  </tbody>\n",
       "</table></div>"
      ],
      "text/plain": [
       "   name\n",
       "0   강연재\n",
       "1   강재권\n",
       "2   강푸름\n",
       "3   고승태\n",
       "4   김대연\n",
       "5   김성현\n",
       "6   김진성\n",
       "7   김하빈\n",
       "8   오민수\n",
       "9   임세찬\n",
       "10  한신혁\n",
       "11  김유한\n",
       "12  김지후\n",
       "13  박지혜\n",
       "14  송남현\n",
       "15  윤예은\n",
       "16  이수영\n",
       "17  정가영\n",
       "18  정대웅\n",
       "19  홍서연\n",
       "20  강덕현\n",
       "21  고대은\n",
       "22  고명기\n",
       "23  고승혁\n",
       "24  김유준\n",
       "25  박재민\n",
       "26  박정민\n",
       "27  이승근\n",
       "28  정현석\n",
       "29  홍승우"
      ]
     },
     "execution_count": 17,
     "metadata": {},
     "output_type": "execute_result"
    }
   ],
   "source": [
    "import pandas as pd\n",
    "\n",
    "df = pd.read_csv('data/members.csv')\n",
    "\n",
    "df"
   ]
  },
  {
   "cell_type": "code",
   "execution_count": null,
   "metadata": {},
   "outputs": [],
   "source": []
  }
 ],
 "metadata": {
  "kernelspec": {
   "display_name": "Python 3",
   "language": "python",
   "name": "python3"
  },
  "language_info": {
   "codemirror_mode": {
    "name": "ipython",
    "version": 3
   },
   "file_extension": ".py",
   "mimetype": "text/x-python",
   "name": "python",
   "nbconvert_exporter": "python",
   "pygments_lexer": "ipython3",
   "version": "3.9.10"
  }
 },
 "nbformat": 4,
 "nbformat_minor": 4
}
