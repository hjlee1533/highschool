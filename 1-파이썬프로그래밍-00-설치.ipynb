{
 "cells": [
  {
   "cell_type": "markdown",
   "id": "1c6d4c78",
   "metadata": {},
   "source": [
    "# 1.파이썬 라이브러리 확인"
   ]
  },
  {
   "cell_type": "markdown",
   "id": "0d72efb5",
   "metadata": {},
   "source": [
    "### 파이썬 버전"
   ]
  },
  {
   "cell_type": "code",
   "execution_count": 3,
   "id": "80643eb2",
   "metadata": {},
   "outputs": [
    {
     "data": {
      "text/plain": [
       "'3.9.10 (tags/v3.9.10:f2f3f53, Jan 17 2022, 15:14:21) [MSC v.1929 64 bit (AMD64)]'"
      ]
     },
     "execution_count": 3,
     "metadata": {},
     "output_type": "execute_result"
    }
   ],
   "source": [
    "import sys\n",
    "\n",
    "sys.version"
   ]
  },
  {
   "cell_type": "markdown",
   "id": "d8d6d890",
   "metadata": {},
   "source": [
    "### 파이썬 설치 위치"
   ]
  },
  {
   "cell_type": "code",
   "execution_count": null,
   "id": "99f3f501",
   "metadata": {},
   "outputs": [],
   "source": [
    "import sys\n",
    "\n",
    "sys.executable"
   ]
  },
  {
   "cell_type": "markdown",
   "id": "eae46aeb",
   "metadata": {},
   "source": [
    "### 라이브러리 설치 위치"
   ]
  },
  {
   "cell_type": "code",
   "execution_count": null,
   "id": "aa6b466a",
   "metadata": {
    "scrolled": false
   },
   "outputs": [],
   "source": [
    "print(sys.path)"
   ]
  },
  {
   "cell_type": "markdown",
   "id": "de812a95",
   "metadata": {},
   "source": [
    "### 설치된 라이브러리 확인"
   ]
  },
  {
   "cell_type": "code",
   "execution_count": null,
   "id": "f6115de6",
   "metadata": {
    "scrolled": true
   },
   "outputs": [],
   "source": [
    "# 라이브러리 전체 확인\n",
    "pip list"
   ]
  },
  {
   "cell_type": "markdown",
   "id": "4a22f044",
   "metadata": {},
   "source": [
    "### 특정 라이브러리 정보 확인"
   ]
  },
  {
   "cell_type": "code",
   "execution_count": null,
   "id": "81395993",
   "metadata": {},
   "outputs": [],
   "source": [
    "# pip show 라이브러리명\n",
    "pip show numpy"
   ]
  },
  {
   "cell_type": "markdown",
   "id": "2429df2f",
   "metadata": {},
   "source": [
    "## 파이썬 라이브러리 설치"
   ]
  },
  {
   "cell_type": "code",
   "execution_count": null,
   "id": "88428b50",
   "metadata": {},
   "outputs": [],
   "source": [
    "#pip install numpy"
   ]
  }
 ],
 "metadata": {
  "kernelspec": {
   "display_name": "Python 3",
   "language": "python",
   "name": "python3"
  },
  "language_info": {
   "codemirror_mode": {
    "name": "ipython",
    "version": 3
   },
   "file_extension": ".py",
   "mimetype": "text/x-python",
   "name": "python",
   "nbconvert_exporter": "python",
   "pygments_lexer": "ipython3",
   "version": "3.9.10"
  }
 },
 "nbformat": 4,
 "nbformat_minor": 5
}
