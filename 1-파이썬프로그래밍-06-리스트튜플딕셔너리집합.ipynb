{
 "cells": [
  {
   "cell_type": "markdown",
   "metadata": {},
   "source": [
    "# 6. 파이썬 자료구조와 알고리즘\n"
   ]
  },
  {
   "cell_type": "markdown",
   "metadata": {},
   "source": [
    "## 자료타입 확인"
   ]
  },
  {
   "cell_type": "code",
   "execution_count": 1,
   "metadata": {},
   "outputs": [
    {
     "name": "stdout",
     "output_type": "stream",
     "text": [
      "<class 'list'>\n",
      "<class 'tuple'>\n",
      "<class 'dict'>\n",
      "<class 'set'>\n"
     ]
    }
   ],
   "source": [
    "a = [1,2,3,4,5]\n",
    "b = (1,2,3,4,5)\n",
    "c = {1:'a',2:'b',3:'c',4:'d',5:'e'}\n",
    "d = {1,2,3,4,5}\n",
    "\n",
    "print( type(a) )\n",
    "print( type(b) )\n",
    "print( type(c) )\n",
    "print( type(d) )"
   ]
  },
  {
   "cell_type": "markdown",
   "metadata": {},
   "source": [
    "## 01. 리스트 (List)"
   ]
  },
  {
   "cell_type": "markdown",
   "metadata": {},
   "source": [
    "### [실습문제]\n",
    "중첩 for 문을 사용, 3행 4열짜리 리스트 생성 후 항목 1~12를 입력하고 출력하기"
   ]
  },
  {
   "cell_type": "code",
   "execution_count": 47,
   "metadata": {},
   "outputs": [
    {
     "name": "stdout",
     "output_type": "stream",
     "text": [
      " 1  2  3  4\n",
      " 5  6  7  8\n",
      " 9 10 11 12\n"
     ]
    }
   ],
   "source": [
    "#방법1\n",
    "lst = [[] for i in range(3)]\n",
    "value = 1\n",
    "for i in range(3):\n",
    "    for k in range(4):\n",
    "        lst[i].append(\"%2d\"%value)    \n",
    "        value += 1\n",
    "\n",
    "for i in range(3):\n",
    "    print(\" \".join(lst[i]))"
   ]
  },
  {
   "cell_type": "code",
   "execution_count": 49,
   "metadata": {},
   "outputs": [
    {
     "name": "stdout",
     "output_type": "stream",
     "text": [
      "---- 가로 방향 출력 ----\n",
      " 1  2  3  4 \n",
      " 5  6  7  8 \n",
      " 9 10 11 12 \n"
     ]
    }
   ],
   "source": [
    "#방법2\n",
    "lst = [[m + n for n in range(1, 5)] for m in range(0, 12, 4)]\n",
    "for i in range(len(lst)):\n",
    "    for j in range(len(lst[i])):\n",
    "        print(\"%2d\" % lst[i][j], end=\" \")\n",
    "    print()"
   ]
  },
  {
   "cell_type": "markdown",
   "metadata": {},
   "source": [
    "### [실습문제]\n",
    "1~200 숫자 중 3의 배수를 리스트에 추가하고 아래와 같이 출력하는 \u000b",
    " 프로그램을 작성하세요\n"
   ]
  },
  {
   "cell_type": "code",
   "execution_count": 42,
   "metadata": {},
   "outputs": [
    {
     "name": "stdout",
     "output_type": "stream",
     "text": [
      "1~200중 3의 배수는: [3, 6, 9, 12, 15, 18, 21, 24, 27, 30, 33, 36, 39, 42, 45, 48, 51, 54, 57, 60, 63, 66, 69, 72, 75, 78, 81, 84, 87, 90, 93, 96, 99, 102, 105, 108, 111, 114, 117, 120, 123, 126, 129, 132, 135, 138, 141, 144, 147, 150, 153, 156, 159, 162, 165, 168, 171, 174, 177, 180, 183, 186, 189, 192, 195, 198]\n"
     ]
    }
   ],
   "source": [
    "a_list = list()\n",
    "\n",
    "for i in range(1,201):\n",
    "    if i % 3 == 0:\n",
    "        a_list.append(i)\n",
    "    \n",
    "print(\"1~200중 3의 배수는:\", a_list)"
   ]
  },
  {
   "cell_type": "code",
   "execution_count": 41,
   "metadata": {},
   "outputs": [
    {
     "name": "stdout",
     "output_type": "stream",
     "text": [
      "1~200중 3의 배수는: [3, 6, 9, 12, 15, 18, 21, 24, 27, 30, 33, 36, 39, 42, 45, 48, 51, 54, 57, 60, 63, 66, 69, 72, 75, 78, 81, 84, 87, 90, 93, 96, 99, 102, 105, 108, 111, 114, 117, 120, 123, 126, 129, 132, 135, 138, 141, 144, 147, 150, 153, 156, 159, 162, 165, 168, 171, 174, 177, 180, 183, 186, 189, 192, 195, 198]\n"
     ]
    }
   ],
   "source": [
    "a_list = [i for i in range(1,201) if i % 3 == 0]\n",
    "print(\"1~200중 3의 배수는:\", a_list)"
   ]
  },
  {
   "cell_type": "markdown",
   "metadata": {},
   "source": [
    "### [실습문제]\n",
    "아이돌 성적을 입력 받아 리스트에 넣고 아래와 같이 출력하세요\n"
   ]
  },
  {
   "cell_type": "code",
   "execution_count": null,
   "metadata": {},
   "outputs": [],
   "source": [
    "names = ['BTS','트와이스','블랙핑크','뉴이스트']\n",
    "scores = []\n",
    "\n",
    "for name in names:\n",
    "    x = int(input(\"'%s'의 성적 입력:\" % name))\n",
    "    scores.append(x)\n",
    "\n",
    "print('-'*30)\n",
    "print(' 아이돌 성적 결과')\n",
    "print('-'*30)\n",
    "\n",
    "for i in range(len(names)):\n",
    "    if scores[i] >= 80: \n",
    "        result = '수료'\n",
    "    else: \n",
    "        result = '미수료'\n",
    "    print(\"'%s'의 성적은 %d점: %s\" % (names[i],scores[i],result))"
   ]
  },
  {
   "cell_type": "markdown",
   "metadata": {},
   "source": [
    "### [실습문제]\n",
    "사용자에게 년, 월, 일을 입력 받아 1월 1일부터 해당 날짜까지 며칠이 소요되는지 출력하는 프로그램을 만들어 보세요.  윤년을 판단하는 조건은 다음과 같습니다.\n",
    "\n",
    "- 윤년: <br>\n",
    "year % 400 == 0 or (year % 100 != 0 and year % 4 == 0)\n",
    "\n",
    "ex) 2020 1 30  ==> 29일 소요! <br>\n",
    "ex) 2020 12 31 ==> 365일 소요! (윤년)\n"
   ]
  },
  {
   "cell_type": "code",
   "execution_count": 1,
   "metadata": {
    "scrolled": true
   },
   "outputs": [
    {
     "name": "stdout",
     "output_type": "stream",
     "text": [
      "YYYYMMDD : 20210721\n",
      "------------------------------\n",
      "2021/1/1 ~ 2021/7/21 : 201 \n"
     ]
    }
   ],
   "source": [
    "days =[31,28,31,30,31,30,31,31,30,31,30,31]\n",
    "\n",
    "date = input('YYYYMMDD: ')\n",
    "\n",
    "yy = int(date[0:4])\n",
    "mm = int(date[4:6])\n",
    "dd = int(date[6:8])\n",
    "print(yy, mm, dd)\n",
    "\n",
    "flag = ''\n",
    "if yy%400 ==0 or (yy%100 !=0 and yy % 4 ==0):\n",
    "    days[1] = 29\n",
    "    flag = '윤년'\n",
    "\n",
    "total = 0\n",
    "for m in range(mm - 1):\n",
    "    total += days[m]\n",
    "total += dd - 1\n",
    "    \n",
    "print('-'*30)\n",
    "print(f'{yy}/1/1 ~ {yy}/{mm}/{dd}: 총 소요일은 {total} 입니다.')"
   ]
  },
  {
   "cell_type": "markdown",
   "metadata": {},
   "source": [
    "### [실습문제]\n",
    "시작일(YYYYMMDD) ~ 목표일(YYYYMMDD)까지 며칠이 소요되는지 출력하는 프로그램을 만들어 보세요.  \n",
    "\n",
    " - 시작일 : YYYYMMDD 형태의 문자열로 입력 받습니다.\n",
    " - 목표일 : YYYYMMDD 형태의 문자열로 입력 받습니다.\n",
    " - 시작일로부터 목표일까지 며칠이 소요되는 지 출력하세요.\n",
    " - 목표일은 시작일보다 미래입니다."
   ]
  },
  {
   "cell_type": "code",
   "execution_count": 4,
   "metadata": {},
   "outputs": [
    {
     "name": "stdout",
     "output_type": "stream",
     "text": [
      "시작일 (YYYYMMDD) : 20201225\n",
      "목표일 (YYYYMMDD) : 20210120\n"
     ]
    },
    {
     "data": {
      "text/plain": [
       "26"
      ]
     },
     "execution_count": 4,
     "metadata": {},
     "output_type": "execute_result"
    }
   ],
   "source": [
    "from datetime import datetime \n",
    "\n",
    "start = input('시작일 (YYYYMMDD) : ')\n",
    "end = input('목표일 (YYYYMMDD) : ')\n",
    "\n",
    "s_date = datetime.strptime(start, \"%Y%m%d\")\n",
    "e_date = datetime.strptime(end, \"%Y%m%d\")\n",
    "(e_date - s_date).days"
   ]
  },
  {
   "cell_type": "code",
   "execution_count": 5,
   "metadata": {},
   "outputs": [
    {
     "name": "stdout",
     "output_type": "stream",
     "text": [
      "시작일 (YYYYMMDD) : 20200125\n",
      "목표일 (YYYYMMDD) : 20210125\n",
      "------------------------------\n",
      "2020/1/25 ~ 2021/1/25\n",
      "D'day : 366\n"
     ]
    }
   ],
   "source": [
    "dates = [31, 28, 31, 30, 31, 30, 31, 31, 30, 31, 30, 31]\n",
    "total = []\n",
    "\n",
    "start = input('시작일 (YYYYMMDD) : ')\n",
    "goal = input('목표일 (YYYYMMDD) : ')\n",
    "\n",
    "s_total = 0\n",
    "s_year = int(start[:4])\n",
    "s_month = int(start[4:6]) - 1\n",
    "s_date = int(start[6:])\n",
    "\n",
    "g_total = 0\n",
    "g_year = int(goal[:4])\n",
    "g_month = int(goal[4:6]) - 1\n",
    "g_date = int(goal[6:])\n",
    "\n",
    "print('-'*30)\n",
    "print(f'{s_year}/{s_month+1}/{s_date} ~ {g_year}/{g_month+1}/{g_date}')\n",
    "\n",
    "for y in range(s_year, g_year + 1):\n",
    "    tmp = dates.copy()\n",
    "    if y % 400 == 0 or (y % 100 != 0 and y % 4 == 0):\n",
    "        tmp[1] += 1\n",
    "    total.append(tmp)\n",
    "\n",
    "d_day = 0\n",
    "m = s_month\n",
    "n = 0\n",
    "while n < len(total):\n",
    "    l = g_month if n == len(total)-1 else len(total[n])\n",
    "    while m < l:\n",
    "        d_day += total[n][m]\n",
    "        total[n][m] = 0\n",
    "        m += 1\n",
    "    m = 0\n",
    "    n += 1\n",
    "\n",
    "d_day += (-s_date) + g_date\n",
    "print(f'D\\'day : {d_day}')\n"
   ]
  },
  {
   "cell_type": "markdown",
   "metadata": {},
   "source": [
    "### [실습문제]\n",
    "조건을 만족하는 <무인 호텔 관리 프로그램>을 작성해 주세요."
   ]
  },
  {
   "cell_type": "markdown",
   "metadata": {},
   "source": [
    "< 무인 호텔 관리 프로그램 >\n",
    "\n",
    "- 1) 방 개수를 입력 받는다.\n",
    "- 2) 방 개수와 같은 길이의 리스트를 생성한다.\n",
    " * 5 개 -> [0,0,0,0,0]\n",
    " * 3 개 -> [0,0,0]\n",
    "- 3) 사용자 메뉴를 메시지로 보여주고 메뉴를 선택 받는다.\n",
    "- < 메뉴 >\n",
    " * 1. 체크인\n",
    " * 2. 체크아웃\n",
    " * 3. 현황 보기\n",
    " * 0. 종료하기\n",
    "- 4) 사용자가 메뉴에서 0을 입력할 때까지 (1~3) 과정을 진행한다.\n",
    "\n",
    "<< 메뉴 설명 >>\n",
    "- 1. 체크인\n",
    " * 방 호수(1번부터 시작)를 입력 받는다.\n",
    " * 방이 이미 입실 중이면 \"입실 중인 방은 체크인 하실 수 없습니다.\"를 출력한다.\n",
    " * 빈 방인 경우 \"입실 완료!\"를 출력하고 메뉴로 돌아간다.\n",
    "- 2. 체크아웃\n",
    " * 방 호수(1번부터 시작)를 입력 받습니다.\n",
    " * 방이 빈 방이면 \"빈 방은 체크아웃 하실 수 없습니다.\"를 출력하세요.\n",
    " * 체크인 상태인 경우 \"퇴실 완료!\"를 출력하고 메뉴로 돌아갑니다.\n",
    "- 3. '방호수 - 상태'를 출력합니다.\n",
    " \n",
    " 출력 예)\n",
    " \n",
    " * 1호 : 빈 방\n",
    " * 2호 : 입실 중\n",
    " * 3호 : 입실 중\n",
    " * 4호 : 빈 방\n",
    " * 5호 : 빈 방\n",
    "- 0. 종료\n",
    " *  반복을 종료하고 '영업 종료' 를 출력합니다.\n",
    "    "
   ]
  },
  {
   "cell_type": "code",
   "execution_count": 103,
   "metadata": {},
   "outputs": [
    {
     "name": "stdout",
     "output_type": "stream",
     "text": [
      "방 개수:3\n",
      "[0, 0, 0]\n",
      "--------------\n",
      "1. 체크인\n",
      "2. 체크아웃\n",
      "3. 현황 보기\n",
      "0. 종료하기\n",
      "-->선택:1\n",
      "체크인 하실 호수 : 1\n",
      "입실 완료!\n",
      "--------------\n",
      "1. 체크인\n",
      "2. 체크아웃\n",
      "3. 현황 보기\n",
      "0. 종료하기\n",
      "-->선택:3\n",
      "---- 객실 현황 ----\n",
      "1번 방 - 입실 중\n",
      "2번 방 - 빈 방\n",
      "3번 방 - 빈 방\n",
      "\n",
      "--------------\n",
      "1. 체크인\n",
      "2. 체크아웃\n",
      "3. 현황 보기\n",
      "0. 종료하기\n",
      "-->선택:2\n",
      "--------------\n",
      "1. 체크인\n",
      "2. 체크아웃\n",
      "3. 현황 보기\n",
      "0. 종료하기\n",
      "-->선택:0\n",
      "프로그램 종료!\n"
     ]
    }
   ],
   "source": [
    "# 전체 방 개수 : total\n",
    "total = int(input('방 개수:'))\n",
    "\n",
    "# 방법1. for 문으로 append()\n",
    "# hotel = []\n",
    "# for n in range(total):\n",
    "#     hotel.append(0)\n",
    "\n",
    "# 방법2. 특수 for 문으로 0을 total 개 채우기\n",
    "hotel = [0 for n in range(total)]\n",
    "\n",
    "print(hotel)\n",
    "\n",
    "menu = '''--------------\n",
    "1. 체크인\n",
    "2. 체크아웃\n",
    "3. 현황 보기\n",
    "0. 종료하기\n",
    "--------------'''\n",
    "while True:\n",
    "    select = input(menu+'-->선택:')\n",
    "    if select == '1':\n",
    "        \"\"\"\n",
    "        방 호수(1번부터 시작)를 입력 받습니다.\n",
    "        방이 이미 입실 중이면 \"입실 중인 방은 체크인 하실 수 없습니다.\"를 출력하세요.\n",
    "        빈 방인 경우 \"입실 완료!\"를 출력하고 메뉴로 돌아갑니다.\n",
    "        \"\"\"\n",
    "        num = int(input('체크인 하실 호수 : '))\n",
    "        num -= 1\n",
    "        if num < 0 or num >= total:\n",
    "            print('잘못된 방 호수입니다. 메뉴로 돌아갑니다.')\n",
    "            continue\n",
    "        if hotel[num]:  # 값이 0 아니면 True 로 인식 (hotel[num] == 1)\n",
    "            print('입실 중인 방은 체크인 하실 수 없습니다.')\n",
    "            continue\n",
    "        hotel[num] = 1\n",
    "        print('입실 완료!\\n')\n",
    "\n",
    "    elif select == '2':\n",
    "        pass\n",
    "    elif select == '3':\n",
    "        s = '---- 객실 현황 ----\\n'\n",
    "        for i in range(total):\n",
    "            # 방법1\n",
    "            if hotel[i]:  # hotel[i] != 0 ---> 입실 중이니?\n",
    "                s += f'{i + 1}번 방 - 입실 중\\n'\n",
    "            else:\n",
    "                s += f'{i + 1}번 방 - 빈 방\\n'\n",
    "\n",
    "            # 방법2\n",
    "            # s += f'{i+1}번 방 - {\"입실 중\" if hotel[i] else \"빈 방\"}'\n",
    "        print(s)\n",
    "\n",
    "    elif select == '0':\n",
    "        print('프로그램 종료!')\n",
    "        break\n",
    "    else:\n",
    "        print('잘못된 입력! 다시 입력하세요.')\n"
   ]
  },
  {
   "cell_type": "markdown",
   "metadata": {},
   "source": [
    "-----------------------"
   ]
  },
  {
   "cell_type": "markdown",
   "metadata": {},
   "source": [
    "## 02.  튜플 (Tuple)"
   ]
  },
  {
   "cell_type": "code",
   "execution_count": 2,
   "metadata": {},
   "outputs": [
    {
     "name": "stdout",
     "output_type": "stream",
     "text": [
      "<class 'tuple'>\n"
     ]
    }
   ],
   "source": [
    "a = 'a', 'b', 1, 2\n",
    "print(type(a))"
   ]
  },
  {
   "cell_type": "code",
   "execution_count": 10,
   "metadata": {},
   "outputs": [
    {
     "name": "stdout",
     "output_type": "stream",
     "text": [
      "96\n",
      "80\n"
     ]
    }
   ],
   "source": [
    "L = ['a','b','c','d','e']\n",
    "T = ('a','b','c','d','e')\n",
    "\n",
    "import sys\n",
    "print(sys.getsizeof(L))\n",
    "print(sys.getsizeof(T))"
   ]
  },
  {
   "cell_type": "code",
   "execution_count": 16,
   "metadata": {},
   "outputs": [
    {
     "name": "stdout",
     "output_type": "stream",
     "text": [
      "71.3 ns ± 11.4 ns per loop (mean ± std. dev. of 7 runs, 10000000 loops each)\n"
     ]
    }
   ],
   "source": [
    "%timeit L = ['a','b','c','d','e']"
   ]
  },
  {
   "cell_type": "code",
   "execution_count": 13,
   "metadata": {},
   "outputs": [
    {
     "name": "stdout",
     "output_type": "stream",
     "text": [
      "18.4 ns ± 4.57 ns per loop (mean ± std. dev. of 7 runs, 10000000 loops each)\n"
     ]
    }
   ],
   "source": [
    "%timeit T = ('a','b','c','d','e')"
   ]
  },
  {
   "cell_type": "code",
   "execution_count": 7,
   "metadata": {
    "collapsed": true
   },
   "outputs": [
    {
     "name": "stdout",
     "output_type": "stream",
     "text": [
      "Help on class tuple in module builtins:\n",
      "\n",
      "class tuple(object)\n",
      " |  tuple(iterable=(), /)\n",
      " |  \n",
      " |  Built-in immutable sequence.\n",
      " |  \n",
      " |  If no argument is given, the constructor returns an empty tuple.\n",
      " |  If iterable is specified the tuple is initialized from iterable's items.\n",
      " |  \n",
      " |  If the argument is a tuple, the return value is the same object.\n",
      " |  \n",
      " |  Built-in subclasses:\n",
      " |      asyncgen_hooks\n",
      " |      UnraisableHookArgs\n",
      " |  \n",
      " |  Methods defined here:\n",
      " |  \n",
      " |  __add__(self, value, /)\n",
      " |      Return self+value.\n",
      " |  \n",
      " |  __contains__(self, key, /)\n",
      " |      Return key in self.\n",
      " |  \n",
      " |  __eq__(self, value, /)\n",
      " |      Return self==value.\n",
      " |  \n",
      " |  __ge__(self, value, /)\n",
      " |      Return self>=value.\n",
      " |  \n",
      " |  __getattribute__(self, name, /)\n",
      " |      Return getattr(self, name).\n",
      " |  \n",
      " |  __getitem__(self, key, /)\n",
      " |      Return self[key].\n",
      " |  \n",
      " |  __getnewargs__(self, /)\n",
      " |  \n",
      " |  __gt__(self, value, /)\n",
      " |      Return self>value.\n",
      " |  \n",
      " |  __hash__(self, /)\n",
      " |      Return hash(self).\n",
      " |  \n",
      " |  __iter__(self, /)\n",
      " |      Implement iter(self).\n",
      " |  \n",
      " |  __le__(self, value, /)\n",
      " |      Return self<=value.\n",
      " |  \n",
      " |  __len__(self, /)\n",
      " |      Return len(self).\n",
      " |  \n",
      " |  __lt__(self, value, /)\n",
      " |      Return self<value.\n",
      " |  \n",
      " |  __mul__(self, value, /)\n",
      " |      Return self*value.\n",
      " |  \n",
      " |  __ne__(self, value, /)\n",
      " |      Return self!=value.\n",
      " |  \n",
      " |  __repr__(self, /)\n",
      " |      Return repr(self).\n",
      " |  \n",
      " |  __rmul__(self, value, /)\n",
      " |      Return value*self.\n",
      " |  \n",
      " |  count(self, value, /)\n",
      " |      Return number of occurrences of value.\n",
      " |  \n",
      " |  index(self, value, start=0, stop=9223372036854775807, /)\n",
      " |      Return first index of value.\n",
      " |      \n",
      " |      Raises ValueError if the value is not present.\n",
      " |  \n",
      " |  ----------------------------------------------------------------------\n",
      " |  Static methods defined here:\n",
      " |  \n",
      " |  __new__(*args, **kwargs) from builtins.type\n",
      " |      Create and return a new object.  See help(type) for accurate signature.\n",
      "\n"
     ]
    }
   ],
   "source": [
    "help(tuple)"
   ]
  },
  {
   "cell_type": "markdown",
   "metadata": {},
   "source": [
    " 리스트와 튜플 시간 측정"
   ]
  },
  {
   "cell_type": "code",
   "execution_count": 61,
   "metadata": {},
   "outputs": [
    {
     "name": "stdout",
     "output_type": "stream",
     "text": [
      "8.330000127898529e-05\n",
      "7.90999984019436e-05\n"
     ]
    }
   ],
   "source": [
    "import timeit\n",
    "\n",
    "start = timeit.default_timer()\n",
    "listVar = [0,1,2,3,4,5,6,7,8,9]\n",
    "end = timeit.default_timer()\n",
    "print(end - start)\n",
    "\n",
    "start = timeit.default_timer()\n",
    "tupleVar = (0,1,2,3,4,5,6,7,8,9)\n",
    "end = timeit.default_timer()\n",
    "print(end - start)"
   ]
  },
  {
   "cell_type": "markdown",
   "metadata": {},
   "source": [
    "## 03. 딕셔너리 (Dictionary)"
   ]
  },
  {
   "cell_type": "code",
   "execution_count": 20,
   "metadata": {},
   "outputs": [
    {
     "data": {
      "text/plain": [
       "{'name': 'pey', 'phone': '01199993323'}"
      ]
     },
     "execution_count": 20,
     "metadata": {},
     "output_type": "execute_result"
    }
   ],
   "source": [
    "a = {'name':'pey', 'phone':'01199993323'}\n",
    "a"
   ]
  },
  {
   "cell_type": "code",
   "execution_count": 21,
   "metadata": {},
   "outputs": [
    {
     "data": {
      "text/plain": [
       "{'name': 'pey', 'phone': '01199993323'}"
      ]
     },
     "execution_count": 21,
     "metadata": {},
     "output_type": "execute_result"
    }
   ],
   "source": [
    "a = dict(name='pey', phone='01199993323')\n",
    "a"
   ]
  },
  {
   "cell_type": "code",
   "execution_count": 31,
   "metadata": {},
   "outputs": [
    {
     "data": {
      "text/plain": [
       "{'kor': 70, 'eng': 89, 'math': 95, 'music': 100, 'dance': 90}"
      ]
     },
     "execution_count": 31,
     "metadata": {},
     "output_type": "execute_result"
    }
   ],
   "source": [
    "#두 딕셔너리 합치기\n",
    "scores = {'kor':70, 'eng':89, 'math':95}\n",
    "arts = {'music': 100, 'dance': 90}\n",
    "scores.update(arts)\n",
    "scores"
   ]
  },
  {
   "cell_type": "markdown",
   "metadata": {},
   "source": [
    "### [실습문제]\n",
    "아이돌 리스트를 가지고 아이돌 이름(key)과 성적(value)이 구성된 딕셔너리를 만들고 평균을 출력하는 프로그램\n"
   ]
  },
  {
   "cell_type": "code",
   "execution_count": null,
   "metadata": {
    "scrolled": true
   },
   "outputs": [],
   "source": [
    "names = ['BTS','트와이스','블랙핑크','뉴이스트']\n",
    "idols = {}\n",
    "\n",
    "for name in names:\n",
    "    idols[name] = int(input(f'{name}의 성적은: '))\n",
    "     \n",
    "hap = 0\n",
    "for key in idols:\n",
    "    hap = hap + idols[key]\n",
    "    \n",
    "avg = hap / len(idols)\n",
    "\n",
    "print('합계 : %d, 평균 : %.2f' % (hap, avg))"
   ]
  },
  {
   "cell_type": "markdown",
   "metadata": {},
   "source": [
    "### 딕셔너리 정렬하기"
   ]
  },
  {
   "cell_type": "code",
   "execution_count": null,
   "metadata": {},
   "outputs": [],
   "source": [
    "import operator\n",
    "\n",
    "names = ['BTS','트와이스','블랙핑크','뉴이스트']\n",
    "idols = {}\n",
    "\n",
    "for name in names:\n",
    "    idols[name] = int(input(f'{name}의 성적은: '))\n",
    "    \n",
    "hap = 0\n",
    "for key in idols:\n",
    "    hap = hap + idols[key]\n",
    "    \n",
    "avg = hap / len(idols)\n",
    "\n",
    "print('합계 : %d, 평균 : %.2f' % (hap, avg))\n",
    "\n",
    "#정렬하기\n",
    "idolList = []\n",
    "idolList = sorted(idols.items(), \n",
    "               key=operator.itemgetter(1),\n",
    "               reverse=True)\n",
    "print(idolList)"
   ]
  },
  {
   "cell_type": "code",
   "execution_count": 9,
   "metadata": {},
   "outputs": [
    {
     "name": "stdout",
     "output_type": "stream",
     "text": [
      "떡볶이\n",
      "짜장면\n",
      "라면\n",
      "피자\n",
      "치킨\n",
      "삼겹살\n",
      "오뎅\n",
      "단무지\n",
      "김치\n",
      "피클\n",
      "치킨무\n",
      "상추\n",
      "('떡볶이', '오뎅')\n",
      "('짜장면', '단무지')\n",
      "('라면', '김치')\n",
      "('피자', '피클')\n",
      "('치킨', '치킨무')\n",
      "('삼겹살', '상추')\n",
      "('떡볶이', '오뎅')\n",
      "('짜장면', '단무지')\n",
      "('라면', '김치')\n",
      "('피자', '피클')\n",
      "('치킨', '치킨무')\n",
      "('삼겹살', '상추')\n"
     ]
    }
   ],
   "source": [
    "# 키 목록\n",
    "for i in foods.keys():\n",
    "    print(i)\n",
    "    \n",
    "# 값 목록\n",
    "for i in foods.values():\n",
    "    print(i)\n",
    "    \n",
    "# (키,값) 목록\n",
    "for i in foods.items():\n",
    "    print(i)\n",
    "    \n",
    "# (키,값) 목록\n",
    "for i in zip(foods.keys(), foods.values()):\n",
    "    print(i)"
   ]
  },
  {
   "cell_type": "markdown",
   "metadata": {},
   "source": [
    "### [실습문제]\n",
    "딕셔너리를 이용하여 아래와 같이 음식궁합을 알아보는 프로그램을 만드시오.\u000b",
    "단, ＇끝’을 입력하면  프로그램이 종료됨\n"
   ]
  },
  {
   "cell_type": "code",
   "execution_count": 1,
   "metadata": {},
   "outputs": [
    {
     "name": "stdout",
     "output_type": "stream",
     "text": [
      "['떡볶이', '짜장면', '라면', '피자', '치킨', '삼겹살'] 중 좋아하는 음식은? 끝\n",
      "끝\n"
     ]
    }
   ],
   "source": [
    "foods = {\"떡볶이\":\"오뎅\", \"짜장면\":\"단무지\",\"라면\":\"김치\",\n",
    "           \"피자\":\"피클\",\"치킨\":\"치킨무\",\"삼겹살\":\"상추\" }\n",
    "\n",
    "while True :\n",
    "    myfood = input(str(list(foods.keys())) + \" 중 좋아하는 음식은? \")\n",
    "    \n",
    "    if myfood in foods :\n",
    "        print(\"<%s> 궁합 음식은 <%s>입니다.\" % (myfood, foods.get(myfood)))        \n",
    "    elif myfood == \"끝\" :\n",
    "        print(myfood)\n",
    "        break\n",
    "    else :\n",
    "        print(\"그런 음식이 없습니다. 확인해 보세요.\")\n",
    "    print('-'*30)\n"
   ]
  },
  {
   "cell_type": "code",
   "execution_count": 10,
   "metadata": {},
   "outputs": [
    {
     "data": {
      "text/plain": [
       "[('떡볶이', '오뎅'),\n",
       " ('라면', '김치'),\n",
       " ('삼겹살', '상추'),\n",
       " ('짜장면', '단무지'),\n",
       " ('치킨', '치킨무'),\n",
       " ('피자', '피클')]"
      ]
     },
     "execution_count": 10,
     "metadata": {},
     "output_type": "execute_result"
    }
   ],
   "source": [
    "# 딕셔너리 키로 정렬하기\n",
    "foods = {\"떡볶이\":\"오뎅\", \"짜장면\":\"단무지\",\"라면\":\"김치\",\n",
    "           \"피자\":\"피클\",\"치킨\":\"치킨무\",\"삼겹살\":\"상추\" }\n",
    "foods = sorted(foods.items())\n",
    "foods"
   ]
  },
  {
   "cell_type": "markdown",
   "metadata": {},
   "source": [
    "### [실습문제]\n",
    "아래 조건을 만족시키는 <영어단어장 만들기> 프로그램을 만들어 보세요.\n",
    "\n",
    "영단어는 key, 그의 뜻은 value 로 두는 dictionary 를 만드세요.<br>\n",
    "<메뉴>\n",
    " - 1. 단어 등록\n",
    " - 2. 단어 검색\n",
    " - 3. 모든 단어 보기\n",
    " - 4. 퀴즈 풀기\n",
    " - 0. 종료하기\n",
    "\n",
    "1. 단어 등록 <br>\n",
    "    새 영단어와 그의 뜻을 입력 받고 dictionary 에 추가합니다.\n",
    "\n",
    "2. 단어 검색<br>\n",
    "    영단어를 입력 받아 그의 뜻을 출력합니다.<br>\n",
    "    미등록된 단어인 경우 '미등록 단어'를 출력합니다.\n",
    "\n",
    "3. 모든 단어 보기<br>\n",
    "    현재 등록되어있는 모든 단어와 뜻을 출력합니다.\n",
    "\n",
    "0. 종료하기"
   ]
  },
  {
   "cell_type": "code",
   "execution_count": 2,
   "metadata": {},
   "outputs": [
    {
     "name": "stdout",
     "output_type": "stream",
     "text": [
      "---선택메뉴--\n",
      "1. 단어 등록\n",
      "2. 단어 검색\n",
      "3. 단어 삭제\n",
      "4. 모든 단어 보기\n",
      "0. 종료하기\n",
      "------------------------------선택:1\n",
      "새 단어:apple\n",
      "apple의 뜻:사과\n",
      "------------------------------\n",
      "---선택메뉴--\n",
      "1. 단어 등록\n",
      "2. 단어 검색\n",
      "3. 단어 삭제\n",
      "4. 모든 단어 보기\n",
      "0. 종료하기\n",
      "------------------------------선택:1\n",
      "새 단어:banana\n",
      "banana의 뜻:바나나\n",
      "------------------------------\n",
      "---선택메뉴--\n",
      "1. 단어 등록\n",
      "2. 단어 검색\n",
      "3. 단어 삭제\n",
      "4. 모든 단어 보기\n",
      "0. 종료하기\n",
      "------------------------------선택:1\n",
      "새 단어:cherry\n",
      "cherry의 뜻:체리\n",
      "------------------------------\n",
      "---선택메뉴--\n",
      "1. 단어 등록\n",
      "2. 단어 검색\n",
      "3. 단어 삭제\n",
      "4. 모든 단어 보기\n",
      "0. 종료하기\n",
      "------------------------------선택:2\n",
      "검색할 단어:banana\n",
      "banana : 바나나\n",
      "------------------------------\n",
      "---선택메뉴--\n",
      "1. 단어 등록\n",
      "2. 단어 검색\n",
      "3. 단어 삭제\n",
      "4. 모든 단어 보기\n",
      "0. 종료하기\n",
      "------------------------------선택:3\n",
      "삭제할 단어:tomato\n",
      "미등록 단어\n",
      "------------------------------\n",
      "---선택메뉴--\n",
      "1. 단어 등록\n",
      "2. 단어 검색\n",
      "3. 단어 삭제\n",
      "4. 모든 단어 보기\n",
      "0. 종료하기\n",
      "------------------------------선택:3\n",
      "삭제할 단어:4\n",
      "미등록 단어\n",
      "------------------------------\n",
      "---선택메뉴--\n",
      "1. 단어 등록\n",
      "2. 단어 검색\n",
      "3. 단어 삭제\n",
      "4. 모든 단어 보기\n",
      "0. 종료하기\n",
      "------------------------------선택:4\n",
      "apple : 사과\n",
      "banana : 바나나\n",
      "cherry : 체리\n",
      "------------------------------\n",
      "---선택메뉴--\n",
      "1. 단어 등록\n",
      "2. 단어 검색\n",
      "3. 단어 삭제\n",
      "4. 모든 단어 보기\n",
      "0. 종료하기\n",
      "------------------------------선택:3\n",
      "삭제할 단어:banana\n",
      "banana (이)가 삭제됨\n",
      "------------------------------\n",
      "---선택메뉴--\n",
      "1. 단어 등록\n",
      "2. 단어 검색\n",
      "3. 단어 삭제\n",
      "4. 모든 단어 보기\n",
      "0. 종료하기\n",
      "------------------------------선택:4\n",
      "apple : 사과\n",
      "cherry : 체리\n",
      "------------------------------\n",
      "---선택메뉴--\n",
      "1. 단어 등록\n",
      "2. 단어 검색\n",
      "3. 단어 삭제\n",
      "4. 모든 단어 보기\n",
      "0. 종료하기\n",
      "------------------------------선택:0\n",
      "프로그램을 종료합니다.\n"
     ]
    }
   ],
   "source": [
    "menu = '''---선택메뉴--\n",
    "1. 단어 등록\n",
    "2. 단어 검색\n",
    "3. 단어 삭제\n",
    "4. 모든 단어 보기\n",
    "0. 종료하기\n",
    "------------------------------'''\n",
    "\n",
    "# 빈 딕셔너리를 만든다. (반복문 안에 넣지 않는다!)\n",
    "wordbook = {}\n",
    "\n",
    "while True:\n",
    "    select = input(menu+'선택:')\n",
    "\n",
    "    if select == '0':\n",
    "        print('프로그램을 종료합니다.')\n",
    "        break\n",
    "    elif select == '1':          #1. 단어 등록\n",
    "        w = input('새 단어:')\n",
    "        m = input(f'{w}의 뜻:')\n",
    "        wordbook[w] = m\n",
    "    elif select == '2':          #2. 단어 검색\n",
    "        w = input('검색할 단어:')\n",
    "        if w in wordbook:\n",
    "            print(f'{w} : {wordbook[w]}')\n",
    "        else:\n",
    "            print('미등록 단어')\n",
    "    elif select == '3':          #3. 단어 삭제\n",
    "        w = input('삭제할 단어:')\n",
    "        if w in wordbook:\n",
    "            del wordbook[w]\n",
    "            print(f'{w} (이)가 삭제됨')\n",
    "        else:\n",
    "            print('미등록 단어')\n",
    "    elif select == '4':          #4. 모든 단어 보기\n",
    "        for w, m in wordbook.items():\n",
    "            print(f'{w} : {m}')\n",
    "    else:\n",
    "        print('잘못 입력하셨습니다.')\n",
    "        \n",
    "    print('-'*30)"
   ]
  },
  {
   "cell_type": "markdown",
   "metadata": {},
   "source": [
    "### [실습문제]\n",
    "앞에서 만든 <영어단어장 만들기> 프로그램에서 아래 조건에 맞게 < 4. 퀴즈 풀기 > 기능을 추가해 보시오.\n",
    "\n",
    "<메뉴>\n",
    " - 5. 퀴즈 풀기\n",
    "\n",
    "5. 퀴즈 풀기 <br>\n",
    "    컴퓨터는 랜덤하게 영어 단어를 선택합니다.<br>\n",
    "    해당 단어의 뜻을 문제로 내고, 사용자에게 답을 입력 받습니다.<br>\n",
    "    정답 혹은 땡 을 출력합니다.<br>\n"
   ]
  },
  {
   "cell_type": "code",
   "execution_count": 71,
   "metadata": {},
   "outputs": [
    {
     "name": "stdout",
     "output_type": "stream",
     "text": [
      "---선택메뉴--\n",
      "1. 단어 등록\n",
      "2. 단어 검색\n",
      "3. 모든 단어 보기\n",
      "4. 퀴즈 풀기\n",
      "0. 종료하기\n",
      "------------------------------\n",
      "선택:1\n",
      "새 단어:apple\n",
      "apple의 뜻:사과\n",
      "------------------------------\n",
      "---선택메뉴--\n",
      "1. 단어 등록\n",
      "2. 단어 검색\n",
      "3. 모든 단어 보기\n",
      "4. 퀴즈 풀기\n",
      "0. 종료하기\n",
      "------------------------------\n",
      "선택:1\n",
      "새 단어:orange\n",
      "orange의 뜻:오렌지\n",
      "------------------------------\n",
      "---선택메뉴--\n",
      "1. 단어 등록\n",
      "2. 단어 검색\n",
      "3. 모든 단어 보기\n",
      "4. 퀴즈 풀기\n",
      "0. 종료하기\n",
      "------------------------------\n",
      "선택:4\n",
      "오렌지(은)는 영어로? : or\n",
      "-->오답.ㅠㅠ\n",
      "------------------------------\n",
      "---선택메뉴--\n",
      "1. 단어 등록\n",
      "2. 단어 검색\n",
      "3. 모든 단어 보기\n",
      "4. 퀴즈 풀기\n",
      "0. 종료하기\n",
      "------------------------------\n",
      "선택:1\n",
      "새 단어:cherry\n",
      "cherry의 뜻:체리\n",
      "------------------------------\n",
      "---선택메뉴--\n",
      "1. 단어 등록\n",
      "2. 단어 검색\n",
      "3. 모든 단어 보기\n",
      "4. 퀴즈 풀기\n",
      "0. 종료하기\n",
      "------------------------------\n",
      "선택:4\n",
      "사과(은)는 영어로? : apple\n",
      "-->정답!!!\n",
      "------------------------------\n",
      "---선택메뉴--\n",
      "1. 단어 등록\n",
      "2. 단어 검색\n",
      "3. 모든 단어 보기\n",
      "4. 퀴즈 풀기\n",
      "0. 종료하기\n",
      "------------------------------\n",
      "선택:0\n"
     ]
    }
   ],
   "source": [
    "menu = '''---선택메뉴--\n",
    "1. 단어 등록\n",
    "2. 단어 검색\n",
    "3. 단어 삭제\n",
    "4. 모든 단어 보기\n",
    "5. 퀴즈 풀기\n",
    "0. 종료하기\n",
    "------------------------------'''\n",
    "\n",
    "# 빈 딕셔너리를 만든다. (반복문 안에 넣지 않는다!)\n",
    "wordbook = {}\n",
    "\n",
    "while True:\n",
    "    select = input(menu+'선택:') \n",
    "    \n",
    "    if select == '0':\n",
    "        break\n",
    "    elif select == '1':          #1. 단어 등록\n",
    "        w = input('새 단어:')\n",
    "        m = input(f'{w}의 뜻:')\n",
    "        wordbook[w] = m\n",
    "    elif select == '2':          #2. 단어 검색\n",
    "        w = input('검색할 단어:')\n",
    "        if w in wordbook:\n",
    "            print(f'{w} : {wordbook[w]}')\n",
    "        else:\n",
    "            print('미등록 단어')\n",
    "    elif select == '3':          #3. 단어 삭제\n",
    "        w = input('삭제할 단어:')\n",
    "        if w in wordbook:\n",
    "            del wordbook[w]\n",
    "            print(f'{w} (이)가 삭제됨')\n",
    "        else:\n",
    "            print('미등록 단어')\n",
    "    elif select == '4':          #4. 모든 단어 보기\n",
    "        for w, m in wordbook.items():\n",
    "            print(f'{w} : {m}')\n",
    "    elif select == '5':          #5. 퀴즈 풀기\n",
    "\n",
    "        # 랜덤 단어 고르기.\n",
    "        import random\n",
    "        w, v = random.choice(tuple(wordbook.items()))\n",
    "\n",
    "        # 해당 단어를 key로 가진 원소의 value(뜻)을 문제로 낸다\n",
    "        answer = input(f'{v}(은)는 영어로? : ')\n",
    "\n",
    "        # 정답 여부를 확인한다.\n",
    "        if answer == w:\n",
    "            print('-->정답!!!')\n",
    "        else:\n",
    "            print('-->오답.ㅠㅠ')\n",
    "    else:\n",
    "        print('잘못 입력하셨습니다.')\n",
    "        \n",
    "    print('-'*30)"
   ]
  },
  {
   "cell_type": "markdown",
   "metadata": {},
   "source": [
    "## 04. 집합 (Set)"
   ]
  },
  {
   "cell_type": "code",
   "execution_count": 35,
   "metadata": {},
   "outputs": [
    {
     "data": {
      "text/plain": [
       "{'H', 'e', 'l', 'o'}"
      ]
     },
     "execution_count": 35,
     "metadata": {},
     "output_type": "execute_result"
    }
   ],
   "source": [
    "a = set()\n",
    "a = set([1,2,3])\n",
    "a = set(\"Hello\")\n",
    "a"
   ]
  },
  {
   "cell_type": "code",
   "execution_count": 36,
   "metadata": {},
   "outputs": [
    {
     "name": "stdout",
     "output_type": "stream",
     "text": [
      "Help on class set in module builtins:\n",
      "\n",
      "class set(object)\n",
      " |  set() -> new empty set object\n",
      " |  set(iterable) -> new set object\n",
      " |  \n",
      " |  Build an unordered collection of unique elements.\n",
      " |  \n",
      " |  Methods defined here:\n",
      " |  \n",
      " |  __and__(self, value, /)\n",
      " |      Return self&value.\n",
      " |  \n",
      " |  __contains__(...)\n",
      " |      x.__contains__(y) <==> y in x.\n",
      " |  \n",
      " |  __eq__(self, value, /)\n",
      " |      Return self==value.\n",
      " |  \n",
      " |  __ge__(self, value, /)\n",
      " |      Return self>=value.\n",
      " |  \n",
      " |  __getattribute__(self, name, /)\n",
      " |      Return getattr(self, name).\n",
      " |  \n",
      " |  __gt__(self, value, /)\n",
      " |      Return self>value.\n",
      " |  \n",
      " |  __iand__(self, value, /)\n",
      " |      Return self&=value.\n",
      " |  \n",
      " |  __init__(self, /, *args, **kwargs)\n",
      " |      Initialize self.  See help(type(self)) for accurate signature.\n",
      " |  \n",
      " |  __ior__(self, value, /)\n",
      " |      Return self|=value.\n",
      " |  \n",
      " |  __isub__(self, value, /)\n",
      " |      Return self-=value.\n",
      " |  \n",
      " |  __iter__(self, /)\n",
      " |      Implement iter(self).\n",
      " |  \n",
      " |  __ixor__(self, value, /)\n",
      " |      Return self^=value.\n",
      " |  \n",
      " |  __le__(self, value, /)\n",
      " |      Return self<=value.\n",
      " |  \n",
      " |  __len__(self, /)\n",
      " |      Return len(self).\n",
      " |  \n",
      " |  __lt__(self, value, /)\n",
      " |      Return self<value.\n",
      " |  \n",
      " |  __ne__(self, value, /)\n",
      " |      Return self!=value.\n",
      " |  \n",
      " |  __or__(self, value, /)\n",
      " |      Return self|value.\n",
      " |  \n",
      " |  __rand__(self, value, /)\n",
      " |      Return value&self.\n",
      " |  \n",
      " |  __reduce__(...)\n",
      " |      Return state information for pickling.\n",
      " |  \n",
      " |  __repr__(self, /)\n",
      " |      Return repr(self).\n",
      " |  \n",
      " |  __ror__(self, value, /)\n",
      " |      Return value|self.\n",
      " |  \n",
      " |  __rsub__(self, value, /)\n",
      " |      Return value-self.\n",
      " |  \n",
      " |  __rxor__(self, value, /)\n",
      " |      Return value^self.\n",
      " |  \n",
      " |  __sizeof__(...)\n",
      " |      S.__sizeof__() -> size of S in memory, in bytes\n",
      " |  \n",
      " |  __sub__(self, value, /)\n",
      " |      Return self-value.\n",
      " |  \n",
      " |  __xor__(self, value, /)\n",
      " |      Return self^value.\n",
      " |  \n",
      " |  add(...)\n",
      " |      Add an element to a set.\n",
      " |      \n",
      " |      This has no effect if the element is already present.\n",
      " |  \n",
      " |  clear(...)\n",
      " |      Remove all elements from this set.\n",
      " |  \n",
      " |  copy(...)\n",
      " |      Return a shallow copy of a set.\n",
      " |  \n",
      " |  difference(...)\n",
      " |      Return the difference of two or more sets as a new set.\n",
      " |      \n",
      " |      (i.e. all elements that are in this set but not the others.)\n",
      " |  \n",
      " |  difference_update(...)\n",
      " |      Remove all elements of another set from this set.\n",
      " |  \n",
      " |  discard(...)\n",
      " |      Remove an element from a set if it is a member.\n",
      " |      \n",
      " |      If the element is not a member, do nothing.\n",
      " |  \n",
      " |  intersection(...)\n",
      " |      Return the intersection of two sets as a new set.\n",
      " |      \n",
      " |      (i.e. all elements that are in both sets.)\n",
      " |  \n",
      " |  intersection_update(...)\n",
      " |      Update a set with the intersection of itself and another.\n",
      " |  \n",
      " |  isdisjoint(...)\n",
      " |      Return True if two sets have a null intersection.\n",
      " |  \n",
      " |  issubset(...)\n",
      " |      Report whether another set contains this set.\n",
      " |  \n",
      " |  issuperset(...)\n",
      " |      Report whether this set contains another set.\n",
      " |  \n",
      " |  pop(...)\n",
      " |      Remove and return an arbitrary set element.\n",
      " |      Raises KeyError if the set is empty.\n",
      " |  \n",
      " |  remove(...)\n",
      " |      Remove an element from a set; it must be a member.\n",
      " |      \n",
      " |      If the element is not a member, raise a KeyError.\n",
      " |  \n",
      " |  symmetric_difference(...)\n",
      " |      Return the symmetric difference of two sets as a new set.\n",
      " |      \n",
      " |      (i.e. all elements that are in exactly one of the sets.)\n",
      " |  \n",
      " |  symmetric_difference_update(...)\n",
      " |      Update a set with the symmetric difference of itself and another.\n",
      " |  \n",
      " |  union(...)\n",
      " |      Return the union of sets as a new set.\n",
      " |      \n",
      " |      (i.e. all elements that are in either set.)\n",
      " |  \n",
      " |  update(...)\n",
      " |      Update a set with the union of itself and others.\n",
      " |  \n",
      " |  ----------------------------------------------------------------------\n",
      " |  Static methods defined here:\n",
      " |  \n",
      " |  __new__(*args, **kwargs) from builtins.type\n",
      " |      Create and return a new object.  See help(type) for accurate signature.\n",
      " |  \n",
      " |  ----------------------------------------------------------------------\n",
      " |  Data and other attributes defined here:\n",
      " |  \n",
      " |  __hash__ = None\n",
      "\n"
     ]
    }
   ],
   "source": [
    "help(set)"
   ]
  },
  {
   "cell_type": "markdown",
   "metadata": {},
   "source": [
    "### 실습문제\n"
   ]
  },
  {
   "cell_type": "code",
   "execution_count": 107,
   "metadata": {},
   "outputs": [
    {
     "name": "stdout",
     "output_type": "stream",
     "text": [
      "{1, 2, 3, 'c', 'a', 'b'}\n",
      "{1, 2, 3, 4, 'c', 'd', 'a', 'e', 'b'}\n",
      "{1, 2, 3, 4, 'd', 'a', 'e', 'b'}\n",
      "{1, 2, 3, 4, 'a', 'e', 'b'}\n",
      "{2, 3, 4, 'a', 'e', 'b'}\n",
      "set()\n"
     ]
    }
   ],
   "source": [
    "S = {1, 2, 3, 'a', 'b'}\n",
    "\n",
    "# 요소 1개 추가\n",
    "S.add('c')\n",
    "print(S)\n",
    "\n",
    "# 요소 여러 개 추가\n",
    "S.update(['d','e',4])\n",
    "print(S)\n",
    "\n",
    "# 요소 1개 삭제   \n",
    "S.discard('c')\n",
    "print(S)\n",
    "\n",
    "# 요소 1개 삭제   (원소가 없으면 오류)\n",
    "S.remove('d')\n",
    "print(S)\n",
    "\n",
    "# 아무 원소나 꺼낸다 (집합이 비어있으면 오류)\n",
    "S.pop()\n",
    "print(S)\n",
    "\n",
    "# 모든 원소를 제거\n",
    "S.clear()\n",
    "print(S)"
   ]
  },
  {
   "cell_type": "markdown",
   "metadata": {},
   "source": [
    "## 05. 컴프리헨션 (Comprehension)"
   ]
  },
  {
   "cell_type": "markdown",
   "metadata": {},
   "source": [
    "#### 1~10을 요소로 갖는 리스트 만들기"
   ]
  },
  {
   "cell_type": "code",
   "execution_count": 108,
   "metadata": {},
   "outputs": [
    {
     "data": {
      "text/plain": [
       "[1, 2, 3, 4, 5, 6, 7, 8, 9, 10]"
      ]
     },
     "execution_count": 108,
     "metadata": {},
     "output_type": "execute_result"
    }
   ],
   "source": [
    "[i for i in range(1,11)]"
   ]
  },
  {
   "cell_type": "markdown",
   "metadata": {},
   "source": [
    "#### 1~10의 제곱근을 갖는 리스트 만들기"
   ]
  },
  {
   "cell_type": "code",
   "execution_count": 109,
   "metadata": {},
   "outputs": [
    {
     "data": {
      "text/plain": [
       "[1, 4, 9, 16, 25, 36, 49, 64, 81, 100]"
      ]
     },
     "execution_count": 109,
     "metadata": {},
     "output_type": "execute_result"
    }
   ],
   "source": [
    "[i*i for i in range(1,11)]"
   ]
  },
  {
   "cell_type": "markdown",
   "metadata": {},
   "source": [
    "#### 1~20숫자 중에서 3의 배수로만 리스트 구성\n"
   ]
  },
  {
   "cell_type": "code",
   "execution_count": 40,
   "metadata": {},
   "outputs": [
    {
     "data": {
      "text/plain": [
       "[3, 6, 9, 12, 15, 18]"
      ]
     },
     "execution_count": 40,
     "metadata": {},
     "output_type": "execute_result"
    }
   ],
   "source": [
    "[i for i in range(1,21) if i%3==0]"
   ]
  },
  {
   "cell_type": "code",
   "execution_count": 41,
   "metadata": {},
   "outputs": [
    {
     "data": {
      "text/plain": [
       "[2, 2, 1, 2, 2, 1, 2, 2, 1, 2, 2, 1, 2, 2, 1, 2, 2, 1, 2, 2]"
      ]
     },
     "execution_count": 41,
     "metadata": {},
     "output_type": "execute_result"
    }
   ],
   "source": [
    "[1 if i%3==0 else 2 for i in range(1,21) ]"
   ]
  },
  {
   "cell_type": "markdown",
   "metadata": {},
   "source": [
    "#### (row, col) 튜플 리스트 만들기"
   ]
  },
  {
   "cell_type": "code",
   "execution_count": 113,
   "metadata": {},
   "outputs": [
    {
     "name": "stdout",
     "output_type": "stream",
     "text": [
      "[(1, 1), (1, 2), (2, 1), (2, 2), (3, 1), (3, 2)]\n"
     ]
    }
   ],
   "source": [
    "rows = range(1,4)\n",
    "cols = range(1,3)\n",
    "cells = [(row, col) for row in rows for col in cols]\n",
    "print(cells)"
   ]
  },
  {
   "cell_type": "markdown",
   "metadata": {},
   "source": [
    "### zip() "
   ]
  },
  {
   "cell_type": "code",
   "execution_count": 114,
   "metadata": {
    "scrolled": true
   },
   "outputs": [
    {
     "name": "stdout",
     "output_type": "stream",
     "text": [
      "떡볶이 --> 오뎅\n",
      "짜장면 --> 단무지\n",
      "라면 --> 김치\n"
     ]
    }
   ],
   "source": [
    "foods = ['떡볶이','짜장면','라면','피자','맥주','치킨','삼겹살']\n",
    "sides = ['오뎅','단무지','김치']\n",
    "for food, side in zip(foods, sides):\n",
    "    print(food, '-->', side)"
   ]
  },
  {
   "cell_type": "code",
   "execution_count": 120,
   "metadata": {},
   "outputs": [
    {
     "name": "stdout",
     "output_type": "stream",
     "text": [
      "[('떡볶이', '오뎅'), ('짜장면', '단무지'), ('라면', '김치')]\n"
     ]
    }
   ],
   "source": [
    "tuplist = list(zip(foods,sides))\n",
    "print(tuplist)"
   ]
  },
  {
   "cell_type": "code",
   "execution_count": 121,
   "metadata": {},
   "outputs": [
    {
     "name": "stdout",
     "output_type": "stream",
     "text": [
      "{'떡볶이': '오뎅', '짜장면': '단무지', '라면': '김치'}\n"
     ]
    }
   ],
   "source": [
    "dic = dict(zip(foods,sides))\n",
    "print(dic)"
   ]
  }
 ],
 "metadata": {
  "kernelspec": {
   "display_name": "Python 3",
   "language": "python",
   "name": "python3"
  },
  "language_info": {
   "codemirror_mode": {
    "name": "ipython",
    "version": 3
   },
   "file_extension": ".py",
   "mimetype": "text/x-python",
   "name": "python",
   "nbconvert_exporter": "python",
   "pygments_lexer": "ipython3",
   "version": "3.9.10"
  }
 },
 "nbformat": 4,
 "nbformat_minor": 4
}
