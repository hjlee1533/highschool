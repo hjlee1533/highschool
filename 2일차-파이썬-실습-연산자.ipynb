{
 "cells": [
  {
   "cell_type": "markdown",
   "id": "cffb5510",
   "metadata": {},
   "source": [
    "# 2.파이썬 연산자"
   ]
  },
  {
   "cell_type": "markdown",
   "id": "48ab4f2b",
   "metadata": {},
   "source": [
    "## 연산자 종류 \n",
    "\n",
    "1. 산술연산자\n",
    "2. 대입연산자\n",
    "3. 관계연산자\n",
    "4. 논리연산자"
   ]
  },
  {
   "cell_type": "markdown",
   "id": "5c5eb73c",
   "metadata": {},
   "source": [
    "### [실습문제] 동전 교환기 프로그램 만들기"
   ]
  },
  {
   "cell_type": "code",
   "execution_count": 3,
   "id": "7b9afa92",
   "metadata": {},
   "outputs": [
    {
     "name": "stdout",
     "output_type": "stream",
     "text": [
      "동전으로 교환할 금액을 입력하세요: 4321\n",
      "500원짜리 ==> 8개\n",
      "100원짜리 ==> 3개\n"
     ]
    }
   ],
   "source": [
    "money = int( input('동전으로 교환할 금액을 입력하세요(원): ') )\n",
    "\n",
    "c500, c100, c50, c10 = 0, 0, 0, 0\n",
    "\n",
    "c500 = money // 500\n",
    "money= money % 500\n",
    "\n",
    "c100 = money // 100; money %= 100\n",
    "\n",
    "print('-'*30)\n",
    "print(f'500원짜리 ==> {c500}개')\n",
    "print(f'100원짜리 ==> {c100}개')"
   ]
  },
  {
   "cell_type": "code",
   "execution_count": 5,
   "id": "a5d02af5",
   "metadata": {},
   "outputs": [
    {
     "name": "stdout",
     "output_type": "stream",
     "text": [
      "동전으로 교환할 금액을 입력하세요: 4321\n",
      "<class 'int'> <class 'int'>\n",
      "500원짜리 ==> 8개\n"
     ]
    }
   ],
   "source": [
    "money =int(input('동전으로 교환할 금액을 입력하세요: '))\n",
    "a,b,c,d=0,0,0,0\n",
    "a= money // 500\n",
    "money= money % 500\n",
    "b= money// 100\n",
    "money= money %  100\n",
    "c = money // 50\n",
    "money= money %  50\n",
    "d=money // 10\n",
    "print(type(d), type(money))\n",
    "money= money %  10\n",
    "print(f'500원짜리 ==> {a}개')"
   ]
  },
  {
   "cell_type": "markdown",
   "id": "b582ab13",
   "metadata": {},
   "source": [
    "### [실습문제] 논리곱(&)과 이진수 변환하기"
   ]
  },
  {
   "cell_type": "code",
   "execution_count": 7,
   "id": "6e058316",
   "metadata": {},
   "outputs": [
    {
     "name": "stdout",
     "output_type": "stream",
     "text": [
      "입력 숫자(num1): 100\n",
      "입력 숫자(num2): 50\n",
      "------------------------------\n",
      "100(num1) & 50(num2)의 논리곱(num3) = 32  \n",
      "\n",
      "100의 2진수: 0b1100100\n",
      "50의 2진수: 0b110010\n",
      "32의 2진수: 0b100000\n"
     ]
    }
   ],
   "source": [
    "num1 = int( input('입력 숫자(num1): '))\n",
    "num2 = int( input('입력 숫자(num2): '))\n",
    "num3 = num1 & num2  # 논리곱\n",
    "\n",
    "print('-'*30)\n",
    "print(f'{num1}(num1) & {num2}(num2)의 논리곱(num3) = {num3}  ')\n",
    "print()\n",
    "print(f'{num1}의 2진수: {bin(num1)}')\n",
    "print(f'{num2}의 2진수: {bin(num2)}')\n",
    "print(f'{num3}의 2진수: {bin(num3)}')\n",
    "print('-'*30)"
   ]
  },
  {
   "cell_type": "code",
   "execution_count": 13,
   "id": "e4120e9f",
   "metadata": {},
   "outputs": [
    {
     "name": "stdout",
     "output_type": "stream",
     "text": [
      "0b1100100 01100100\n",
      "0b110010 00110010\n",
      "0b100000 00100000\n"
     ]
    }
   ],
   "source": [
    "# print(f'{bin(num1)} {bin(num1)[2:]}')\n",
    "\n",
    "# a = bin(num1)\n",
    "# print(f'{a} {a[2:]}')\n",
    "\n",
    "print(f'{bin(num1)} {bin(num1)[2:]:0>8}') # 8자리 중에서 앞에서부터 0으로 채워라\n",
    "print(f'{bin(num2)} {bin(num2)[2:]:0>8}')\n",
    "print(f'{bin(num3)} {bin(num3)[2:]:0>8}')"
   ]
  },
  {
   "cell_type": "markdown",
   "id": "3ca4a3f9",
   "metadata": {},
   "source": [
    "### [실습문제] 진수 변경하기"
   ]
  },
  {
   "cell_type": "code",
   "execution_count": 16,
   "id": "1f586529",
   "metadata": {},
   "outputs": [
    {
     "name": "stdout",
     "output_type": "stream",
     "text": [
      "입력 진수 결정(16/10/8/2): 16\n",
      "10진수 숫자: 45\n",
      "------------------------------\n",
      "변환된 수: 69\n",
      "16진수 ==> 0x45\n",
      "10진수 ==> 69\n",
      "8진수  ==> 0o105\n",
      "2진수  ==> 0b1000101\n"
     ]
    }
   ],
   "source": [
    "sel = input('입력 진수 결정(16/10/8/2): ')\n",
    "num = input('10진수 숫자: ')\n",
    "print('-'*30)\n",
    "\n",
    "if sel == '16':\n",
    "    num = int(num, 16)\n",
    "if sel == '10':\n",
    "    num = int(num, 10)\n",
    "if sel == '8':\n",
    "    num = int(num, 8)\n",
    "if sel == '2':\n",
    "    num = int(num, 2) \n",
    "    \n",
    "print(f'변환된 수: {num}')\n",
    "print(f'16진수 ==> {hex(num)}')\n",
    "print(f'10진수 ==> {num}')\n",
    "print(f'8진수  ==> {oct(num)}')\n",
    "print(f'2진수  ==> {bin(num)}')"
   ]
  },
  {
   "cell_type": "markdown",
   "id": "cda48eeb",
   "metadata": {},
   "source": [
    "## if 조건문\n",
    "- if ~ else 구문"
   ]
  },
  {
   "cell_type": "code",
   "execution_count": 18,
   "id": "8956f086",
   "metadata": {},
   "outputs": [
    {
     "name": "stdout",
     "output_type": "stream",
     "text": [
      "숫자 입력: 120\n",
      "120(은)는 100보다 큰 수\n"
     ]
    }
   ],
   "source": [
    "a = int( input('숫자 입력: '))\n",
    "\n",
    "if a > 100:\n",
    "    print(f'{a}(은)는 100보다 큰 수')\n",
    "else:\n",
    "    print(f'{a}(은)는 100보다 작거나 같은 수')"
   ]
  },
  {
   "cell_type": "markdown",
   "id": "ed385d16",
   "metadata": {},
   "source": [
    "- 중첩 if 구문"
   ]
  },
  {
   "cell_type": "code",
   "execution_count": 19,
   "id": "76260735",
   "metadata": {},
   "outputs": [
    {
     "name": "stdout",
     "output_type": "stream",
     "text": [
      "숫자 입력: 120\n",
      "120(은)는 100보다 큰 수\n",
      "120는 짝수\n"
     ]
    }
   ],
   "source": [
    "    \n",
    "a = int( input('숫자 입력: '))\n",
    "\n",
    "\n",
    "if a > 100:\n",
    "    print(f'{a}(은)는 100보다 큰 수')\n",
    "    if a%2 == 0:\n",
    "        print(f'{a}는 짝수')\n",
    "    else:\n",
    "        print(f'{a}는 홀수')\n",
    "else:\n",
    "    print(f'{a}(은)는 100보다 작거나 같은 수')    \n",
    "    if a%2 == 0:\n",
    "        print(f'{a}는 짝수')\n",
    "    else:\n",
    "        print(f'{a}는 홀수')\n",
    "        \n",
    "        "
   ]
  },
  {
   "cell_type": "markdown",
   "id": "f03b5eb3",
   "metadata": {},
   "source": [
    "### [실습문제] 성적에 따른 등급 출력하기 ---------------"
   ]
  },
  {
   "cell_type": "code",
   "execution_count": null,
   "id": "170244fe",
   "metadata": {},
   "outputs": [],
   "source": [
    "x = int(input('성적을 입력해 주세요.: '))\n",
    "\n",
    "if x > 89:  # 90 ~ 100\n",
    "    grade = 'A'\n",
    "else:\n",
    "    if x > 79: # 80 ~ 89\n",
    "        grade = 'B'\n",
    "    else:\n",
    "        if x > 69: # 70 ~ 79\n",
    "            grade = 'C'\n",
    "        else:\n",
    "            grade = 'D'\n",
    "            \n",
    "print('-'*30)\n",
    "print(f'성적 {x}는 {grade}등급 입니다.')\n",
    "        "
   ]
  },
  {
   "cell_type": "code",
   "execution_count": null,
   "id": "9cc88044",
   "metadata": {},
   "outputs": [],
   "source": [
    "x = int(input('성적을 입력해 주세요: '))\n",
    "grade = 'D'\n",
    "\n",
    "if x > 89 :  \n",
    "    grade = 'A'\n",
    "elif x > 79 :\n",
    "    grade = 'B'\n",
    "elif x > 69 :\n",
    "    grade = 'C'\n",
    "    \n",
    "print('성적: %d 는 %s 등급 입니다.' % (x, grade))"
   ]
  },
  {
   "cell_type": "code",
   "execution_count": null,
   "id": "38e0658f",
   "metadata": {},
   "outputs": [],
   "source": []
  },
  {
   "cell_type": "code",
   "execution_count": null,
   "id": "4af4a8cc",
   "metadata": {},
   "outputs": [],
   "source": [
    "a=int(input('기부금(만원)을 입력해주세요.:'))\n",
    "\n",
    "if a>500:\n",
    "    grade='VIP'\n",
    "else:\n",
    "    if a>300:\n",
    "        grade='diamond'\n",
    "    else:\n",
    "        if a>200:\n",
    "            grade='gold'\n",
    "        else:\n",
    "            grade='silver'\n",
    "\n",
    "print('-'*30)\n",
    "print(f' {a}만원(은)는 {grade}등급 입니다.')"
   ]
  },
  {
   "cell_type": "code",
   "execution_count": null,
   "id": "126f3c8b",
   "metadata": {},
   "outputs": [],
   "source": [
    "c=int(input('온도가 몇도 입니까?:'))\n",
    "if c>=30:\n",
    "    print('에어컨을 키세요')\n",
    "if 20 <= c < 30:\n",
    "    print('가만히 계세요')\n",
    "if c<20:\n",
    "    print('내복을 입으세요')\n",
    "if c<=10:\n",
    "    print('난방기도 키세요')"
   ]
  },
  {
   "cell_type": "code",
   "execution_count": null,
   "id": "093b54a6",
   "metadata": {},
   "outputs": [],
   "source": [
    "b = int(input('배터리를 입력해 주세요: '))\n",
    "\n",
    "print('-'*30)\n",
    "if b==100:\n",
    "    print('충전이 완료되었습니다')\n",
    "elif b>59:\n",
    "    print('배터리가 충분합니다')\n",
    "elif b>29:\n",
    "    print('배터리가 부족합니다')\n",
    "elif b>=0:\n",
    "    print('충전기를 연결하세요')"
   ]
  },
  {
   "cell_type": "code",
   "execution_count": 22,
   "id": "a2c5c684",
   "metadata": {},
   "outputs": [
    {
     "name": "stdout",
     "output_type": "stream",
     "text": [
      "학원시작 시간:14\n",
      "2022-07-22 13:22:59.854364\n",
      "------------------------------\n",
      "시간이 남아있다.\n"
     ]
    }
   ],
   "source": [
    "import datetime\n",
    "\n",
    "num = int(input('학원시작 시간:'))\n",
    "now = str(datetime.datetime.now())\n",
    "\n",
    "print(now)\n",
    "print('-'*30)\n",
    "time_side = now.split(' ')\n",
    "time=time_side[1].split(':')\n",
    "if int(time[0])<num:\n",
    "    print('시간이 남아있다.')\n",
    "elif int(time[0])>num:\n",
    "    print('늦었다. 넌X됬어.')\n",
    "else:\n",
    "    print('지금이 그시간이야.')"
   ]
  },
  {
   "cell_type": "code",
   "execution_count": 23,
   "id": "8e454a41",
   "metadata": {},
   "outputs": [
    {
     "name": "stdout",
     "output_type": "stream",
     "text": [
      "현재 시각 : 1 시\n",
      "전등 : 켜짐\n",
      "————————————————————\n",
      "현재 시각 : 1 시\n",
      "전등 : 켜짐\n",
      "————————————————————\n",
      "현재 시각 : 1 시\n",
      "전등 : 켜짐\n",
      "————————————————————\n",
      "현재 시각 : 1 시\n",
      "전등 : 켜짐\n",
      "————————————————————\n",
      "현재 시각 : 1 시\n",
      "전등 : 켜짐\n",
      "————————————————————\n",
      "현재 시각 : 1 시\n",
      "전등 : 켜짐\n",
      "————————————————————\n",
      "현재 시각 : 1 시\n",
      "전등 : 켜짐\n",
      "————————————————————\n",
      "현재 시각 : 1 시\n",
      "전등 : 켜짐\n",
      "————————————————————\n",
      "현재 시각 : 1 시\n",
      "전등 : 켜짐\n",
      "————————————————————\n",
      "현재 시각 : 1 시\n",
      "전등 : 켜짐\n",
      "————————————————————\n",
      "현재 시각 : 1 시\n",
      "전등 : 켜짐\n",
      "————————————————————\n",
      "현재 시각 : 1 시\n",
      "전등 : 켜짐\n",
      "————————————————————\n",
      "현재 시각 : 1 시\n",
      "전등 : 켜짐\n",
      "————————————————————\n",
      "현재 시각 : 1 시\n",
      "전등 : 켜짐\n",
      "————————————————————\n",
      "현재 시각 : 1 시\n",
      "전등 : 켜짐\n",
      "————————————————————\n",
      "현재 시각 : 1 시\n",
      "전등 : 켜짐\n",
      "————————————————————\n",
      "현재 시각 : 1 시\n",
      "전등 : 켜짐\n",
      "————————————————————\n",
      "현재 시각 : 1 시\n",
      "전등 : 켜짐\n",
      "————————————————————\n",
      "현재 시각 : 1 시\n",
      "전등 : 켜짐\n",
      "————————————————————\n",
      "현재 시각 : 1 시\n",
      "전등 : 켜짐\n",
      "————————————————————\n",
      "현재 시각 : 1 시\n",
      "전등 : 켜짐\n",
      "————————————————————\n",
      "현재 시각 : 1 시\n",
      "전등 : 켜짐\n",
      "————————————————————\n",
      "현재 시각 : 1 시\n",
      "전등 : 켜짐\n",
      "————————————————————\n",
      "현재 시각 : 1 시\n",
      "전등 : 켜짐\n",
      "————————————————————\n",
      "현재 시각 : 1 시\n",
      "전등 : 켜짐\n",
      "————————————————————\n",
      "현재 시각 : 1 시\n",
      "전등 : 켜짐\n",
      "————————————————————\n",
      "현재 시각 : 1 시\n",
      "전등 : 켜짐\n",
      "————————————————————\n",
      "현재 시각 : 1 시\n",
      "전등 : 켜짐\n",
      "————————————————————\n",
      "현재 시각 : 1 시\n",
      "전등 : 켜짐\n",
      "————————————————————\n",
      "현재 시각 : 1 시\n",
      "전등 : 켜짐\n",
      "————————————————————\n",
      "현재 시각 : 1 시\n",
      "전등 : 켜짐\n",
      "————————————————————\n",
      "현재 시각 : 1 시\n",
      "전등 : 켜짐\n",
      "————————————————————\n",
      "현재 시각 : 1 시\n",
      "전등 : 켜짐\n",
      "————————————————————\n",
      "현재 시각 : 1 시\n",
      "전등 : 켜짐\n",
      "————————————————————\n",
      "현재 시각 : 1 시\n",
      "전등 : 켜짐\n",
      "————————————————————\n",
      "현재 시각 : 1 시\n",
      "전등 : 켜짐\n",
      "————————————————————\n",
      "현재 시각 : 1 시\n",
      "전등 : 켜짐\n",
      "————————————————————\n",
      "현재 시각 : 1 시\n",
      "전등 : 켜짐\n",
      "————————————————————\n",
      "현재 시각 : 1 시\n",
      "전등 : 켜짐\n",
      "————————————————————\n",
      "현재 시각 : 1 시\n",
      "전등 : 켜짐\n",
      "————————————————————\n",
      "현재 시각 : 1 시\n",
      "전등 : 켜짐\n",
      "————————————————————\n",
      "현재 시각 : 1 시\n",
      "전등 : 켜짐\n",
      "————————————————————\n"
     ]
    },
    {
     "ename": "KeyboardInterrupt",
     "evalue": "",
     "output_type": "error",
     "traceback": [
      "\u001b[1;31m---------------------------------------------------------------------------\u001b[0m",
      "\u001b[1;31mKeyboardInterrupt\u001b[0m                         Traceback (most recent call last)",
      "Input \u001b[1;32mIn [23]\u001b[0m, in \u001b[0;36m<cell line: 11>\u001b[1;34m()\u001b[0m\n\u001b[0;32m     23\u001b[0m     \u001b[38;5;28mprint\u001b[39m(\u001b[38;5;124m\"\u001b[39m\u001b[38;5;124m전등 : 꺼짐\u001b[39m\u001b[38;5;124m\"\u001b[39m)\n\u001b[0;32m     24\u001b[0m \u001b[38;5;28mprint\u001b[39m(\u001b[38;5;124m\"\u001b[39m\u001b[38;5;124m—\u001b[39m\u001b[38;5;124m\"\u001b[39m \u001b[38;5;241m*\u001b[39m \u001b[38;5;241m20\u001b[39m)\n\u001b[1;32m---> 26\u001b[0m \u001b[43mTM\u001b[49m\u001b[38;5;241;43m.\u001b[39;49m\u001b[43msleep\u001b[49m\u001b[43m(\u001b[49m\u001b[38;5;241;43m1\u001b[39;49m\u001b[43m)\u001b[49m\n",
      "\u001b[1;31mKeyboardInterrupt\u001b[0m: "
     ]
    }
   ],
   "source": [
    "import datetime\n",
    "import time as TM\n",
    "\n",
    "time = str(datetime.datetime.now())\n",
    "light = 0\n",
    "\n",
    "time = time.split()\n",
    "time = int(time[1][:2])\n",
    "\n",
    "while True:\n",
    "    if time >= 6:\n",
    "        light = 1\n",
    "    elif time >= 20:\n",
    "        light = 0\n",
    "\n",
    "    if time > 12:\n",
    "        print(\"현재 시각 :\", time - 12, \"시\")\n",
    "    else:\n",
    "        print(\"현재 시각 :\", time, \"시\")\n",
    "    if light == 1:\n",
    "        print(\"전등 : 켜짐\")\n",
    "    else:\n",
    "        print(\"전등 : 꺼짐\")\n",
    "    print(\"—\" * 20)\n",
    "    \n",
    "    TM.sleep(1)"
   ]
  },
  {
   "cell_type": "code",
   "execution_count": null,
   "id": "a4ec097d",
   "metadata": {},
   "outputs": [],
   "source": [
    "### [실습문제] 주민번호로 정보 유추하기"
   ]
  },
  {
   "cell_type": "code",
   "execution_count": 26,
   "id": "f44b438e",
   "metadata": {},
   "outputs": [
    {
     "name": "stdout",
     "output_type": "stream",
     "text": [
      "주민번호: 870701-2409184\n"
     ]
    }
   ],
   "source": [
    "a = input('주민번호: ')"
   ]
  },
  {
   "cell_type": "code",
   "execution_count": 29,
   "id": "c654f4d2",
   "metadata": {},
   "outputs": [
    {
     "name": "stdout",
     "output_type": "stream",
     "text": [
      "여성 35\n",
      "당신은 1987년 07월 01일 35세 여성 입니다 \n"
     ]
    }
   ],
   "source": [
    "gender = a[7]\n",
    "yy = a[:2]\n",
    "mm = a[2:4]\n",
    "dd = a[4:6]\n",
    "\n",
    "if gender == '1' or gender == '2':\n",
    "    yy = '19'+a[:2]\n",
    "    if gender == '1':\n",
    "        gender = '남성'\n",
    "    else:\n",
    "        gender = '여성'\n",
    "else:\n",
    "    yy = '20'+a[:2]\n",
    "    if gender == '3':\n",
    "        gender = '남성'\n",
    "    else:\n",
    "        gender = '여성'\n",
    "        \n",
    "import datetime\n",
    "\n",
    "now = str(datetime.datetime.now())\n",
    "age = int(now[:4]) - int(yy)\n",
    "print(gender, age)\n",
    "\n",
    "print(f'당신은 {yy}년 {mm}월 {dd}일 {age}세 {gender} 입니다 ')"
   ]
  },
  {
   "cell_type": "markdown",
   "id": "a688f672",
   "metadata": {},
   "source": [
    "### [실습문제] 커피 자동주문 머신 만들기 ----"
   ]
  },
  {
   "cell_type": "code",
   "execution_count": 31,
   "id": "2d675db6",
   "metadata": {},
   "outputs": [
    {
     "name": "stdout",
     "output_type": "stream",
     "text": [
      "[커피 자동주문 머신 메뉴]\n",
      "-----------------------\n",
      "-아메리카노는 2500원\n",
      "-카페라떼는 3000원\n",
      "-카푸치노는 3000원\n",
      "입니다. 원하시는 커피종류와 잔 수를 입력하세요.\n",
      "-----------------------\n",
      "아메리카노 몇잔? : 2\n",
      "카페라떼 몇잔? : 1\n",
      "카푸치노 몇잔? : 1\n",
      "지불할 총 금액은 11000원 입니다.\n",
      "\n",
      "돈을 넣어주세요(원)~: 9500\n",
      "돈이 부족합니다. 1500원 을 더 넣어주세요\n"
     ]
    }
   ],
   "source": [
    "menu = '''[커피 자동주문 머신 메뉴]\n",
    "-----------------------\n",
    "-아메리카노는 2500원\n",
    "-카페라떼는 3000원\n",
    "-카푸치노는 3000원\n",
    "입니다. 원하시는 커피종류와 잔 수를 입력하세요.\n",
    "-----------------------\\n'''\n",
    "coffee1 = int(input(menu+'아메리카노 몇잔? : '))\n",
    "coffee2 = int(input('카페라떼 몇잔? : '))\n",
    "coffee3 = int(input('카푸치노 몇잔? : '))\n",
    "total = coffee1*2500 + coffee2*3000 + coffee3*3000\n",
    "print(f'지불할 총 금액은 {total}원 입니다.')\n",
    "print()\n",
    "\n",
    "money = int(input('돈을 넣어주세요(원)~: '))\n",
    "change = money - total\n",
    "if change < 0:\n",
    "    print(f'돈이 부족합니다. {change*-1}원 을 더 넣어주세요')\n",
    "else:\n",
    "    print(f'거스름돈은 {change}원 입니다.')"
   ]
  },
  {
   "cell_type": "code",
   "execution_count": 36,
   "id": "64c4ef2d",
   "metadata": {
    "scrolled": false
   },
   "outputs": [
    {
     "name": "stdout",
     "output_type": "stream",
     "text": [
      "충전되어 있는 돈: 10000\n",
      "\n",
      "[대충 커미 머신이라는것]\n",
      "----------------------------------------\n",
      "- 아메리카노는 2500원\n",
      "- 카페라떼는 3000원\n",
      "- 카푸치노는 3000원\n",
      "원하는 커피 잔수를 각각 입력하세요\n",
      "----------------------------------------\n",
      "아메리카노 개수: 2\n",
      "카페라떼 개수: 1\n",
      "카푸치노 개수: 1\n",
      "지불할 금액은 11000 원 입니다.\n",
      "충전금액[10000]: 지불할 값을 넣어주세요: 10000\n",
      "값이 부족합니다. 1000 원 만큼 더 입력해주세요.\n",
      "------------------------------\n",
      "충전금액[10000]: 지불할 값을 넣어주세요: 10500\n",
      "충전 잔액이 부족합니다.\n"
     ]
    },
    {
     "ename": "KeyboardInterrupt",
     "evalue": "Interrupted by user",
     "output_type": "error",
     "traceback": [
      "\u001b[1;31m---------------------------------------------------------------------------\u001b[0m",
      "\u001b[1;31mKeyboardInterrupt\u001b[0m                         Traceback (most recent call last)",
      "Input \u001b[1;32mIn [36]\u001b[0m, in \u001b[0;36m<cell line: 18>\u001b[1;34m()\u001b[0m\n\u001b[0;32m     19\u001b[0m \u001b[38;5;28;01mif\u001b[39;00m d \u001b[38;5;241m>\u001b[39m money:\n\u001b[0;32m     20\u001b[0m     \u001b[38;5;28mprint\u001b[39m(\u001b[38;5;124m\"\u001b[39m\u001b[38;5;124m충전 잔액이 부족합니다.\u001b[39m\u001b[38;5;124m\"\u001b[39m)\n\u001b[1;32m---> 21\u001b[0m     money \u001b[38;5;241m+\u001b[39m\u001b[38;5;241m=\u001b[39m \u001b[38;5;28mint\u001b[39m(\u001b[38;5;28;43minput\u001b[39;49m\u001b[43m(\u001b[49m\u001b[38;5;124;43m\"\u001b[39;49m\u001b[38;5;124;43m잔액을 더 추가해주세요.\u001b[39;49m\u001b[38;5;124;43m\"\u001b[39;49m\u001b[43m)\u001b[49m)\n\u001b[0;32m     22\u001b[0m \u001b[38;5;28;01melse\u001b[39;00m:\n\u001b[0;32m     23\u001b[0m     \u001b[38;5;28;01mif\u001b[39;00m d \u001b[38;5;241m>\u001b[39m\u001b[38;5;241m=\u001b[39m e:\n",
      "File \u001b[1;32mC:\\python\\Python39\\lib\\site-packages\\ipykernel\\kernelbase.py:1177\u001b[0m, in \u001b[0;36mKernel.raw_input\u001b[1;34m(self, prompt)\u001b[0m\n\u001b[0;32m   1173\u001b[0m \u001b[38;5;28;01mif\u001b[39;00m \u001b[38;5;129;01mnot\u001b[39;00m \u001b[38;5;28mself\u001b[39m\u001b[38;5;241m.\u001b[39m_allow_stdin:\n\u001b[0;32m   1174\u001b[0m     \u001b[38;5;28;01mraise\u001b[39;00m StdinNotImplementedError(\n\u001b[0;32m   1175\u001b[0m         \u001b[38;5;124m\"\u001b[39m\u001b[38;5;124mraw_input was called, but this frontend does not support input requests.\u001b[39m\u001b[38;5;124m\"\u001b[39m\n\u001b[0;32m   1176\u001b[0m     )\n\u001b[1;32m-> 1177\u001b[0m \u001b[38;5;28;01mreturn\u001b[39;00m \u001b[38;5;28;43mself\u001b[39;49m\u001b[38;5;241;43m.\u001b[39;49m\u001b[43m_input_request\u001b[49m\u001b[43m(\u001b[49m\n\u001b[0;32m   1178\u001b[0m \u001b[43m    \u001b[49m\u001b[38;5;28;43mstr\u001b[39;49m\u001b[43m(\u001b[49m\u001b[43mprompt\u001b[49m\u001b[43m)\u001b[49m\u001b[43m,\u001b[49m\n\u001b[0;32m   1179\u001b[0m \u001b[43m    \u001b[49m\u001b[38;5;28;43mself\u001b[39;49m\u001b[38;5;241;43m.\u001b[39;49m\u001b[43m_parent_ident\u001b[49m\u001b[43m[\u001b[49m\u001b[38;5;124;43m\"\u001b[39;49m\u001b[38;5;124;43mshell\u001b[39;49m\u001b[38;5;124;43m\"\u001b[39;49m\u001b[43m]\u001b[49m\u001b[43m,\u001b[49m\n\u001b[0;32m   1180\u001b[0m \u001b[43m    \u001b[49m\u001b[38;5;28;43mself\u001b[39;49m\u001b[38;5;241;43m.\u001b[39;49m\u001b[43mget_parent\u001b[49m\u001b[43m(\u001b[49m\u001b[38;5;124;43m\"\u001b[39;49m\u001b[38;5;124;43mshell\u001b[39;49m\u001b[38;5;124;43m\"\u001b[39;49m\u001b[43m)\u001b[49m\u001b[43m,\u001b[49m\n\u001b[0;32m   1181\u001b[0m \u001b[43m    \u001b[49m\u001b[43mpassword\u001b[49m\u001b[38;5;241;43m=\u001b[39;49m\u001b[38;5;28;43;01mFalse\u001b[39;49;00m\u001b[43m,\u001b[49m\n\u001b[0;32m   1182\u001b[0m \u001b[43m\u001b[49m\u001b[43m)\u001b[49m\n",
      "File \u001b[1;32mC:\\python\\Python39\\lib\\site-packages\\ipykernel\\kernelbase.py:1219\u001b[0m, in \u001b[0;36mKernel._input_request\u001b[1;34m(self, prompt, ident, parent, password)\u001b[0m\n\u001b[0;32m   1216\u001b[0m             \u001b[38;5;28;01mbreak\u001b[39;00m\n\u001b[0;32m   1217\u001b[0m \u001b[38;5;28;01mexcept\u001b[39;00m \u001b[38;5;167;01mKeyboardInterrupt\u001b[39;00m:\n\u001b[0;32m   1218\u001b[0m     \u001b[38;5;66;03m# re-raise KeyboardInterrupt, to truncate traceback\u001b[39;00m\n\u001b[1;32m-> 1219\u001b[0m     \u001b[38;5;28;01mraise\u001b[39;00m \u001b[38;5;167;01mKeyboardInterrupt\u001b[39;00m(\u001b[38;5;124m\"\u001b[39m\u001b[38;5;124mInterrupted by user\u001b[39m\u001b[38;5;124m\"\u001b[39m) \u001b[38;5;28;01mfrom\u001b[39;00m \u001b[38;5;28mNone\u001b[39m\n\u001b[0;32m   1220\u001b[0m \u001b[38;5;28;01mexcept\u001b[39;00m \u001b[38;5;167;01mException\u001b[39;00m:\n\u001b[0;32m   1221\u001b[0m     \u001b[38;5;28mself\u001b[39m\u001b[38;5;241m.\u001b[39mlog\u001b[38;5;241m.\u001b[39mwarning(\u001b[38;5;124m\"\u001b[39m\u001b[38;5;124mInvalid Message:\u001b[39m\u001b[38;5;124m\"\u001b[39m, exc_info\u001b[38;5;241m=\u001b[39m\u001b[38;5;28;01mTrue\u001b[39;00m)\n",
      "\u001b[1;31mKeyboardInterrupt\u001b[0m: Interrupted by user"
     ]
    }
   ],
   "source": [
    "money = int(input(\"충전되어 있는 돈: \"))\n",
    "d = 0\n",
    "print()\n",
    "\n",
    "print(\"[대충 커미 머신이라는것]\")\n",
    "print(\"-\" * 40)\n",
    "print(\"- 아메리카노는 2500원\");print(\"- 카페라떼는 3000원\");print(\"- 카푸치노는 3000원\");print(\"원하는 커피 잔수를 각각 입력하세요\")\n",
    "print(\"-\" * 40)\n",
    "\n",
    "a = int(input(\"아메리카노 개수: \"))\n",
    "b = int(input(\"카페라떼 개수: \"))\n",
    "c = int(input(\"카푸치노 개수: \"))\n",
    "e = a * 2500 + b * 3000 + c * 3000\n",
    "\n",
    "print(\"지불할 금액은\", e,\"원 입니다.\")\n",
    "\n",
    "while True:\n",
    "    d = int(input(f\"충전금액[{money}]: 지불할 값을 넣어주세요: \"))\n",
    "    if d > money:\n",
    "        print(\"충전 잔액이 부족합니다.\")\n",
    "        money += int(input(\"잔액을 더 추가해주세요.\"))\n",
    "    else:\n",
    "        if d >= e:\n",
    "            print(\"잔돈:\", d - e)\n",
    "            break\n",
    "        elif d < e:\n",
    "            print(\"값이 부족합니다.\", -1 * (d - e), \"원 만큼 더 입력해주세요.\")\n",
    "        print(\"-\" * 30)\n",
    "\n",
    "print(\"감사합니다.\")"
   ]
  },
  {
   "cell_type": "markdown",
   "id": "c78984a6",
   "metadata": {},
   "source": [
    "## for반복문"
   ]
  },
  {
   "cell_type": "code",
   "execution_count": 37,
   "id": "7ab59bb1",
   "metadata": {},
   "outputs": [
    {
     "name": "stdout",
     "output_type": "stream",
     "text": [
      "0 번\n",
      "1 번\n",
      "2 번\n"
     ]
    }
   ],
   "source": [
    "for i in range(0, 3, 1): \n",
    "    print(f'{i} 번')"
   ]
  },
  {
   "cell_type": "code",
   "execution_count": 38,
   "id": "80118002",
   "metadata": {},
   "outputs": [
    {
     "name": "stdout",
     "output_type": "stream",
     "text": [
      "오\n",
      "늘\n",
      "은\n",
      " \n",
      "금\n",
      "요\n",
      "일\n",
      "입\n",
      "니\n",
      "다\n",
      ".\n"
     ]
    }
   ],
   "source": [
    "s = '오늘은 금요일입니다.'\n",
    "for i in s:\n",
    "    print(f'{i}')"
   ]
  },
  {
   "cell_type": "code",
   "execution_count": 39,
   "id": "e99b9a24",
   "metadata": {},
   "outputs": [
    {
     "name": "stdout",
     "output_type": "stream",
     "text": [
      "0\n",
      "1\n",
      "2\n",
      "3\n",
      "4\n"
     ]
    }
   ],
   "source": [
    "# range(0,5,1)=range(1,5)=range(5)\n",
    "for i in [0, 1, 2, 3, 4]: \n",
    "    print(f'{i}')"
   ]
  },
  {
   "cell_type": "markdown",
   "id": "a515c2f9",
   "metadata": {},
   "source": [
    "### [실습문제] 1~n까지 짝수 제외 합 구하기`ㅡ"
   ]
  },
  {
   "cell_type": "code",
   "execution_count": 41,
   "id": "fd29961a",
   "metadata": {},
   "outputs": [
    {
     "name": "stdout",
     "output_type": "stream",
     "text": [
      "합계를 구할 숫자: 100\n",
      "1~100까지의 짝수를 제외한 합은: 2500\n"
     ]
    }
   ],
   "source": [
    "n = int(input('합계를 구할 숫자: '))\n",
    "total = 0\n",
    "for i in range(1, n+1, 1):\n",
    "    if i%2 != 0:\n",
    "        total += i # total = total + i\n",
    "    \n",
    "print(f'1~{n}까지의 짝수를 제외한 합은: {total}')\n",
    "    "
   ]
  },
  {
   "cell_type": "code",
   "execution_count": null,
   "id": "5b5c1747",
   "metadata": {},
   "outputs": [],
   "source": [
    "n = int(input('합계를 구할 숫자: '))\n",
    "total = 0\n",
    "for i in range(1, n+1, 2):\n",
    "    total += i # total = total + i\n",
    "    \n",
    "print(f'1~{n}까지의 짝수를 제외한 합은: {total}')"
   ]
  },
  {
   "cell_type": "markdown",
   "id": "d77053c7",
   "metadata": {},
   "source": [
    "### [실습문제] 괄호 오류체크 머신"
   ]
  },
  {
   "cell_type": "code",
   "execution_count": 47,
   "id": "e74fd452",
   "metadata": {},
   "outputs": [
    {
     "name": "stdout",
     "output_type": "stream",
     "text": [
      "괄호: (()))\n",
      "결과: False\n"
     ]
    }
   ],
   "source": [
    "a_list = list(input('괄호: '))\n",
    "# print(type(a_list), a_list)\n",
    "\n",
    "#괄호 판별 코드\n",
    "# 힌트: '('-> +1, ')'-> -1\n",
    "t = 0\n",
    "for p in a_list:\n",
    "    if p == '(':\n",
    "        t = t+1  # t += 1 \n",
    "    elif p == ')':\n",
    "        t = t-1 # t -= 1\n",
    "    if t < 0:\n",
    "        break\n",
    "\n",
    "if t == 0:\n",
    "    print('결과: True')\n",
    "else:\n",
    "    print('결과: False')"
   ]
  },
  {
   "cell_type": "markdown",
   "id": "54759f53",
   "metadata": {},
   "source": [
    "### [실습문제] 구구단 출력하기"
   ]
  },
  {
   "cell_type": "code",
   "execution_count": 48,
   "id": "8d550e20",
   "metadata": {},
   "outputs": [
    {
     "name": "stdout",
     "output_type": "stream",
     "text": [
      "몇 단을 출력할까요?: 5\n",
      "------------------------------\n",
      "5 x 1 =  5 \n",
      "5 x 2 = 10 \n",
      "5 x 3 = 15 \n",
      "5 x 4 = 20 \n",
      "5 x 5 = 25 \n",
      "5 x 6 = 30 \n",
      "5 x 7 = 35 \n",
      "5 x 8 = 40 \n",
      "5 x 9 = 45 \n"
     ]
    }
   ],
   "source": [
    "n = int(input('몇 단을 출력할까요?: '))\n",
    "print('-'*30)\n",
    "for i in range(1,10):\n",
    "    print('%d x %d = %2d '%(n, i, n*i))"
   ]
  },
  {
   "cell_type": "code",
   "execution_count": 56,
   "id": "02df6b0b",
   "metadata": {},
   "outputs": [
    {
     "name": "stdout",
     "output_type": "stream",
     "text": [
      "# 2 단 # 3 단 # 4 단 # 5 단 # 6 단 # 7 단 # 8 단 # 9 단 \n",
      "--------------------------------------------------\n",
      "2x1= 2 3x1= 3 4x1= 4 5x1= 5 6x1= 6 7x1= 7 8x1= 8 9x1= 9 \n",
      "2x2= 4 3x2= 6 4x2= 8 5x2=10 6x2=12 7x2=14 8x2=16 9x2=18 \n",
      "2x3= 6 3x3= 9 4x3=12 5x3=15 6x3=18 7x3=21 8x3=24 9x3=27 \n",
      "2x4= 8 3x4=12 4x4=16 5x4=20 6x4=24 7x4=28 8x4=32 9x4=36 \n",
      "2x5=10 3x5=15 4x5=20 5x5=25 6x5=30 7x5=35 8x5=40 9x5=45 \n",
      "2x6=12 3x6=18 4x6=24 5x6=30 6x6=36 7x6=42 8x6=48 9x6=54 \n",
      "2x7=14 3x7=21 4x7=28 5x7=35 6x7=42 7x7=49 8x7=56 9x7=63 \n",
      "2x8=16 3x8=24 4x8=32 5x8=40 6x8=48 7x8=56 8x8=64 9x8=72 \n",
      "2x9=18 3x9=27 4x9=36 5x9=45 6x9=54 7x9=63 8x9=72 9x9=81 \n"
     ]
    }
   ],
   "source": [
    "#--타이틀 출력하기--------------\n",
    "gugudan = ''\n",
    "for i in range(2,10):\n",
    "    gugudan = gugudan + '# %s 단 '%i\n",
    "print(gugudan)\n",
    "print('-'*50)\n",
    "\n",
    "#--구구단 출력하기---------------\n",
    "for i in range(1, 10):\n",
    "    gugudan = ''\n",
    "    for k in range(2, 10):\n",
    "        gugudan = gugudan + ('%dx%d=%2d '%(k, i, k*i)) \n",
    "    print(gugudan)"
   ]
  },
  {
   "cell_type": "markdown",
   "id": "af32a4ff",
   "metadata": {},
   "source": [
    "### 난수(Random Number)"
   ]
  },
  {
   "cell_type": "markdown",
   "id": "62b5727b",
   "metadata": {},
   "source": [
    "### [실습문제] 주사위 2개 던져서 나온 수 비교"
   ]
  },
  {
   "cell_type": "code",
   "execution_count": 63,
   "id": "8da79761",
   "metadata": {},
   "outputs": [
    {
     "name": "stdout",
     "output_type": "stream",
     "text": [
      "4 2\n",
      "3 5\n",
      "6 3\n",
      "1 3\n",
      "4 3\n",
      "5 5\n",
      "2 6\n",
      "4 4\n",
      "4 2\n",
      "6 2\n"
     ]
    }
   ],
   "source": [
    "import random\n",
    "\n",
    "for i in range(10):\n",
    "    d1 = random.randrange(1,7) \n",
    "    d2 = random.randrange(1,7)\n",
    "    print(d1, d2)"
   ]
  },
  {
   "cell_type": "code",
   "execution_count": 65,
   "id": "7f93a9ab",
   "metadata": {},
   "outputs": [
    {
     "name": "stdout",
     "output_type": "stream",
     "text": [
      "[1, 2, 3, 4, 5, 6, 7, 8, 9, 10]\n",
      "[9, 7, 1, 4, 5, 3, 8, 2, 6, 10]\n"
     ]
    }
   ],
   "source": [
    "a = [1,2,3,4,5,6,7,8,9,10]\n",
    "print(a)\n",
    "random.shuffle(a)\n",
    "print(a)"
   ]
  },
  {
   "cell_type": "code",
   "execution_count": null,
   "id": "137aeb06",
   "metadata": {},
   "outputs": [],
   "source": []
  }
 ],
 "metadata": {
  "kernelspec": {
   "display_name": "Python 3",
   "language": "python",
   "name": "python3"
  },
  "language_info": {
   "codemirror_mode": {
    "name": "ipython",
    "version": 3
   },
   "file_extension": ".py",
   "mimetype": "text/x-python",
   "name": "python",
   "nbconvert_exporter": "python",
   "pygments_lexer": "ipython3",
   "version": "3.9.10"
  }
 },
 "nbformat": 4,
 "nbformat_minor": 5
}
