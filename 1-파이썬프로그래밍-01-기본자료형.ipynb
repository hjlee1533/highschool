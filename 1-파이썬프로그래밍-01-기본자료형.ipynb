{
 "cells": [
  {
   "cell_type": "markdown",
   "metadata": {},
   "source": [
    "# 1.파이썬 기본자료형"
   ]
  },
  {
   "cell_type": "markdown",
   "metadata": {},
   "source": [
    "## 파이썬 자료형"
   ]
  },
  {
   "cell_type": "markdown",
   "metadata": {},
   "source": [
    "### 파이썬 자료형 확인"
   ]
  },
  {
   "cell_type": "code",
   "execution_count": null,
   "metadata": {},
   "outputs": [],
   "source": [
    "d1 = 123\n",
    "d2 = '123'\n",
    "d3 = [123]\n",
    "d4 = (123,)\n",
    "d5 = {'key':123}\n",
    "d6 = {123}\n",
    "d7 = True\n",
    "\n",
    "print(f'{d1}의 자료형: {type(d1)}')\n",
    "print(f'{d2}의 자료형: {type(d2)}')\n",
    "print(f'{d3}의 자료형: {type(d3)}')\n",
    "print(f'{d4}의 자료형: {type(d4)}')\n",
    "print(f'{d5}의 자료형: {type(d5)}')\n",
    "print(f'{d6}의 자료형: {type(d6)}')\n",
    "print(f'{d7}의 자료형: {type(d7)}')"
   ]
  },
  {
   "cell_type": "code",
   "execution_count": null,
   "metadata": {
    "scrolled": true
   },
   "outputs": [],
   "source": [
    "datas = [123,'123',[123],(123,),{'key':123},{123},True]\n",
    "\n",
    "for d in datas:\n",
    "         print(f\"데이터 '{d}' 의 자료형: {type(d)}\")"
   ]
  },
  {
   "cell_type": "markdown",
   "metadata": {},
   "source": [
    "### 표준 입출력 "
   ]
  },
  {
   "cell_type": "markdown",
   "metadata": {},
   "source": [
    "### [실습문제] \n",
    "두 수를 입력 받아 덧셈, 뺄셈, 곱셈, 몫, 나머지를 출력하는 프로그램을 작성하세요\n"
   ]
  },
  {
   "cell_type": "code",
   "execution_count": null,
   "metadata": {
    "scrolled": true
   },
   "outputs": [],
   "source": [
    "num1 = input('첫번째 숫자: ')\n",
    "num2 = input('두번째 숫자: ')\n",
    "\n",
    "num1 = int(num1)\n",
    "num2 = int(num2)\n",
    "\n",
    "#print(num1)\n",
    "#print(num2)\n",
    "print('-'*30)\n",
    "print('덧셈: %d + %d = %d' % (num1,num2,num1+num2))\n",
    "print('뺄셈: %d - %d = %d' % (num1,num2,num1-num2))\n",
    "print('곱셈: %d * %d = %d' % (num1,num2,num1*num2))\n",
    "print('몫  : %d // %d = %d' % (num1,num2,num1//num2))\n",
    "print('나머지: %d %% %d = %d' % (num1,num2,num1%num2))"
   ]
  },
  {
   "cell_type": "markdown",
   "metadata": {},
   "source": [
    "#### format( ) 함수를 이용한 출력방법\n",
    "format( ) 함수와 { }를 함께 사용해서 출력하기\n"
   ]
  },
  {
   "cell_type": "code",
   "execution_count": null,
   "metadata": {},
   "outputs": [],
   "source": [
    "num1 = int( input( 'Input number1 : ' ) )\n",
    "num2 = int( input( 'Input number2 : ' ) )\n",
    "\n",
    "add = num1 + num2\n",
    "subtract = num1 - num2\n",
    "multiple = num1 * num2\n",
    "divide = num1 / num2\n",
    "mod = num1 % num2\n",
    "\n",
    "print('-'*30)\n",
    "print( '{0:^6} + {1:^6} = {2:<6}'.format( num1, num2, add ) )\n",
    "print( '{0:^6} - {1:^6} = {2:<6}'.format( num1, num2, subtract ) )\n",
    "print( '{0:^6} * {1:^6} = {2:<6}'.format( num1, num2, multiple ) )\n",
    "print( '{0:^6} / {1:^6} = {2:<6.2f}'.format( num1, num2, divide ) )\n",
    "print( '{0:^6} % {1:^6} = {2:<6.2f}'.format( num1, num2, mod ) )"
   ]
  },
  {
   "cell_type": "markdown",
   "metadata": {},
   "source": [
    "#### f''스트링 사용"
   ]
  },
  {
   "cell_type": "code",
   "execution_count": 1,
   "metadata": {},
   "outputs": [
    {
     "name": "stdout",
     "output_type": "stream",
     "text": [
      "첫번째 숫자: 100\n",
      "두번째 숫자: 50\n",
      "------------------------------\n",
      "덧셈: 100 + 50 = 150\n",
      "뺄셈: 100 - 50 = 50\n",
      "곱셈: 100 * 50 = 5000\n",
      "몫  : 100 // 50 = 2\n",
      "나머지: 100 % 50 = 0\n"
     ]
    }
   ],
   "source": [
    "num1 = int(input('첫번째 숫자: '))\n",
    "num2 = int(input('두번째 숫자: '))\n",
    "\n",
    "print('-'*30)\n",
    "print(f'덧셈: {num1} + {num2} = {num1+num2}')\n",
    "print(f'뺄셈: {num1} - {num2} = {num1-num2}')\n",
    "print(f'곱셈: {num1} * {num2} = {num1*num2}')\n",
    "print(f'몫  : {num1} // {num2} = {num1//num2}')\n",
    "print(f'나머지: {num1} % {num2} = {num1%num2}')"
   ]
  },
  {
   "cell_type": "markdown",
   "metadata": {},
   "source": [
    "### [실습문제]\n",
    "길이와 너비를 입력 받아 면적과 둘레를 계산하여 출력하는 프로그램을 만드세요!\n",
    "\n"
   ]
  },
  {
   "cell_type": "code",
   "execution_count": null,
   "metadata": {},
   "outputs": [],
   "source": [
    "length = input( '길이 : ' )\n",
    "width = input( '너비 : ' )\n",
    "\n",
    "area = int(length) * int(width)\n",
    "circumference =  int(length) * 2 + int(width) *2\n",
    "\n",
    "print()\n",
    "print( '길이 : {0:<6.2f}\\너비 : {1:<6.2f}'.format( float( length ), float( width ) ) )\n",
    "print( '면적 : {0:<6.2f}'.format( area ) )\n",
    "print( '둘레 : {0:<6.2f}'.format( circumference ) )"
   ]
  },
  {
   "cell_type": "markdown",
   "metadata": {},
   "source": [
    "### [실습문제]\n",
    "속력과 거리를 입력 받아 시간을 계산하여 출력하는 프로그램을 만드세요"
   ]
  },
  {
   "cell_type": "code",
   "execution_count": 5,
   "metadata": {},
   "outputs": [
    {
     "name": "stdout",
     "output_type": "stream",
     "text": [
      "속력를 입력해 주세요(km/h) : 100\n",
      "거리를 입력해 주세요(km) : 400\n",
      "------------------------------\n",
      "속력 : 100.00 km/h\n",
      "거리 : 400.00 km\n",
      "시간 : 4.00   h\n",
      "4.0\n"
     ]
    }
   ],
   "source": [
    "velocity = input( '속력를 입력해 주세요(km/h) : ' )\n",
    "distance = input( '거리를 입력해 주세요(km) : ' )\n",
    "\n",
    "time = int(distance) / int(velocity)\n",
    "print('-'*30)\n",
    "print( '속력 : {0:<6.2f} km/h'.format( float( velocity ) ) )\n",
    "print( '거리 : {0:<6.2f} km'.format( float( distance ) ) )\n",
    "print( '시간 : {0:<6.2f} h'.format( time ) )\n",
    "\n",
    "# eval()함수 사용\n",
    "# time = eval(distance + '/' + velocity)\n",
    "# print(time)"
   ]
  },
  {
   "cell_type": "code",
   "execution_count": null,
   "metadata": {},
   "outputs": [],
   "source": [
    "# eval()함수 사용\n",
    "area = eval(length + '*' + width)\n",
    "print(area)\n",
    "\n",
    "circumference = eval(length + '* 2 + ' + width + '* 2')\n",
    "print(perimeter)"
   ]
  },
  {
   "cell_type": "markdown",
   "metadata": {},
   "source": [
    "### [실습문제]\n",
    "아래와 같이 정수 n을 입력 받아, n + nn + nnn의 결과 값을 구하는 프로그램을 작성하세요"
   ]
  },
  {
   "cell_type": "code",
   "execution_count": 6,
   "metadata": {
    "scrolled": true
   },
   "outputs": [
    {
     "name": "stdout",
     "output_type": "stream",
     "text": [
      "정수를 입력하세요: 7\n",
      "7 + 77 + 777 = 861\n"
     ]
    }
   ],
   "source": [
    "N = input('정수를 입력하세요: ')\n",
    "\n",
    "n = int(N)\n",
    "nn = int(N+N)\n",
    "nnn = int(N+N+N)\n",
    "\n",
    "print(f'{n} + {nn} + {nnn} = {n+nn+nnn}')"
   ]
  },
  {
   "cell_type": "code",
   "execution_count": 7,
   "metadata": {},
   "outputs": [
    {
     "name": "stdout",
     "output_type": "stream",
     "text": [
      "정수를 입력하세요: 7\n",
      "7 + 77 + 777 = 861\n"
     ]
    }
   ],
   "source": [
    "N = int(input('정수를 입력하세요: '))\n",
    "\n",
    "n = int(\"%d\" % N)\n",
    "nn = int(\"%d%d\" % (N,N))\n",
    "nnn = int(\"%d%d%d\" % (N,N,N))\n",
    "\n",
    "print(f'{n} + {nn} + {nnn} = {n+nn+nnn}')"
   ]
  },
  {
   "cell_type": "markdown",
   "metadata": {},
   "source": [
    "-----"
   ]
  },
  {
   "cell_type": "markdown",
   "metadata": {},
   "source": [
    "## 문자열 인덱싱과 슬레이싱"
   ]
  },
  {
   "cell_type": "code",
   "execution_count": 12,
   "metadata": {},
   "outputs": [
    {
     "name": "stdout",
     "output_type": "stream",
     "text": [
      "a[0] : 사\n",
      "a[2] : 해\n",
      "a[-1]: !\n",
      "a[-3]: 이\n",
      "a[0:3] : 사랑해\n",
      "a[1:3] : 랑해\n",
      "a[-1:-3] : \n",
      "a[-1:] : !\n",
      "a[-3:-1] : 이썬\n"
     ]
    }
   ],
   "source": [
    "a = '사랑해요, 파이썬!'\n",
    "\n",
    "print(f'a[0] : {a[0]}')\n",
    "print(f'a[2] : {a[2]}')\n",
    "print(f'a[-1]: {a[-1]}')\n",
    "print(f'a[-3]: {a[-3]}')\n",
    "\n",
    "print(f'a[0:3] : {a[0:3]}')\n",
    "print(f'a[1:3] : {a[1:3]}')\n",
    "print(f'a[-1:-3] : {a[-1:-3]}')\n",
    "print(f'a[-1:] : {a[-1:]}')\n",
    "print(f'a[-3:-1] : {a[-3:-1]}')"
   ]
  },
  {
   "cell_type": "markdown",
   "metadata": {},
   "source": [
    "### [실습문제]\n",
    "문자열을 입력 받아 거꾸로 출력하는 프로그램을 작성하세요"
   ]
  },
  {
   "cell_type": "code",
   "execution_count": 14,
   "metadata": {},
   "outputs": [
    {
     "name": "stdout",
     "output_type": "stream",
     "text": [
      "문자열을 입력하세요: 사랑해요 파이썬!\n",
      "!썬이파 요해랑사\n"
     ]
    }
   ],
   "source": [
    "s = input('문자열을 입력하세요: ')\n",
    "print(s[::-1])"
   ]
  },
  {
   "cell_type": "code",
   "execution_count": 15,
   "metadata": {},
   "outputs": [
    {
     "name": "stdout",
     "output_type": "stream",
     "text": [
      "문자열을 입력하세요: 사랑해요 파이썬!\n",
      "!썬이파 요해랑사\n"
     ]
    }
   ],
   "source": [
    "s = input('문자열을 입력하세요: ')\n",
    "s_reverse = ''  # 기존 문자열을 역순으로 담아줄 빈 문자열 선언\n",
    "for char in s:\n",
    "    s_reverse = char + s_reverse\n",
    "\n",
    "print(s_reverse) "
   ]
  },
  {
   "cell_type": "markdown",
   "metadata": {},
   "source": [
    "### [실습문제]\n",
    "아래와 같이 받아 파일명과 확장자를 분리하여 출력하는 프로그램을 만들어 보세요."
   ]
  },
  {
   "cell_type": "code",
   "execution_count": 15,
   "metadata": {},
   "outputs": [
    {
     "name": "stdout",
     "output_type": "stream",
     "text": [
      "파일을 입력하세요: test.py\n",
      "------------------------------\n",
      "파일명: test, 확장자: py\n"
     ]
    }
   ],
   "source": [
    "a = input('파일을 입력하세요: ')\n",
    "\n",
    "b = a.split('.')\n",
    "\n",
    "print('-'*30)\n",
    "print('파일명: %s, 확장자: %s' % (b[0], b[1]) )"
   ]
  },
  {
   "cell_type": "code",
   "execution_count": 6,
   "metadata": {
    "scrolled": true
   },
   "outputs": [
    {
     "name": "stdout",
     "output_type": "stream",
     "text": [
      "35\n",
      "53\n",
      "53\n",
      "0b110101\n",
      "0o65\n",
      "0x35\n"
     ]
    }
   ],
   "source": [
    "a = int('35')\n",
    "print(a)\n",
    "a = int('35',16)\n",
    "print(a)\n",
    "print(int(a))\n",
    "print(bin(a))\n",
    "print(oct(a))\n",
    "print(hex(a))"
   ]
  },
  {
   "cell_type": "markdown",
   "metadata": {},
   "source": [
    "### [실습문제]\n",
    "현재 날짜와 시간을 출력해 보세요."
   ]
  },
  {
   "cell_type": "code",
   "execution_count": 9,
   "metadata": {},
   "outputs": [
    {
     "data": {
      "text/plain": [
       "datetime.datetime(2021, 7, 21, 13, 7, 57, 958242)"
      ]
     },
     "execution_count": 9,
     "metadata": {},
     "output_type": "execute_result"
    }
   ],
   "source": [
    "import datetime\n",
    "\n",
    "datetime.datetime.now()"
   ]
  },
  {
   "cell_type": "code",
   "execution_count": 17,
   "metadata": {},
   "outputs": [
    {
     "name": "stdout",
     "output_type": "stream",
     "text": [
      "2022-07-19 19:17:34.786762\n",
      "------------------------------\n",
      "지금 시각은 2022년07월19일 19시17분34초 입니다.\n"
     ]
    }
   ],
   "source": [
    "import datetime\n",
    "\n",
    "now = str(datetime.datetime.now())\n",
    "print(now)\n",
    "print('-'*30)\n",
    "yy = now[:4]\n",
    "MM = now[5:7] \n",
    "dd = now[8:10]\n",
    "hh = now[11:13]\n",
    "mm = now[14:16]\n",
    "ss = now[17:19]\n",
    "print(f'지금 시각은 {yy}년{MM}월{dd}일 {hh}시{mm}분{ss}초 입니다.')"
   ]
  },
  {
   "cell_type": "code",
   "execution_count": 16,
   "metadata": {},
   "outputs": [
    {
     "name": "stdout",
     "output_type": "stream",
     "text": [
      "지금 시각은 2021년07월21일 14시48분59초 입니다.\n"
     ]
    }
   ],
   "source": [
    "import datetime\n",
    "\n",
    "now = datetime.datetime.now()\n",
    "nowdate = now.strftime('%Y년%m월%d일 %H시%M분%S초')\n",
    "print(f'지금 시각은 {nowdate} 입니다.')"
   ]
  },
  {
   "cell_type": "markdown",
   "metadata": {},
   "source": [
    "### 실습문제\n",
    "아래 코드를 이용하여 네이버 환율 페이지에서 위안화와 유로화 정보를 가져와 출력해 보세요.\n",
    "https://search.naver.com/search.naver?where=nexearch&sm=top_hty&fbm=1&ie=utf8&query=%ED%99%98%EC%9C%A8 \n"
   ]
  },
  {
   "cell_type": "code",
   "execution_count": 18,
   "metadata": {},
   "outputs": [
    {
     "name": "stdout",
     "output_type": "stream",
     "text": [
      "[환율정보 불러오기]\n",
      "-환율기준시간: 2022.07.19 19:13\n",
      "-달러: 1,310.00\n",
      "-위안: 194.28\n",
      "-유로: 1,343.99\n"
     ]
    }
   ],
   "source": [
    "import urllib.request\n",
    "import ssl\n",
    "\n",
    "context = ssl._create_unverified_context()\n",
    "\n",
    "#환율정보 페이지 불러오기\n",
    "print(\"[환율정보 불러오기]\")\n",
    "URL = \"https://search.naver.com/search.naver?where=nexearch&sm=top_hty&fbm=1&ie=utf8&query=%ED%99%98%EC%9C%A8\"\n",
    "page = urllib.request.urlopen(URL, context=context)                              \n",
    "text = page.read().decode(\"utf8\")  # 해당 페이지의 소스코드\n",
    "#print(text)\n",
    "\n",
    "#환율정보 가져오기: 기준시간 \n",
    "searchText = 'class=\"grp_info\"> <em>'\n",
    "where      = text.find(searchText)  #소스코드에서 해당 문자열의 시작위치\n",
    "targetInfo = text[where+len(searchText):where+len(searchText)+16]\n",
    "print(f'-환율기준시간: {targetInfo}')\n",
    "\n",
    "#환율정보 가져오기: 달러\n",
    "searchText = '<span>미국 <em>USD</em></span></a></th> <td><span>'\n",
    "where      = text.find(searchText)\n",
    "targetInfo = text[where+len(searchText):where+len(searchText)+8] \n",
    "print(f'-달러: {targetInfo}')\n",
    "\n",
    "#-----------------------------------------------------------------\n",
    "\n",
    "#환율정보 가져오기: 위안\n",
    "searchText = '<span>중국 <em>CNY</em></span></a></th> <td><span>'\n",
    "where      = text.find(searchText)\n",
    "targetInfo = text[where+len(searchText):where+len(searchText)+6] \n",
    "print(f'-위안: {targetInfo}')\n",
    "\n",
    "#환율정보 가져오기:유로화\n",
    "searchText = '<span>유럽연합 <em>EUR</em></span></a></th> <td><span>'\n",
    "where      = text.find(searchText)\n",
    "targetInfo = text[where+len(searchText):where+len(searchText)+8] \n",
    "print(f'-유로: {targetInfo}')"
   ]
  },
  {
   "cell_type": "markdown",
   "metadata": {},
   "source": [
    "-----"
   ]
  }
 ],
 "metadata": {
  "kernelspec": {
   "display_name": "Python 3",
   "language": "python",
   "name": "python3"
  },
  "language_info": {
   "codemirror_mode": {
    "name": "ipython",
    "version": 3
   },
   "file_extension": ".py",
   "mimetype": "text/x-python",
   "name": "python",
   "nbconvert_exporter": "python",
   "pygments_lexer": "ipython3",
   "version": "3.9.10"
  }
 },
 "nbformat": 4,
 "nbformat_minor": 4
}
