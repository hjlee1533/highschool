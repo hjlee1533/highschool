{
 "cells": [
  {
   "cell_type": "markdown",
   "id": "6217e174",
   "metadata": {},
   "source": [
    "# 파이썬 (군집) 자료형\n",
    "\n",
    "## 리스트 "
   ]
  },
  {
   "cell_type": "markdown",
   "id": "d2bc0cca",
   "metadata": {},
   "source": [
    "### [실습문제] 1~200까지 3의 배수를 리스트에 추가하가`ㅡ"
   ]
  },
  {
   "cell_type": "code",
   "execution_count": 3,
   "id": "c4854da7",
   "metadata": {},
   "outputs": [
    {
     "name": "stdout",
     "output_type": "stream",
     "text": [
      "1~200까지의 3의 배수: [3, 6, 9, 12, 15, 18, 21, 24, 27, 30, 33, 36, 39, 42, 45, 48, 51, 54, 57, 60, 63, 66, 69, 72, 75, 78, 81, 84, 87, 90, 93, 96, 99, 102, 105, 108, 111, 114, 117, 120, 123, 126, 129, 132, 135, 138, 141, 144, 147, 150, 153, 156, 159, 162, 165, 168, 171, 174, 177, 180, 183, 186, 189, 192, 195, 198]\n"
     ]
    }
   ],
   "source": [
    "# 방법1:\n",
    "a_list = list()\n",
    "for i in range(1,201):\n",
    "    if i%3==0:\n",
    "        a_list.append(i)\n",
    "print(f'1~200까지의 3의 배수: {a_list}')"
   ]
  },
  {
   "cell_type": "code",
   "execution_count": null,
   "id": "a4e3bc22",
   "metadata": {},
   "outputs": [],
   "source": [
    "# 방법2:\n",
    "a_list = list()\n",
    "for i in range(3,201,3):\n",
    "    a_list.append(i)\n",
    "print(f'1~200까지의 3의 배수: {a_list}')"
   ]
  },
  {
   "cell_type": "code",
   "execution_count": 5,
   "id": "7b30303f",
   "metadata": {},
   "outputs": [
    {
     "name": "stdout",
     "output_type": "stream",
     "text": [
      "1~200까지의 3의 배수: [3, 6, 9, 12, 15, 18, 21, 24, 27, 30, 33, 36, 39, 42, 45, 48, 51, 54, 57, 60, 63, 66, 69, 72, 75, 78, 81, 84, 87, 90, 93, 96, 99, 102, 105, 108, 111, 114, 117, 120, 123, 126, 129, 132, 135, 138, 141, 144, 147, 150, 153, 156, 159, 162, 165, 168, 171, 174, 177, 180, 183, 186, 189, 192, 195, 198]\n"
     ]
    }
   ],
   "source": [
    "# 방법3:\n",
    "a_list = [i for i in range(3,201,3)] # 리스트 컴프레헨션\n",
    "print(f'1~200까지의 3의 배수: {a_list}')"
   ]
  },
  {
   "cell_type": "markdown",
   "id": "bdb05b99",
   "metadata": {},
   "source": [
    "### [실습문제] 리스트를 이용하여 성적처리하가"
   ]
  },
  {
   "cell_type": "code",
   "execution_count": 11,
   "id": "74d72809",
   "metadata": {},
   "outputs": [
    {
     "name": "stdout",
     "output_type": "stream",
     "text": [
      "BTS의 성적 입력: 90\n",
      "블랙핑크의 성적 입력: 75\n",
      "세븐틴의 성적 입력: 90\n",
      "마마무의 성적 입력: 80\n",
      "------------------------------\n",
      " 아이돌 성적 결과\n",
      "------------------------------\n",
      "BTS의 성적은 90: 수료\n",
      "블랙핑크의 성적은 75: 미수료\n",
      "세븐틴의 성적은 90: 수료\n",
      "마마무의 성적은 80: 수료\n"
     ]
    }
   ],
   "source": [
    "idols = ['BTS','블랙핑크','세븐틴','마마무']\n",
    "scores = []   # list()\n",
    "\n",
    "for idol in idols:\n",
    "    scores.append(int( input(f'{idol}의 성적 입력: ') )) \n",
    "\n",
    "print('-'*30)\n",
    "print(' 아이돌 성적 결과')\n",
    "print('-'*30)\n",
    "    \n",
    "# 방법1: enumerate()함수를 알고 있을 때\n",
    "for idx, idol in enumerate(idols):\n",
    "    if scores[idx] >= 80:\n",
    "        print(f'{idol}의 성적은 {scores[idx]}: 수료')\n",
    "    else:\n",
    "        print(f'{idol}의 성적은 {scores[idx]}: 미수료')"
   ]
  },
  {
   "cell_type": "code",
   "execution_count": 9,
   "id": "4812cc1d",
   "metadata": {},
   "outputs": [
    {
     "data": {
      "text/plain": [
       "[90, 100, 79, 85]"
      ]
     },
     "execution_count": 9,
     "metadata": {},
     "output_type": "execute_result"
    }
   ],
   "source": [
    "# 방법2: len()\n",
    "for idx in range(len(idols)):\n",
    "    if scores[idx] >= 80:\n",
    "        print(f'{idols[idx]}의 성적은 {scores[idx]}: 수료')\n",
    "    else:\n",
    "        print(f'{idols[idx]}의 성적은 {scores[idx]}: 미수료')"
   ]
  },
  {
   "cell_type": "code",
   "execution_count": null,
   "id": "30b4ec05",
   "metadata": {},
   "outputs": [],
   "source": [
    "# 방법3: 변수 사용\n",
    "idx = 0\n",
    "for idol in idols:\n",
    "    if scores[idx] >= 80:\n",
    "        print(f'{idols[idx]}의 성적은 {scores[idx]}: 수료')\n",
    "    else:\n",
    "        print(f'{idols[idx]}의 성적은 {scores[idx]}: 미수료')    \n",
    "    idx += 1"
   ]
  },
  {
   "cell_type": "markdown",
   "id": "d82b3e2d",
   "metadata": {},
   "source": [
    "### [실습문제] 특정 날짜(YYYYMMDD)를 입력하고 그 해의 지정된 날짜까지 며칠이 소요되는지"
   ]
  },
  {
   "cell_type": "code",
   "execution_count": 16,
   "id": "13278af8",
   "metadata": {},
   "outputs": [
    {
     "name": "stdout",
     "output_type": "stream",
     "text": [
      "YYYYMMDD: 20220725\n",
      "2022 7 25\n",
      "------------------------------\n",
      "2022/1/1 ~ 20220725: 총 소요일은 205 입니다.\n"
     ]
    }
   ],
   "source": [
    "days =[31,28,31,30,31,30,31,31,30,31,30,31]\n",
    "\n",
    "date = input('YYYYMMDD: ')\n",
    "\n",
    "yy = int(date[0:4])\n",
    "mm = int(date[4:6])\n",
    "dd = int(date[6:8])\n",
    "print(yy, mm, dd)\n",
    "\n",
    "flag = ''\n",
    "if yy%400 ==0 or (yy%100 !=0 and yy % 4 ==0):\n",
    "    days[1] = 29\n",
    "    flag = '윤년'\n",
    "\n",
    "total = 0\n",
    "for m in range(mm - 1):\n",
    "    total += days[m]\n",
    "total += dd - 1\n",
    "    \n",
    "print('-'*30)\n",
    "print(f'{yy}/1/1 ~ {yy}/{mm}/{dd}: 총 소요일은 {total} 입니다.')"
   ]
  },
  {
   "cell_type": "code",
   "execution_count": 14,
   "id": "568518d8",
   "metadata": {},
   "outputs": [
    {
     "data": {
      "text/plain": [
       "28"
      ]
     },
     "execution_count": 14,
     "metadata": {},
     "output_type": "execute_result"
    }
   ],
   "source": [
    "days[1]"
   ]
  },
  {
   "cell_type": "code",
   "execution_count": null,
   "id": "2c5e55a7",
   "metadata": {},
   "outputs": [],
   "source": [
    "### [실습문제] 시작일~목표일까지의 소요날 계산하기"
   ]
  },
  {
   "cell_type": "code",
   "execution_count": null,
   "id": "1de3f050",
   "metadata": {},
   "outputs": [],
   "source": [
    "# 방법1\n",
    "dates = [31, 28, 31, 30, 31, 30, 31, 31, 30, 31, 30, 31]\n",
    "total = []\n",
    "\n",
    "start = input('시작일 (YYYYMMDD) : ')\n",
    "goal = input('목표일 (YYYYMMDD) : ')\n",
    "\n",
    "s_total = 0\n",
    "s_year = int(start[:4])\n",
    "s_month = int(start[4:6]) - 1\n",
    "s_date = int(start[6:])\n",
    "\n",
    "g_total = 0\n",
    "g_year = int(goal[:4])\n",
    "g_month = int(goal[4:6]) - 1\n",
    "g_date = int(goal[6:])\n",
    "\n",
    "print('-'*30)\n",
    "print(f'{s_year}/{s_month+1}/{s_date} ~ {g_year}/{g_month+1}/{g_date}')\n",
    "\n",
    "for y in range(s_year, g_year + 1):\n",
    "    tmp = dates.copy()\n",
    "    if y % 400 == 0 or (y % 100 != 0 and y % 4 == 0):\n",
    "        tmp[1] += 1\n",
    "    total.append(tmp)\n",
    "\n",
    "d_day = 0\n",
    "m = s_month\n",
    "n = 0\n",
    "while n < len(total):\n",
    "    l = g_month if n == len(total)-1 else len(total[n])\n",
    "    while m < l:\n",
    "        d_day += total[n][m]\n",
    "        total[n][m] = 0\n",
    "        m += 1\n",
    "    m = 0\n",
    "    n += 1\n",
    "\n",
    "d_day += (-s_date) + g_date\n",
    "print(f'D\\'day : {d_day}')"
   ]
  },
  {
   "cell_type": "code",
   "execution_count": null,
   "id": "3a675908",
   "metadata": {},
   "outputs": [],
   "source": [
    "# 방법2\n",
    "from datetime import datetime \n",
    "\n",
    "start = input('시작일 (YYYYMMDD) : ')\n",
    "end = input('목표일 (YYYYMMDD) : ')\n",
    "\n",
    "s_date = datetime.strptime(start, \"%Y%m%d\")\n",
    "e_date = datetime.strptime(end, \"%Y%m%d\")\n",
    "(e_date - s_date).days"
   ]
  },
  {
   "cell_type": "code",
   "execution_count": 17,
   "id": "eda06e79",
   "metadata": {},
   "outputs": [
    {
     "name": "stdout",
     "output_type": "stream",
     "text": [
      "시작일 (YYYYMMDD) : 20190725\n",
      "목표일 (YYYYMMDD) : 20220725\n"
     ]
    },
    {
     "data": {
      "text/plain": [
       "1096"
      ]
     },
     "execution_count": 17,
     "metadata": {},
     "output_type": "execute_result"
    }
   ],
   "source": [
    "import datetime \n",
    "\n",
    "start = input('시작일 (YYYYMMDD) : ')\n",
    "end = input('목표일 (YYYYMMDD) : ')\n",
    "\n",
    "s_date = datetime.datetime.strptime(start, \"%Y%m%d\")\n",
    "e_date = datetime.datetime.strptime(end, \"%Y%m%d\")\n",
    "(e_date - s_date).days"
   ]
  },
  {
   "cell_type": "markdown",
   "id": "a0949881",
   "metadata": {},
   "source": [
    "### [실습문제] 무인 호텔 관리 시스템 만들기 "
   ]
  },
  {
   "cell_type": "code",
   "execution_count": 22,
   "id": "37faf1ad",
   "metadata": {
    "scrolled": false
   },
   "outputs": [
    {
     "name": "stdout",
     "output_type": "stream",
     "text": [
      "방의 개수를 입력하세요: 5\n",
      "호텔 방 현황: [0, 0, 0, 0, 0]\n",
      "--[메뉴]--\n",
      "1.체크인\n",
      "2.체크아웃\n",
      "3.현황보기\n",
      "0.종료하기\n",
      " -->선택하기: 1\n",
      "------------------------------\n",
      "1(을)를 선택하셨습니다.\n",
      "체크인할 방호수(1~5): 1\n",
      "입실 완료!\n",
      "--[메뉴]--\n",
      "1.체크인\n",
      "2.체크아웃\n",
      "3.현황보기\n",
      "0.종료하기\n",
      " -->선택하기: 1\n",
      "------------------------------\n",
      "1(을)를 선택하셨습니다.\n",
      "체크인할 방호수(1~5): 3\n",
      "입실 완료!\n",
      "--[메뉴]--\n",
      "1.체크인\n",
      "2.체크아웃\n",
      "3.현황보기\n",
      "0.종료하기\n",
      " -->선택하기: 3\n",
      "------------------------------\n",
      "3(을)를 선택하셨습니다.\n",
      "----객실 현황------\n",
      " 1번 방 - 입실 중\n",
      " 2번 방 - 빈 방\n",
      " 3번 방 - 입실 중\n",
      " 4번 방 - 빈 방\n",
      " 5번 방 - 빈 방\n",
      "--[메뉴]--\n",
      "1.체크인\n",
      "2.체크아웃\n",
      "3.현황보기\n",
      "0.종료하기\n",
      " -->선택하기: 2\n",
      "------------------------------\n",
      "2(을)를 선택하셨습니다.\n",
      "체크아웃할 방호수(1~5): 3\n",
      "퇴실완료.\n",
      "--[메뉴]--\n",
      "1.체크인\n",
      "2.체크아웃\n",
      "3.현황보기\n",
      "0.종료하기\n",
      " -->선택하기: 3\n",
      "------------------------------\n",
      "3(을)를 선택하셨습니다.\n",
      "----객실 현황------\n",
      " 1번 방 - 입실 중\n",
      " 2번 방 - 빈 방\n",
      " 3번 방 - 빈 방\n",
      " 4번 방 - 빈 방\n",
      " 5번 방 - 빈 방\n",
      "--[메뉴]--\n",
      "1.체크인\n",
      "2.체크아웃\n",
      "3.현황보기\n",
      "0.종료하기\n",
      " -->선택하기: 0\n",
      "------------------------------\n",
      "0(을)를 선택하셨습니다.\n",
      "영업종료---------\n"
     ]
    }
   ],
   "source": [
    "# 방의 개수 입력\n",
    "total = int(input('방의 개수를 입력하세요: '))\n",
    "hotel = []\n",
    "\n",
    "# 방의 개수만큼 hotel리스트에 0 추가\n",
    "for i in range(total): hotel.append(0)\n",
    "\n",
    "print(f'호텔 방 현황: {hotel}')  \n",
    "\n",
    "menu = '''--[메뉴]--\n",
    "1.체크인\n",
    "2.체크아웃\n",
    "3.현황보기\n",
    "0.종료하기\n",
    "'''\n",
    "while True:\n",
    "    select = input(f'{menu} -->선택하기: ')\n",
    "    print('-'*30)\n",
    "    \n",
    "    # 체크인 기능\n",
    "    if select == '1':\n",
    "        print(f'{select}(을)를 선택하셨습니다.')\n",
    "        \n",
    "        room = int(input(f'체크인할 방호수(1~{total}): '))\n",
    "        if hotel[room-1] == 0:\n",
    "            hotel[room-1] = 1\n",
    "            print('입실 완료!')\n",
    "        elif hotel[room-1] :   # hotel[room-1]==1\n",
    "            print(f'입실 중인 {room}번 방은 체크인 하실 수 없습니다.')\n",
    "\n",
    "    # 체크아웃 기능    \n",
    "    elif select == '2':\n",
    "        print(f'{select}(을)를 선택하셨습니다.')\n",
    "        \n",
    "        room = int(input(f'체크아웃할 방호수(1~{total}): '))\n",
    "        if hotel[room-1] == 0:            \n",
    "            print('빈 방은 체크아웃 할 수 없습니다.!')\n",
    "        elif hotel[room-1] :   # hotel[room-1]==1\n",
    "            print(f'퇴실완료.')\n",
    "            hotel[room-1] = 0\n",
    "    \n",
    "    # 현황보기\n",
    "    elif select == '3':\n",
    "        print(f'{select}(을)를 선택하셨습니다.')\n",
    "        print('----객실 현황------')\n",
    "        for i in range(total):\n",
    "            if hotel[i]: # hotel[i]==1\n",
    "                print(f' {i+1}번 방 - 입실 중')\n",
    "            else:\n",
    "                print(f' {i+1}번 방 - 빈 방')\n",
    "    # 종료    \n",
    "    elif select == '0':\n",
    "        print(f'{select}(을)를 선택하셨습니다.')\n",
    "        break\n",
    "    else:\n",
    "        print('메뉴를 잘 못 선택하셨습니다.')  \n",
    "\n",
    "print('영업종료---------')"
   ]
  },
  {
   "cell_type": "markdown",
   "id": "70d428d1",
   "metadata": {},
   "source": [
    "-------------"
   ]
  },
  {
   "cell_type": "markdown",
   "id": "71ca3fd3",
   "metadata": {},
   "source": [
    "## 튜플(Tuple)"
   ]
  },
  {
   "cell_type": "markdown",
   "id": "52b972c1",
   "metadata": {},
   "source": [
    "-----------------------"
   ]
  },
  {
   "cell_type": "markdown",
   "id": "486cd1f8",
   "metadata": {},
   "source": [
    "## 딕셔너리"
   ]
  },
  {
   "cell_type": "code",
   "execution_count": 5,
   "id": "01bd7fed",
   "metadata": {},
   "outputs": [
    {
     "name": "stdout",
     "output_type": "stream",
     "text": [
      "국어 70\n",
      "영어 89\n",
      "수학 95\n",
      "음악 100\n",
      "과학 100\n"
     ]
    }
   ],
   "source": [
    "scores = {'국어':70, '영어':89, '수학':95, '음악':100}\n",
    "\n",
    "# 딕셔너리에 요소 추가\n",
    "scores['과학'] = 100\n",
    "\n",
    "# for 반복문으로 key, value 접근방법\n",
    "for key in scores:\n",
    "    print(key, scores[key])"
   ]
  },
  {
   "cell_type": "code",
   "execution_count": 6,
   "id": "041329d0",
   "metadata": {},
   "outputs": [
    {
     "data": {
      "text/plain": [
       "dict_keys(['국어', '영어', '수학', '음악', '과학'])"
      ]
     },
     "execution_count": 6,
     "metadata": {},
     "output_type": "execute_result"
    }
   ],
   "source": [
    "# key값만 모아 놓은 것\n",
    "scores.keys()"
   ]
  },
  {
   "cell_type": "code",
   "execution_count": 7,
   "id": "509ca0b0",
   "metadata": {},
   "outputs": [
    {
     "data": {
      "text/plain": [
       "dict_values([70, 89, 95, 100, 100])"
      ]
     },
     "execution_count": 7,
     "metadata": {},
     "output_type": "execute_result"
    }
   ],
   "source": [
    "# value만 모아 놓은 것\n",
    "scores.values()"
   ]
  },
  {
   "cell_type": "code",
   "execution_count": 8,
   "id": "5a343b12",
   "metadata": {},
   "outputs": [
    {
     "data": {
      "text/plain": [
       "dict_items([('국어', 70), ('영어', 89), ('수학', 95), ('음악', 100), ('과학', 100)])"
      ]
     },
     "execution_count": 8,
     "metadata": {},
     "output_type": "execute_result"
    }
   ],
   "source": [
    "# (key, value)쌍으로 모아 놓은 것\n",
    "scores.items()"
   ]
  },
  {
   "cell_type": "code",
   "execution_count": 10,
   "id": "937794f2",
   "metadata": {},
   "outputs": [
    {
     "name": "stdout",
     "output_type": "stream",
     "text": [
      "국어 70\n",
      "영어 89\n",
      "수학 95\n",
      "음악 100\n",
      "과학 100\n",
      "------------------------------\n",
      "국어 70\n",
      "영어 89\n",
      "수학 95\n",
      "음악 100\n",
      "과학 100\n"
     ]
    }
   ],
   "source": [
    "# for 반복문으로 key, value 접근방법\n",
    "for key in scores:\n",
    "    print(key, scores[key])\n",
    "    \n",
    "print('-'*30)    \n",
    "\n",
    "for key, value in scores.items():\n",
    "    print(key, value)"
   ]
  },
  {
   "cell_type": "markdown",
   "id": "f5c49091",
   "metadata": {},
   "source": [
    "### [실습문제] 앞에서 작성한 리스트 문제에서 아이돌의 이름(key), 성적(value)을 딕셔너리를 이용하여 출력해 보세요."
   ]
  },
  {
   "cell_type": "code",
   "execution_count": 13,
   "id": "063d3aa2",
   "metadata": {},
   "outputs": [
    {
     "name": "stdout",
     "output_type": "stream",
     "text": [
      "BTS의 성적은: 100\n",
      "트와이스의 성적은: 80\n",
      "블랙핑크의 성적은: 90\n",
      "뉴이스트의 성적은: 70\n",
      "{'BTS': 100, '트와이스': 80, '블랙핑크': 90, '뉴이스트': 70}\n",
      "합계: 340 평균: 85.0\n"
     ]
    }
   ],
   "source": [
    "names = ['BTS','트와이스','블랙핑크','뉴이스트']\n",
    "idols = dict()    # {}\n",
    "\n",
    "# 딕셔너리 완성하기\n",
    "for name in names:\n",
    "    idols[name] = int(input(f'{name}의 성적은: ')) \n",
    "\n",
    "print(idols)\n",
    "\n",
    "# 합계 구하기\n",
    "total = 0\n",
    "for jumsu in idols.values():\n",
    "    total += jumsu\n",
    "print('합계: ', sum(idols.values()) )\n",
    "    \n",
    "print('-'*30)\n",
    "print(f'합계: {total} 평균: {total/len(idols)}')"
   ]
  },
  {
   "cell_type": "markdown",
   "id": "939cc736",
   "metadata": {},
   "source": [
    "### [실습문제] 딕셔너리를 이용하여 음식궁합 출력하기 "
   ]
  },
  {
   "cell_type": "code",
   "execution_count": 16,
   "id": "e6d0c6b4",
   "metadata": {},
   "outputs": [
    {
     "name": "stdout",
     "output_type": "stream",
     "text": [
      " ['떡볶이', '짜장면', '라면', '피자', '치킨', '삼겹살'] 중 좋아하는 음식은?떡볶이\n",
      " ['떡볶이', '짜장면', '라면', '피자', '치킨', '삼겹살'] 중 좋아하는 음식은?끝\n",
      "프로그램 끝!!!\n"
     ]
    }
   ],
   "source": [
    "foods = {\"떡볶이\":\"오뎅\", \"짜장면\":\"단무지\",\"라면\":\"김치\",\n",
    "           \"피자\":\"피클\",\"치킨\":\"치킨무\",\"삼겹살\":\"상추\" }\n",
    "\n",
    "while True:\n",
    "    myfood = input(f' {list(foods.keys())} 중 좋아하는 음식은? : ')\n",
    "   \n",
    "    # 종료\n",
    "    if myfood == '끝':\n",
    "        print('프로그램 끝!!!')\n",
    "        break\n",
    "    # 음식 궁합 출력\n",
    "    elif myfood in foods:\n",
    "        print(f'<{ myfood }> 궁합 음식은 <{ foods[myfood] }> 입니다.')\n",
    "    \n",
    "    # 입력 오류메시지 출력\n",
    "    else:\n",
    "        print('그런 음식은 없습니다. 다시 입력해 주세요.')\n",
    "        \n",
    "print('-'*30)"
   ]
  },
  {
   "cell_type": "markdown",
   "id": "1624043c",
   "metadata": {},
   "source": [
    "### [실습문제] 딕셔너리로 영어 단어장 프로그램 만들기 --------------"
   ]
  },
  {
   "cell_type": "code",
   "execution_count": null,
   "id": "198fd588",
   "metadata": {},
   "outputs": [],
   "source": [
    "menu = '''--선택메뉴--\n",
    "1. 단어 등록\n",
    "2. 단어 검색\n",
    "3. 단어 삭제\n",
    "4. 모든 단어 보기\n",
    "0. 종료하기\n",
    "'''\n",
    "\n",
    "# 단어장 입력 딕셔너리\n",
    "wordbooks = dict()  # {}\n",
    "\n",
    "while True:\n",
    "    select = input(f'{menu} 선택하기: ')\n",
    "    \n",
    "    # 0. 종료하기\n",
    "    if select =='0':\n",
    "        print('프로그램을 종료합니다.')\n",
    "        break\n",
    "    # 1.단어 등록\n",
    "    elif select == '1' :\n",
    "        word = input('새 단어 입력: ')\n",
    "        mean = input(f'{word}의 뜻 입력: ')\n",
    "        wordbooks[word] = mean\n",
    "        \n",
    "    # 2. 단어 검색\n",
    "    elif select == '2' :\n",
    "        word = input('검색할 단어 입력: ')\n",
    "        if word in wordbooks:\n",
    "            print(f'{word} : {wordbooks[word]}')\n",
    "        else:\n",
    "            print('미 등록 단어입니다.')\n",
    "        \n",
    "    # 3. 단어 삭제\n",
    "    elif select == '3' :\n",
    "        word = input('삭제할 단어 입력: ')\n",
    "        if word in wordbooks:\n",
    "            del wordbooks[word]\n",
    "            print(f'{word}가 삭제되었습니다')\n",
    "        else:\n",
    "            print('미 등록 단어입니다.')\n",
    "    \n",
    "    #4. 모든 단어 보기\n",
    "    elif select == '4' :\n",
    "        print('----모든 단어 현황----')\n",
    "        for key, value in wordbooks.items():\n",
    "            print(f'{key} : {value}')\n",
    "        \n",
    "    else:\n",
    "        print('잘 못 선택하셨습니다. 다시 입력해 주세요.')\n",
    "    \n"
   ]
  },
  {
   "cell_type": "code",
   "execution_count": null,
   "id": "9c9cb005",
   "metadata": {},
   "outputs": [],
   "source": []
  },
  {
   "cell_type": "code",
   "execution_count": null,
   "id": "e3d43d08",
   "metadata": {},
   "outputs": [],
   "source": []
  }
 ],
 "metadata": {
  "kernelspec": {
   "display_name": "Python 3",
   "language": "python",
   "name": "python3"
  },
  "language_info": {
   "codemirror_mode": {
    "name": "ipython",
    "version": 3
   },
   "file_extension": ".py",
   "mimetype": "text/x-python",
   "name": "python",
   "nbconvert_exporter": "python",
   "pygments_lexer": "ipython3",
   "version": "3.9.10"
  }
 },
 "nbformat": 4,
 "nbformat_minor": 5
}
