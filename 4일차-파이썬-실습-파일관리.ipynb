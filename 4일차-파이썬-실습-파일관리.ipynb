{
 "cells": [
  {
   "cell_type": "markdown",
   "id": "bde6f52b",
   "metadata": {},
   "source": [
    "# 파일 목록 및 TXT 파일 "
   ]
  },
  {
   "cell_type": "markdown",
   "id": "1cfe850d",
   "metadata": {},
   "source": [
    "### 현재 디렉토리 & 파일 경로"
   ]
  },
  {
   "cell_type": "code",
   "execution_count": 3,
   "id": "63c61ac1",
   "metadata": {
    "collapsed": true
   },
   "outputs": [
    {
     "name": "stdout",
     "output_type": "stream",
     "text": [
      "현재 디렉토리정보: C:\\python\\highschool \n",
      "현재 디렉토리 목록: ['.ipynb_checkpoints', '00-파이썬-OpenAPI-이미지인식.ipynb', '1-파이썬프로그래밍-00-사전학습-답안.ipynb', '1-파이썬프로그래밍-00-설치.ipynb', '1-파이썬프로그래밍-01-기본자료형.ipynb', '1-파이썬프로그래밍-02-연산자.ipynb', '1-파이썬프로그래밍-03-제어문.ipynb', '1-파이썬프로그래밍-04-함수모듈패키지클래스.ipynb', '1-파이썬프로그래밍-05-파일입출력.ipynb', '1-파이썬프로그래밍-06-리스트튜플딕셔너리집합.ipynb', '1-파이썬프로그래밍-07-pygame.ipynb', '1-파이썬프로그래밍-07-tkinter.ipynb', '1-파이썬프로그래밍-07-turtle.ipynb', '1-파이썬프로그래밍-08-기타.ipynb', '1-파이썬프로그래밍-08-네이버오픈API사용하기.ipynb', '1-파이썬프로그래밍-예제-문제-01_20.ipynb', '1-파이썬프로그래밍-예제-별찍기.ipynb', '1-파이썬프로그래밍-예제-입사문제들.ipynb', '1-파이썬프로그래밍-파이썬기초문법.ipynb', '1일차-파이썬-기본자료형-실습.ipynb', '2-데이터분석-라이브러리설치.ipynb', '2일차-파이썬-실습-연산자.ipynb', '3-파이썬라이브러리-matplotlib-완성.ipynb', '3-파이썬라이브러리-numpy-완성.ipynb', '3-파이썬라이브러리-pandas-mito맛보기-완성.ipynb', '3-파이썬라이브러리-pandas-완성.ipynb', '3-파이썬라이브러리-Seaborn-완성.ipynb', '3-파이썬라이브러리-자연어처리-관련기술-완성.ipynb', '3일차-파이썬-실습-while반복문.ipynb', '3일차-파이썬-실습-함수모듈클래스.ipynb', '4-공공데이터분석-기상청날씨-완성.ipynb', '4-공공데이터분석-네이버 뉴스 검색 API 코드-파일저장-완성.ipynb', '4-공공데이터분석-수질데이터-완성.ipynb', '4-공공데이터분석-지도를 이용한 데이터 시각화-완성.ipynb', '4일차-파이썬-실습-리스트튜플딕셔너리집합.ipynb', '4일차-파이썬-실습-파일관리.ipynb', '5-딥러닝-Tensorflow-숫자인식-당뇨병예측-완성.ipynb', '5-딥러닝-컴퓨터비전-CartoonFilterCamera.py', '5-딥러닝-컴퓨터비전-관련기술-실습-완성.ipynb', '5-머신러닝-데이터분석에많이사용되는함수.ipynb', '5-머신러닝-분류-붓꽃분류-완성.ipynb', '5-머신러닝-분류-타이타닉생존자예측-완성.ipynb', '5-머신러닝-사이킷런-군집-KMean-고객세분화-완성.ipynb', '5-머신러닝-자연어처리-네이버뉴스검색_영화리뷰-분석-완성.ipynb', '5-머신러닝-코랩_자연어처리_네이버뉴스검색_영화리뷰_분석_완성.ipynb', '5-머신러닝-회귀-따릉이자전거이용예측-완성.ipynb', '5-머신러닝-회귀-주택가격예측하기-완성.ipynb', 'A.py', 'chromedriver.exe', 'data', 'day2-3-turtle.py', 'day2-3-함수-turtle-별그리기.py', 'day2-3-함수-turtle-원그리기.py', 'day3-1-함수-turtle-꽃그리기.py', 'gif', 'graph', 'image', 'Module1.py', 'opencv', 'pygame', 'test.ipynb', 'test.txt', 'test2.ipynb', 'Untitled.ipynb', 'WebDriver', '__pycache__']\n"
     ]
    }
   ],
   "source": [
    "import os\n",
    "\n",
    "print(f'현재 디렉토리정보: { os.getcwd() } ')\n",
    "\n",
    "print(f'현재 디렉토리 목록: { os.listdir(os.getcwd()) }' ) "
   ]
  },
  {
   "cell_type": "markdown",
   "id": "e9c8e6fe",
   "metadata": {},
   "source": [
    "### 디렉토리 위치 변경"
   ]
  },
  {
   "cell_type": "code",
   "execution_count": 4,
   "id": "bd51ff74",
   "metadata": {},
   "outputs": [
    {
     "name": "stdout",
     "output_type": "stream",
     "text": [
      "C:\\python\\highschool\n",
      "C:\\python\n"
     ]
    }
   ],
   "source": [
    "import os\n",
    "\n",
    "dirname = './'    # ./=현재 디랙토리, ../=이전 디렉토리\n",
    "os.chdir(dirname)\n",
    "print(os.getcwd())\n",
    "\n",
    "dirname = '../'    # ./=현재 디랙토리, ../=이전 디렉토리\n",
    "os.chdir(dirname)\n",
    "print(os.getcwd())"
   ]
  },
  {
   "cell_type": "code",
   "execution_count": null,
   "id": "bd2f71f4",
   "metadata": {},
   "outputs": [],
   "source": []
  }
 ],
 "metadata": {
  "kernelspec": {
   "display_name": "Python 3",
   "language": "python",
   "name": "python3"
  },
  "language_info": {
   "codemirror_mode": {
    "name": "ipython",
    "version": 3
   },
   "file_extension": ".py",
   "mimetype": "text/x-python",
   "name": "python",
   "nbconvert_exporter": "python",
   "pygments_lexer": "ipython3",
   "version": "3.9.10"
  }
 },
 "nbformat": 4,
 "nbformat_minor": 5
}
