{
 "cells": [
  {
   "cell_type": "markdown",
   "metadata": {},
   "source": [
    "# 2.파이썬 연산자"
   ]
  },
  {
   "attachments": {},
   "cell_type": "markdown",
   "metadata": {},
   "source": [
    "## 연산자 종류\n",
    "### 산술 연산자\n",
    "\n",
    "+, -, **, /, //, %, **\n",
    "\n",
    "### 대입 연산자\n",
    "| 연산자 | 의미 | 설명 |\n",
    "|---|---|---|\n",
    "| += | a+=3 | a=a+3과 동일 |\n",
    "| -= | a-=3 | a=a-3과 동일 |\n",
    "|  *=| a*=3 | a=a*3과 동일 |\n",
    "| /=| a/=3 | a=a/3과 동일 |\n",
    "| //=| a//=3 | a=a//3과 동일 |\n",
    "| %=| a%=3 | a=%+3과 동일 |\n",
    "| **=| a**=3 | a=a**3과 동일 |\n",
    "\n",
    "### 관계 연산자\n",
    "| 연산자 | 의미 | 설명 |\n",
    "|---|---|---|\n",
    "| == | 같다 | 두 값이 동일하면 참|\n",
    "| != | 같지 않다| 두 값이 다르면 참|\n",
    "| > | 크다| 왼쪽이 크면 참|\n",
    "| < | 작다| 왼쪽이 작으면 참|\n",
    "| >= | 크거나 같다| 왼쪽이 크거나 같으면 참|\n",
    "| <= | 작거나 같다| 왼쪽이 작거나 같으면 참|\n",
    "\n",
    "### 논리 연산자\n",
    "| 연산자 | 의미 | 설명 |\n",
    "|---|---|---|\n",
    "| and(논리곱) | 그리고 | 둘 다 참이어야 참 | \n",
    "| or(논리합) | 또는 | 둘 중 하나만 참이어도 참 |\n",
    "| not(논리부정) | 부정 | 참이면 거짓, 거짓이면 참 |"
   ]
  },
  {
   "cell_type": "markdown",
   "metadata": {},
   "source": [
    "### [실습문제]\n",
    "동전교환 프로그램을 작성하세요"
   ]
  },
  {
   "cell_type": "code",
   "execution_count": 3,
   "metadata": {},
   "outputs": [
    {
     "name": "stdout",
     "output_type": "stream",
     "text": [
      "동전으로 교환할 금액을 입력하세요: 4321\n",
      "\n",
      "500원짜리 ==> 8개\n",
      "100원짜리 ==> 3개\n",
      "50원짜리 ==> 0개\n",
      "10원짜리 ==> 2개\n",
      "잔돈  ==> 1원\n"
     ]
    }
   ],
   "source": [
    "# 변수 선언\n",
    "c500, c100, c50, c10 = 0, 0, 0, 0 \n",
    "# 동전 교환할 금액 입력받기\n",
    "money = int(input(\"동전으로 교환할 금액을 입력하세요: \"))\n",
    "\n",
    "# 각 동전 갯수 계산\n",
    "c500 = money // 500     # 500으로 나눈 몫\n",
    "money= money % 500      # 500으로 나눈 나머지\n",
    "\n",
    "c100 = money // 100     # 100으로 나눈 몫\n",
    "money= money % 100      # 100으로 나눈 나머지\n",
    "\n",
    "c50 = money // 50       # 50으로 나눈 몫\n",
    "money= money % 50       # 50으로 나눈 나머지\n",
    "\n",
    "c10 = money // 10       # 10으로 나눈 몫\n",
    "money= money % 10       # 10으로 나눈 나머지\n",
    "\n",
    "print(\"\\n500원짜리 ==> %d개\" % c500)\n",
    "print(\"100원짜리 ==> %d개\" % c100)\n",
    "print(\"50원짜리 ==> %d개\" % c50)\n",
    "print(\"10원짜리 ==> %d개\" % c10)\n",
    "print(\"잔돈  ==> %d원\" % money)"
   ]
  },
  {
   "cell_type": "markdown",
   "metadata": {},
   "source": [
    "### 동전교환 프로그램 업그레이드"
   ]
  },
  {
   "cell_type": "code",
   "execution_count": 19,
   "metadata": {
    "scrolled": true
   },
   "outputs": [
    {
     "name": "stdout",
     "output_type": "stream",
     "text": [
      "교환할 돈은 얼마 ? 234580\n",
      "------------------------------\n",
      "지폐: 50000원 4장, 10000원  3장, 5000원 0장, 1000원  4장\n",
      "동전: 500원 1개, 100원 0개, 50원 1개, 10원  3개\n",
      "잔돈: 0원 \n",
      "\n"
     ]
    }
   ],
   "source": [
    "# ---------------------------------\n",
    "# 동전 교환하기 업그레이드\n",
    "# ---------------------------------\n",
    "## 전역 변수 선언 부분\n",
    "money = 0 \n",
    "p50, p10, p5, p1 = 0,0,0,0\n",
    "c500, c100, c50, c10 = 0,0,0,0\n",
    "\n",
    "## 메인(main) 코드 부분\n",
    "money=int(input(\"교환할 돈은 얼마 ? \"))\n",
    "print('-'*30)\n",
    "\n",
    "p50 = money // 50000; money %= 50000\n",
    "p10= money // 10000; money %= 10000\n",
    "p5 = money // 5000; money %= 5000\n",
    "p1 = money // 1000; money %= 1000\n",
    "\n",
    "c500 = money // 500; money %= 500\n",
    "c100 = money // 100; money %= 100\n",
    "c50 = money // 50; money %= 50\n",
    "c10 = money // 10; money %= 10\n",
    "\n",
    "print(\"지폐: 50000원 %d장, 10000원  %d장, 5000원 %d장, 1000원  %d장\" % (p50, p10, p5, p1))\n",
    "print(\"동전: 500원 %d개, 100원 %d개, 50원 %d개, 10원  %d개\" % (c500, c100, c50, c10))\n",
    "print(\"잔돈: %d원 \\n\"% money)"
   ]
  },
  {
   "cell_type": "markdown",
   "metadata": {},
   "source": [
    "### [실습문제]\n",
    "두 수를 입력 받아, 논리곱을 구하고 이진값을 출력한다."
   ]
  },
  {
   "cell_type": "code",
   "execution_count": 25,
   "metadata": {},
   "outputs": [
    {
     "name": "stdout",
     "output_type": "stream",
     "text": [
      "입력 숫자(num1): 100\n",
      "입력 숫자(num2): 50\n",
      "------------------------------\n",
      "100(num1) & 50(num2)의 논리곱(num3) = 32 \n",
      "\n",
      "100의 2진수: 0b1100100\n",
      "50의 2진수: 0b110010\n",
      "32의 2진수: 0b100000\n",
      "------------------------------\n",
      "2진수에서 앞에 0b를 제거하고 오른쪽 정렬하고 8자리로 앞에 0을 채우기\n",
      "01100100\n",
      "00110010\n",
      "00100000\n"
     ]
    }
   ],
   "source": [
    "# 두 수를 입력 받아, 논리곱을 구하고 이진값을 출력한다.\n",
    "num1 = int(input(\"입력 숫자(num1): \"))\n",
    "num2 = int(input(\"입력 숫자(num2): \"))\n",
    "num3 = num1 & num2\n",
    "\n",
    "\n",
    "# 논리곱 구하기\n",
    "print('-'*30)\n",
    "print(f'{num1}(num1) & {num2}(num2)의 논리곱(num3) = {num3} ') \n",
    "print()\n",
    "print(f'{num1}의 2진수: {bin(num1)}')\n",
    "print(f'{num2}의 2진수: {bin(num2)}')\n",
    "print(f'{num3}의 2진수: {bin(num3)}')\n",
    "print('-'*30)\n",
    "\n",
    "# 2진수에서 앞에 0b를 제거하고, 8자리를 오른쪽 정렬하고 앞에 0을 채움\n",
    "print('2진수에서 앞에 0b를 제거하고 오른쪽 정렬하고 8자리로 앞에 0을 채우기')\n",
    "print('{0:0>8}'.format(bin(num1)[2:]))\n",
    "print('{0:0>8}'.format(bin(num2)[2:]))\n",
    "print('{0:0>8}'.format(bin(num3)[2:]))"
   ]
  },
  {
   "cell_type": "markdown",
   "metadata": {},
   "source": [
    "### 실습문제\n",
    "진수 결정 값과 변환할 값을 입력 받아 해당하는 진수로 변환하는 프로그램\n"
   ]
  },
  {
   "cell_type": "code",
   "execution_count": 28,
   "metadata": {},
   "outputs": [
    {
     "name": "stdout",
     "output_type": "stream",
     "text": [
      "입력 진수 결정(16/10/8/2): 16\n",
      "숫자 입력: 45\n",
      "------------------------------\n",
      "16진수 ==> 0x45\n",
      "10진수 ==> 69\n",
      " 8진수 ==> 0o105\n",
      " 2진수 ==> 0b1000101\n"
     ]
    }
   ],
   "source": [
    "sel = input(\"입력 진수 결정(16/10/8/2): \")   \n",
    "num = input(\"숫자 입력: \")\n",
    "print('-'*30)\n",
    "\n",
    "if sel == '16' :\n",
    "    num10 = int(num, 16)\n",
    "if sel == '10' :\n",
    "    num10 = int(num, 10)\n",
    "if sel == '8' :\n",
    "    num10 = int(num, 8)\n",
    "if sel == '2' : \n",
    "    num10 = int(num, 2)\n",
    "    \n",
    "print(\"16진수 ==> %s\" % hex(num10))\n",
    "print(\"10진수 ==> %s\" % num10)\n",
    "print(\" 8진수 ==> %s\" % oct(num10))\n",
    "print(\" 2진수 ==> %s\" % bin(num10))"
   ]
  },
  {
   "cell_type": "code",
   "execution_count": 8,
   "metadata": {},
   "outputs": [
    {
     "name": "stdout",
     "output_type": "stream",
     "text": [
      "입력 진수 결정(16/10/8/2): 16\n",
      "값 입력: 100\n",
      "16진수 ==> 0x100\n",
      "10진수 ==> 256\n",
      " 8진수 ==> 0o400\n",
      " 2진수 ==> 0b100000000\n"
     ]
    }
   ],
   "source": [
    "import sys\n",
    "\n",
    "var = [\"16\", \"10\", \"8\",\" 2\"]\n",
    "var1 = input(\"입력 진수 결정(16/10/8/2): \")\n",
    "\n",
    "if var1 not in var :\n",
    "    print(\"16,10, 8, 2 숫자 중 하나만 입력하세요.\")\n",
    "    sys.exit(1)\n",
    "    \n",
    "var2 = input(\"값 입력: \")\n",
    "\n",
    "if var1 ==\"16\":\n",
    "    var2 = int(var2, 16)\n",
    "if var1 == \"10\":\n",
    "    var2 = int(var2)\n",
    "if var1 == \"8\":\n",
    "    var2 = int(var2, 8)\n",
    "if var1 == \"2\": \n",
    "    var2 = int(var2, 2)\n",
    "    \n",
    "print(\"16진수 ==> %s\" % hex(var2))\n",
    "print(\"10진수 ==> %s\" % var2)\n",
    "print(\" 8진수 ==> %s\" % oct(var2))\n",
    "print(\" 2진수 ==> %s\" % bin(var2))"
   ]
  }
 ],
 "metadata": {
  "kernelspec": {
   "display_name": "Python 3",
   "language": "python",
   "name": "python3"
  },
  "language_info": {
   "codemirror_mode": {
    "name": "ipython",
    "version": 3
   },
   "file_extension": ".py",
   "mimetype": "text/x-python",
   "name": "python",
   "nbconvert_exporter": "python",
   "pygments_lexer": "ipython3",
   "version": "3.9.10"
  }
 },
 "nbformat": 4,
 "nbformat_minor": 4
}
