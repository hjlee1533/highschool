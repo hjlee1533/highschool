{
 "cells": [
  {
   "cell_type": "markdown",
   "id": "2ee450a1",
   "metadata": {},
   "source": [
    "# 글자 크기\n",
    "## 글자 크기\n",
    "### 글자 크기\n",
    "#### 글자 크기\n",
    "##### 글자 크기\n",
    "###### 글자 크기\n",
    "ㅣ글자 크기를 나타내는 마크업 랭귀지"
   ]
  },
  {
   "cell_type": "markdown",
   "id": "e0d29b07",
   "metadata": {},
   "source": [
    "## 1.파이썬 자료형"
   ]
  },
  {
   "cell_type": "code",
   "execution_count": null,
   "id": "1fdd3943",
   "metadata": {},
   "outputs": [],
   "source": [
    "d1 = 123\n",
    "d2 = '123'\n",
    "\n",
    "print(f'{ d1 }의 자료형 : { type( d1 ) }')\n",
    "print(f'{d2}의 자료형 : {type(d2)}')"
   ]
  },
  {
   "cell_type": "code",
   "execution_count": null,
   "id": "794376da",
   "metadata": {},
   "outputs": [],
   "source": [
    "type()"
   ]
  },
  {
   "cell_type": "markdown",
   "id": "ca0afb2b",
   "metadata": {},
   "source": [
    "### 표준입출력함수\n",
    "- **input()** : 표준입력함수\n",
    "- **print()** : 표준출력함수"
   ]
  },
  {
   "cell_type": "code",
   "execution_count": null,
   "id": "842d199b",
   "metadata": {},
   "outputs": [],
   "source": [
    "var = input('입력: ')\n",
    "\n",
    "print(var)"
   ]
  },
  {
   "cell_type": "markdown",
   "id": "0085f151",
   "metadata": {},
   "source": [
    "### [실습문제] 사칙연산기 만들기"
   ]
  },
  {
   "cell_type": "code",
   "execution_count": null,
   "id": "23563160",
   "metadata": {},
   "outputs": [],
   "source": [
    "a = int(input('첫번째 숫자: '))\n",
    "b = int(input('두번째 숫자: '))\n",
    "\n",
    "b = int(b)\n",
    "print(type(a))\n",
    "\n",
    "print('-'*30) # -기호를 30번 반복\n",
    "print(f'덧셈: {a} + {b} = {a+b}')\n",
    "print(f'뺄셈: {a} - {b} = {a-b}')\n",
    "\n",
    "print('곱셈: %d * %d = %d' % (a, b, (a*b)))"
   ]
  },
  {
   "cell_type": "markdown",
   "id": "0292e2d2",
   "metadata": {},
   "source": [
    "### [실습문제] 면적 & 넓이 구하기ㅡ"
   ]
  },
  {
   "cell_type": "code",
   "execution_count": null,
   "id": "900817d2",
   "metadata": {},
   "outputs": [],
   "source": [
    "길이 = float(input('길이: '))\n",
    "너비 = float(input('너비: '))\n",
    "\n",
    "print('-'*30)\n",
    "\n",
    "print(f'면적: {길이 * 너비}')\n",
    "print(f'둘레: {(길이 + 너비) * 2}')"
   ]
  },
  {
   "cell_type": "markdown",
   "id": "0a7c708e",
   "metadata": {},
   "source": [
    "### [실습문제] 속력과 거리로 시간 구하기"
   ]
  },
  {
   "cell_type": "code",
   "execution_count": 1,
   "id": "76bed9b3",
   "metadata": {},
   "outputs": [
    {
     "name": "stdout",
     "output_type": "stream",
     "text": [
      "속력(km/h):100\n",
      "거리(km): 400\n",
      "------------------------------\n",
      "속력: 100 km/h\n",
      "거리: 400 km\n",
      "시간: 4.0 h\n"
     ]
    }
   ],
   "source": [
    "velocity = int(input('속력(km/h):'))\n",
    "distance = int(input('거리(km): '))\n",
    "time = distance / velocity\n",
    "print('-'*30)\n",
    "print(f'속력: {velocity} km/h')\n",
    "print(f'거리: {distance} km')\n",
    "print(f'시간: {time} h')"
   ]
  },
  {
   "cell_type": "code",
   "execution_count": 2,
   "id": "df314ee2",
   "metadata": {},
   "outputs": [
    {
     "name": "stdout",
     "output_type": "stream",
     "text": [
      "------------------------------\n",
      "짜장단무지\n"
     ]
    }
   ],
   "source": [
    "print('-' * 30)\n",
    "\n",
    "a = '짜장' + '단무지'\n",
    "print(a)"
   ]
  },
  {
   "cell_type": "code",
   "execution_count": 4,
   "id": "5f3c30dc",
   "metadata": {},
   "outputs": [
    {
     "name": "stdout",
     "output_type": "stream",
     "text": [
      "정수를 입력하세요 : 7\n",
      "7+77+777=861\n"
     ]
    }
   ],
   "source": [
    "n = input('정수를 입력하세요 : ')\n",
    "num1 = int(n)\n",
    "num2 = int(n+n)\n",
    "num3 = int(n+n+n)\n",
    "print(f'{num1}+{num2}+{num3}={num1 + num2 + num3}')"
   ]
  },
  {
   "cell_type": "code",
   "execution_count": 5,
   "id": "ccded093",
   "metadata": {},
   "outputs": [
    {
     "name": "stdout",
     "output_type": "stream",
     "text": [
      "정수를 입력하세요7\n",
      "7+7+7=21\n"
     ]
    }
   ],
   "source": [
    "N = input('정수를 입력하세요')\n",
    "a=int(N)\n",
    "b=N\n",
    "b=int(b)\n",
    "c=N\n",
    "c=int(c)\n",
    "print(f'{a}+{b}+{c}={a+b+c}')"
   ]
  },
  {
   "cell_type": "code",
   "execution_count": 7,
   "id": "3e2443da",
   "metadata": {},
   "outputs": [
    {
     "name": "stdout",
     "output_type": "stream",
     "text": [
      "문자열: 사랑해요 파이썬!\n",
      "사랑해요 파이썬!\n",
      "사랑해요 파이썬!\n",
      "사랑해요 파이썬!\n",
      "!썬이파 요해랑사\n"
     ]
    }
   ],
   "source": [
    "s = input('문자열: ')\n",
    "print(s[0 : ])\n",
    "print(s[ : ])\n",
    "print(s[ : : 1])  # 처음부터 끝까지 1씩 차례로 증가\n",
    "print(s[ : : -1]) # 처음부터 끝까지 -1씩(거꾸로) 차례로 증가"
   ]
  },
  {
   "cell_type": "code",
   "execution_count": null,
   "id": "75daf029",
   "metadata": {},
   "outputs": [],
   "source": [
    "name  = \n",
    "name2 = \n",
    "print(f'파일명: {name}, 확장자: {name2}')"
   ]
  },
  {
   "cell_type": "markdown",
   "id": "9f11dfba",
   "metadata": {},
   "source": [
    "### [실습문제] 현재 시간 출력하기"
   ]
  },
  {
   "cell_type": "code",
   "execution_count": null,
   "id": "92307b68",
   "metadata": {},
   "outputs": [],
   "source": [
    "import datetime as dt\n",
    "\n",
    "now = str( dt.datetime.now() )\n",
    "print(now)\n",
    "print('-'*30)\n",
    "\n",
    "yy =\n",
    "mm =\n",
    "dd =\n",
    "h = \n",
    "m =\n",
    "s =\n",
    "\n",
    "print(f'지금 시각은 {yy}년 {mm}월 {dd}일 {h}시{m}분{s}초 입니다.')"
   ]
  },
  {
   "cell_type": "markdown",
   "id": "5d452d29",
   "metadata": {},
   "source": [
    "### [실습문제]"
   ]
  },
  {
   "cell_type": "code",
   "execution_count": 10,
   "id": "f3ec840c",
   "metadata": {},
   "outputs": [
    {
     "name": "stdout",
     "output_type": "stream",
     "text": [
      "[환율정보 불러오기]\n",
      "-환율기준시간: 2022.07.21 17:24\n",
      "-달러: 1,311.00\n"
     ]
    }
   ],
   "source": [
    "import urllib.request\n",
    "import ssl\n",
    "\n",
    "context = ssl._create_unverified_context()\n",
    "\n",
    "#환율정보 페이지 불러오기\n",
    "print(\"[환율정보 불러오기]\")\n",
    "URL = \"https://search.naver.com/search.naver?where=nexearch&sm=top_hty&fbm=1&ie=utf8&query=%ED%99%98%EC%9C%A8\"\n",
    "page = urllib.request.urlopen(URL, context=context)                              \n",
    "text = page.read().decode(\"utf8\")  # 해당 페이지의 소스코드\n",
    "#print(text)\n",
    "\n",
    "#환율정보 가져오기: 기준시간 \n",
    "searchText = 'class=\"grp_info\"> <em>'\n",
    "where      = text.find(searchText)  #소스코드에서 해당 문자열의 시작위치\n",
    "targetInfo = text[where+len(searchText):where+len(searchText)+16]\n",
    "print(f'-환율기준시간: {targetInfo}')\n",
    "\n",
    "#환율정보 가져오기: 달러\n",
    "searchText = '<span>미국 <em>USD</em></span></a></th> <td><span>'\n",
    "where      = text.find(searchText)\n",
    "targetInfo = text[where+len(searchText):where+len(searchText)+8] \n",
    "print(f'-달러: {targetInfo}')"
   ]
  },
  {
   "cell_type": "code",
   "execution_count": null,
   "id": "35f8d273",
   "metadata": {},
   "outputs": [],
   "source": []
  }
 ],
 "metadata": {
  "kernelspec": {
   "display_name": "Python 3",
   "language": "python",
   "name": "python3"
  },
  "language_info": {
   "codemirror_mode": {
    "name": "ipython",
    "version": 3
   },
   "file_extension": ".py",
   "mimetype": "text/x-python",
   "name": "python",
   "nbconvert_exporter": "python",
   "pygments_lexer": "ipython3",
   "version": "3.9.10"
  }
 },
 "nbformat": 4,
 "nbformat_minor": 5
}
