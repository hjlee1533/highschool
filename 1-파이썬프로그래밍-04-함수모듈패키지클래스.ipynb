{
 "cells": [
  {
   "cell_type": "markdown",
   "metadata": {},
   "source": [
    "# 4.파이썬 함수, 모듈, 패키지, 클래스"
   ]
  },
  {
   "cell_type": "markdown",
   "metadata": {},
   "source": [
    "## 01. 함수 (Fuction)"
   ]
  },
  {
   "cell_type": "markdown",
   "metadata": {},
   "source": [
    "### 실습문제\n",
    "두 수를 입력 받아 사칙연산을 하는 계산기 프로그램에서 사칙연산 부분을 함수로 구현해 보세요.\n"
   ]
  },
  {
   "cell_type": "code",
   "execution_count": 1,
   "metadata": {},
   "outputs": [
    {
     "name": "stdout",
     "output_type": "stream",
     "text": [
      "첫번째 숫자: 50\n",
      "두번째 숫자: 30\n",
      "덧셈: 50 + 30 = 80\n",
      "뺄셈: 50 - 30 = 20\n",
      "곱셈: 50 * 30 = 1500\n",
      "몫  : 50 // 30 = 1\n",
      "나머지: 50 % 30 = 20\n"
     ]
    }
   ],
   "source": [
    "num1 = int(input('첫번째 숫자: '))\n",
    "num2 = int(input('두번째 숫자: '))\n",
    "\n",
    "print('덧셈: %d + %d = %d' % (num1,num2,num1+num2))\n",
    "print('뺄셈: %d - %d = %d' % (num1,num2,num1-num2))\n",
    "print('곱셈: %d * %d = %d' % (num1,num2,num1*num2))\n",
    "print('몫  : %d // %d = %d' % (num1,num2,num1//num2))\n",
    "print('나머지: %d %% %d = %d' % (num1,num2,num1%num2))"
   ]
  },
  {
   "cell_type": "code",
   "execution_count": 2,
   "metadata": {},
   "outputs": [
    {
     "name": "stdout",
     "output_type": "stream",
     "text": [
      "첫번째 숫자: 50\n",
      "두번째 숫자: 30\n",
      "덧셈: 50 + 30 = 80\n",
      "뺄셈: 50 - 30 = 20\n",
      "곱셈: 50 * 30 = 1500\n",
      "몫: 50 // 30 = 1\n",
      "나머지: 50 % 30 = 20\n"
     ]
    }
   ],
   "source": [
    "# 함수로정의 방법1\n",
    "num1 = int(input('첫번째 숫자: '))\n",
    "num2 = int(input('두번째 숫자: '))\n",
    "\n",
    "def add(num1, num2): \n",
    "    print('덧셈: %d + %d = %d' % (num1,num2,num1+num2))\n",
    "    \n",
    "def subtract(num1, num2): \n",
    "    print('뺄셈: %d - %d = %d' % (num1,num2,num1-num2))    \n",
    "    \n",
    "def multiple(num1, num2): \n",
    "    print('곱셈: %d * %d = %d' % (num1,num2,num1*num2))\n",
    "\n",
    "def divide(num1, num2): \n",
    "    print('몫: %d // %d = %d' % (num1,num2,num1//num2))   \n",
    "    \n",
    "def mod(num1, num2): \n",
    "    print('나머지: %d %% %d = %d' % (num1,num2,num1%num2))     \n",
    "\n",
    "add(num1, num2)\n",
    "subtract(num1, num2)\n",
    "multiple(num1, num2)\n",
    "divide(num1, num2)\n",
    "mod(num1, num2)"
   ]
  },
  {
   "cell_type": "code",
   "execution_count": 3,
   "metadata": {},
   "outputs": [
    {
     "data": {
      "text/plain": [
       "12"
      ]
     },
     "execution_count": 3,
     "metadata": {},
     "output_type": "execute_result"
    }
   ],
   "source": [
    "eval('3' +'*'+ '4')\n"
   ]
  },
  {
   "cell_type": "markdown",
   "metadata": {},
   "source": [
    "### 실습문제\n",
    "정수 2개와 연산 기호를 입력 받아 계산 결과를 출력하는 함수를 만들어 보세요.\n"
   ]
  },
  {
   "cell_type": "code",
   "execution_count": 7,
   "metadata": {},
   "outputs": [
    {
     "name": "stdout",
     "output_type": "stream",
     "text": [
      "첫번째 숫자: 50\n",
      "두번째 숫자: 30\n",
      "연산 기호:&&\n",
      "잘못된 기호\n",
      "결과: None\n"
     ]
    }
   ],
   "source": [
    "# 함수 정의\n",
    "def calc(n1, n2, op):\n",
    "    if op == '+':\n",
    "        return n1 + n2\n",
    "    if op == '-':\n",
    "        return n1 - n2\n",
    "    if op == '*':\n",
    "        return n1 * n2\n",
    "    if op == '**':\n",
    "        return n1 ** n2\n",
    "    if op == '/':\n",
    "        return n1 - n2\n",
    "    if op == '//':\n",
    "        return n1 // n2\n",
    "    if op == '%':\n",
    "        return n1 % n2\n",
    "    return print('잘못된 기호')   \n",
    "    \n",
    "\n",
    "# 함수 호출하기\n",
    "num1 = int(input('첫번째 숫자: '))\n",
    "num2 = int(input('두번째 숫자: '))\n",
    "op = input('연산 기호:')\n",
    "print('결과: %s' % calc(num1,num2,op))\n"
   ]
  },
  {
   "cell_type": "markdown",
   "metadata": {},
   "source": [
    "### #eval() 함수를 사용하여 string타입 실행함"
   ]
  },
  {
   "cell_type": "code",
   "execution_count": 11,
   "metadata": {},
   "outputs": [
    {
     "name": "stdout",
     "output_type": "stream",
     "text": [
      "첫번째 숫자: 5\n",
      "두번째 숫자: 2\n",
      "연산 기호:%\n",
      "------------------------------\n",
      "5%2 = 1\n"
     ]
    }
   ],
   "source": [
    "# 함수 정의\n",
    "def calc(n1, n2, op):\n",
    "    operators = ['+','-','*','/','//','%','**']\n",
    "    if op in operators :\n",
    "        return eval(n1+op+n2)\n",
    "    return print('잘못된 기호') \n",
    "        \n",
    "# 함수 호출하기\n",
    "num1 = input('첫번째 숫자: ')\n",
    "num2 = input('두번째 숫자: ')\n",
    "op = input('연산 기호:')\n",
    "print('-'*30)\n",
    "print('%s = %s' % ((num1+op+num2), calc(num1,num2,op)) )\n"
   ]
  },
  {
   "cell_type": "markdown",
   "metadata": {},
   "source": [
    "### 실습문제\n",
    "리스트에서 1개의 단어를 랜덤하게 선택하는 함수를 만들어 보세요."
   ]
  },
  {
   "cell_type": "code",
   "execution_count": 42,
   "metadata": {},
   "outputs": [
    {
     "name": "stdout",
     "output_type": "stream",
     "text": [
      "['피카츄', '라이츄', '파이리', '꼬부기', '버터풀']\n",
      "Random choice item's 꼬부기\n"
     ]
    }
   ],
   "source": [
    "def get_random_item(items):\n",
    "    import random\n",
    "    return random.choice(items)\n",
    "\n",
    "items = [\"피카츄\", \"라이츄\", \"파이리\", \"꼬부기\", \"버터풀\"]\n",
    "print(items)\n",
    "print(f\"Random choice item's {get_random_item(items)}\")"
   ]
  },
  {
   "cell_type": "markdown",
   "metadata": {},
   "source": [
    "### [실습문제] \n",
    "다음 조건을 참고하여 암스트롱수를 구하는 함수를 만들어 출력하는 프로그램을 만들어 보세요.\n",
    "- **암스트롱수** : 세 자리의 정수 중에서 각 자리의 수를 세 제곱한 수의 합과 자신이 같은 수 "
   ]
  },
  {
   "cell_type": "code",
   "execution_count": 3,
   "metadata": {},
   "outputs": [
    {
     "name": "stdout",
     "output_type": "stream",
     "text": [
      "[153] is armstrong number\n",
      "[370] is armstrong number\n",
      "[371] is armstrong number\n",
      "[407] is armstrong number\n"
     ]
    }
   ],
   "source": [
    "for i in range(100, 1000):\n",
    "    num = i\n",
    "    _3, _2, _1 = int(str(i)[0]), int(str(i)[1]),  int(str(i)[2]) \n",
    "    if num == (_3**3 + _2**3 + _1**3):\n",
    "        print(f'[{num}] is armstrong number')"
   ]
  },
  {
   "cell_type": "code",
   "execution_count": 5,
   "metadata": {
    "scrolled": true
   },
   "outputs": [
    {
     "name": "stdout",
     "output_type": "stream",
     "text": [
      "[153] is armstrong number\n",
      "[370] is armstrong number\n",
      "[371] is armstrong number\n",
      "[407] is armstrong number\n"
     ]
    }
   ],
   "source": [
    "def is_arm(N):\n",
    "    _3, _2, _1 = int(str(N)[0]), int(str(i)[N]),  int(str(N)[2]) \n",
    "    if N == (_3**3 + _2**3 + _1**3):\n",
    "        return True\n",
    "    else:\n",
    "        return False\n",
    "    \n",
    "for i in range(100, 1000):\n",
    "    if is_arm(i):\n",
    "        print(\"[%i] is armstrong number\" % i)"
   ]
  },
  {
   "cell_type": "markdown",
   "metadata": {},
   "source": [
    "### [실습문제]\n",
    "로또번호(1~45) 숫자 중 중복되지 않은 수 6개)를 추출하는 함수를 만들어 보세요."
   ]
  },
  {
   "cell_type": "code",
   "execution_count": 1,
   "metadata": {
    "scrolled": true
   },
   "outputs": [
    {
     "name": "stdout",
     "output_type": "stream",
     "text": [
      "** 로또 추첨을 시작합니다. ** \n",
      "\n",
      "로또번호: [4, 5, 7, 28, 37, 40]\n"
     ]
    }
   ],
   "source": [
    "import random\n",
    "\n",
    "print(\"** 로또 추첨을 시작합니다. ** \\n\");\n",
    "\n",
    "def lottoNumber():\n",
    "    lotto = random.sample(range(1,46), 6)\n",
    "    lotto.sort()\n",
    "    return lotto\n",
    "\n",
    "print('로또번호: %s' % lottoNumber())"
   ]
  },
  {
   "cell_type": "code",
   "execution_count": 8,
   "metadata": {
    "scrolled": true
   },
   "outputs": [
    {
     "name": "stdout",
     "output_type": "stream",
     "text": [
      "** 로또 추첨을 시작합니다. ** \n",
      "\n",
      "로또번호: [4, 13, 16, 21, 33, 36]\n"
     ]
    }
   ],
   "source": [
    "import random\n",
    "\n",
    "print(\"** 로또 추첨을 시작합니다. ** \\n\");\n",
    "\n",
    "def getNumber() :\n",
    "     return random.randint(1, 45)  #randrange(1, 46)\n",
    "\n",
    "def lottoNumber():\n",
    "    lotto = []\n",
    "    while True :\n",
    "        num = getNumber()\n",
    "        if num not in lotto :\n",
    "            lotto.append(num)\n",
    "\n",
    "        if len(lotto) > 5: \n",
    "            break \n",
    "    \n",
    "    lotto.sort() \n",
    "    return lotto\n",
    "\n",
    "print('로또번호: %s' % lottoNumber())"
   ]
  },
  {
   "cell_type": "markdown",
   "metadata": {},
   "source": [
    "### [실습문제]\n",
    "네이버 환율사이트에서 환율정보 가져오기 소스에서 환율정보를 가져오는 부분을 함수화 하여 만들어 보세요."
   ]
  },
  {
   "cell_type": "code",
   "execution_count": 48,
   "metadata": {},
   "outputs": [
    {
     "name": "stdout",
     "output_type": "stream",
     "text": [
      "[환율정보 불러오기]\n",
      "-환율기준시간: 2021.07.23 20:03\n",
      "-달러: 1,151.50\n",
      "-위안: 177.71\n",
      "-유로: 1,355.03\n"
     ]
    }
   ],
   "source": [
    "import urllib.request\n",
    "import ssl\n",
    "\n",
    "context = ssl._create_unverified_context()\n",
    "\n",
    "#환율정보 페이지 불러오기\n",
    "print(\"[환율정보 불러오기]\")\n",
    "URL = \"https://search.naver.com/search.naver?where=nexearch&sm=top_hty&fbm=1&ie=utf8&query=%ED%99%98%EC%9C%A8\"\n",
    "page = urllib.request.urlopen(URL, context=context)                              \n",
    "text = page.read().decode(\"utf8\")  # 해당 페이지의 소스코드\n",
    "#print(text)\n",
    "\n",
    "def getTargetInfo(searchText, infoLen):\n",
    "    global text\n",
    "    where = text.find(searchText) #소스코드에서 해당 문자열의 시작위치    \n",
    "    return text[where+len(searchText):where+len(searchText)+infoLen]\n",
    "\n",
    "    \n",
    "#환율정보 가져오기: 기준시간 \n",
    "searchText = 'class=\"grp_info\"> <em>'\n",
    "print(f'-환율기준시간: {getTargetInfo(searchText, 16)}')\n",
    "\n",
    "#환율정보 가져오기: 달러\n",
    "searchText = '<span>미국 <em>USD</em></span></a></th> <td><span>'\n",
    "print(f'-달러: {getTargetInfo(searchText, 8)}')\n",
    "\n",
    "#환율정보 가져오기: 위안\n",
    "searchText = '<span>중국 <em>CNY</em></span></a></th> <td><span>'\n",
    "print(f'-위안: {getTargetInfo(searchText, 6)}')\n",
    "\n",
    "#환율정보 가져오기:유로화\n",
    "searchText = '<span>유럽연합 <em>EUR</em></span></a></th> <td><span>'\n",
    "print(f'-유로: {getTargetInfo(searchText, 8)}')"
   ]
  },
  {
   "cell_type": "code",
   "execution_count": 50,
   "metadata": {},
   "outputs": [
    {
     "name": "stdout",
     "output_type": "stream",
     "text": [
      "[환율정보 불러오기]\n",
      "-환율기준시간: 2021.07.23 20:03\n",
      "-달러: 1,151.50\n",
      "-위안: 177.71\n",
      "-유로: 1,355.03\n"
     ]
    }
   ],
   "source": [
    "import urllib.request\n",
    "import ssl\n",
    "\n",
    "context = ssl._create_unverified_context()\n",
    "\n",
    "#환율정보 페이지 불러오기\n",
    "print(\"[환율정보 불러오기]\")\n",
    "URL = \"https://search.naver.com/search.naver?where=nexearch&sm=top_hty&fbm=1&ie=utf8&query=%ED%99%98%EC%9C%A8\"\n",
    "page = urllib.request.urlopen(URL, context=context)                              \n",
    "text = page.read().decode(\"utf8\")  # 해당 페이지의 소스코드\n",
    "#print(text)\n",
    "\n",
    "def getTargetInfo(searchText, infoLen):\n",
    "    global text\n",
    "    where = text.find(searchText) #소스코드에서 해당 문자열의 시작위치    \n",
    "    return text[where+len(searchText):where+len(searchText)+infoLen]\n",
    "\n",
    "#환율정보 가져오기: 기준시간 \n",
    "searchDic = {'StdTime':['환율기준시간','class=\"grp_info\"> <em>',16],\n",
    "             'USD':['달러','<span>미국 <em>USD</em></span></a></th> <td><span>',8],\n",
    "             'CNY':['위안','<span>중국 <em>CNY</em></span></a></th> <td><span>',6],\n",
    "             'EUR':['유로', '<span>유럽연합 <em>EUR</em></span></a></th> <td><span>',8] }\n",
    "             \n",
    "for key, values in searchDic.items():        \n",
    "    print(f'-{values[0]}: {getTargetInfo(values[1], values[2])}')"
   ]
  },
  {
   "cell_type": "markdown",
   "metadata": {},
   "source": [
    "### [실습문제]\n",
    "커피 자동주문 머신 프로그램을 함수를 이용하여 만들어 보세요"
   ]
  },
  {
   "cell_type": "code",
   "execution_count": 6,
   "metadata": {},
   "outputs": [
    {
     "name": "stdout",
     "output_type": "stream",
     "text": [
      "[커피 자동주문 머신 메뉴]\n",
      "------------------------------\n",
      "-아메리카노는 2500원\n",
      "-카레라떼는 3000원\n",
      "-카푸치노는 3000원\n",
      "입니다. 원하시는 커피종류와 잔수를 입력하세요.\n",
      "------------------------------\n",
      "아메리카노 몇잔?2\n",
      "카페라떼 몇잔?1\n",
      "카푸치노 몇잔?1\n",
      "지불할 총 금액은  11000 원 입니다\n",
      "------------------------------\n",
      "[지불할 금액:11000] : 돈을 넣어주세요: 10000\n",
      "입력한 금액이 부족합니다.  1000 원을 더 넣어주세요.\n",
      "------------------------------\n",
      "[지불할 금액:1000] : 돈을 넣어주세요: 500\n",
      "입력한 금액이 부족합니다.  500 원을 더 넣어주세요.\n",
      "------------------------------\n",
      "[지불할 금액:500] : 돈을 넣어주세요: 500\n",
      "거스름돈은  0 원 입니다\n",
      "------------------------------\n",
      "커피 맛있게 드세요~\n"
     ]
    }
   ],
   "source": [
    "a, b, c = 2500, 3000, 3000\n",
    "menu = f'''[커피 자동주문 머신 메뉴]\n",
    "------------------------------\n",
    "-아메리카노는 {a}원\n",
    "-카레라떼는 {b}원\n",
    "-카푸치노는 {c}원\n",
    "입니다. 원하시는 커피종류와 잔수를 입력하세요.\n",
    "------------------------------\\n'''\n",
    "\n",
    "def coffeeMachine(total, coffee1, coffee2, coffee3):    \n",
    "    money, change = 0, 0\n",
    "    while True:\n",
    "        print('-'*30)\n",
    "        money = int(input(f'[지불할 금액:{total}] : 돈을 넣어주세요: '))\n",
    "\n",
    "        change = money - total\n",
    "        if change < 0:\n",
    "            print(\"입력한 금액이 부족합니다. \", change*-1, \"원을 더 넣어주세요.\")\n",
    "            total = total - money\n",
    "        else:\n",
    "            print(\"거스름돈은 \", change, \"원 입니다\")\n",
    "            break\n",
    "        \n",
    "    return '커피 맛있게 드세요~'\n",
    "\n",
    "    \n",
    "# main -------------------    \n",
    "coffee1 = int(input(menu+\"아메리카노 몇잔?\"))\n",
    "coffee2 = int(input(\"카페라떼 몇잔?\"))\n",
    "coffee3 = int(input(\"카푸치노 몇잔?\"))\n",
    "\n",
    "total = coffee1*2500 + coffee2*3000 + coffee3*3000\n",
    "print(\"지불할 총 금액은 \", total, \"원 입니다\")\n",
    "\n",
    "msg = coffeeMachine(total, coffee1, coffee2, coffee3)\n",
    "\n",
    "print('-'*30)\n",
    "print(msg)"
   ]
  },
  {
   "cell_type": "markdown",
   "metadata": {},
   "source": [
    "### #매개변수의 다양한 모양"
   ]
  },
  {
   "cell_type": "markdown",
   "metadata": {},
   "source": [
    "#### 1. 매개변수 기본값을 주는 방법"
   ]
  },
  {
   "cell_type": "code",
   "execution_count": 67,
   "metadata": {
    "scrolled": false
   },
   "outputs": [
    {
     "name": "stdout",
     "output_type": "stream",
     "text": [
      "test1() --> a:0 b:0 c:0\n",
      "test1() --> a:10 b:0 c:0\n",
      "test1() --> a:10 b:20 c:0\n",
      "test1() --> a:10 b:20 c:30\n",
      "test1() --> a:30 b:20 c:10\n"
     ]
    }
   ],
   "source": [
    "# 1. 매개변수 기본값을 주는 방법\n",
    "def test02(a=0, b=0, c=0):\n",
    "    print(f'test1() --> a:{a} b:{b} c:{c}')\n",
    "\n",
    "test02()   \n",
    "test02(10)   \n",
    "test02(10, 20)   \n",
    "test02(10, 20, 30)   \n",
    "test02(c=10, b=20, a=30)   "
   ]
  },
  {
   "cell_type": "markdown",
   "metadata": {},
   "source": [
    "#### 2. 무제한 인자 받기 : -> tuple 로 받기"
   ]
  },
  {
   "cell_type": "code",
   "execution_count": 68,
   "metadata": {
    "scrolled": true
   },
   "outputs": [
    {
     "name": "stdout",
     "output_type": "stream",
     "text": [
      "args:('abc', 'def', 1, True)\n",
      "<class 'tuple'>\n",
      "0: abc\n",
      "1: def\n",
      "2: 1\n",
      "3: True\n"
     ]
    }
   ],
   "source": [
    "# 2. 무제한 인자 받기 : -> tuple 로 받기\n",
    "def test03(*args):\n",
    "    print(f'args:{args}')\n",
    "    print(type(args))\n",
    "    for i in range(len(args)):\n",
    "        print(f'{i}: {args[i]}')    \n",
    "    \n",
    "# 개수 제한 없이 인자를 넣을 수 있다.\n",
    "test03('abc', 'def', 1, True)"
   ]
  },
  {
   "cell_type": "markdown",
   "metadata": {},
   "source": [
    "#### 3. 일부분 무제한 받기"
   ]
  },
  {
   "cell_type": "code",
   "execution_count": 26,
   "metadata": {},
   "outputs": [
    {
     "name": "stdout",
     "output_type": "stream",
     "text": [
      "a:10 b:(20, 30, 40)\n"
     ]
    }
   ],
   "source": [
    "#  3. 일부분 무제한 받기\n",
    "def test04(a, *b):  # *b, a 순서는 안된다.\n",
    "    print(f'a:{a} b:{b}')\n",
    "\n",
    "test04(10, 20, 30, 40)  # a:10 b:(20, 30, 40)"
   ]
  },
  {
   "cell_type": "markdown",
   "metadata": {},
   "source": [
    "#### 4. 무제한 인자 받기 : -> dictionary 로 받기"
   ]
  },
  {
   "cell_type": "code",
   "execution_count": 22,
   "metadata": {
    "scrolled": true
   },
   "outputs": [
    {
     "name": "stdout",
     "output_type": "stream",
     "text": [
      "args:{'name': '홍길동', 'age': 24, 'address': '송파구', 'contact': '010-1111-2222'}\n",
      "<class 'dict'>\n",
      "-key:name, value:홍길동\n",
      "-key:age, value:24\n",
      "-key:address, value:송파구\n",
      "-key:contact, value:010-1111-2222\n"
     ]
    }
   ],
   "source": [
    "# 4. 무제한 인자 받기 : -> dictionary 로 받기\n",
    "def test05(**args):\n",
    "    print(f'args:{args}')\n",
    "    print(type(args))\n",
    "    for k, v in args.items():\n",
    "        print(f'-key:{k}, value:{v}')    \n",
    "\n",
    "test05(name=\"홍길동\", age=24, address=\"송파구\", contact=\"010-1111-2222\")"
   ]
  },
  {
   "cell_type": "markdown",
   "metadata": {},
   "source": [
    "### #전역변수,지역변수"
   ]
  },
  {
   "cell_type": "code",
   "execution_count": 20,
   "metadata": {
    "scrolled": true
   },
   "outputs": [
    {
     "name": "stdout",
     "output_type": "stream",
     "text": [
      "a:20\n",
      "a:10\n"
     ]
    }
   ],
   "source": [
    "a = 10  # 전역변수\n",
    "\n",
    "def test1():\n",
    "    a = 20  # 동명의 지역변수가 생성된다.\n",
    "    print(f'a:{a}')\n",
    "\n",
    "\n",
    "test1()  # a:20\n",
    "print(f'a:{a}')  # a:10  (전역변수 a에 영향이 없다.)"
   ]
  },
  {
   "cell_type": "code",
   "execution_count": 43,
   "metadata": {
    "scrolled": false
   },
   "outputs": [
    {
     "name": "stdout",
     "output_type": "stream",
     "text": [
      "a:20\n",
      "a:20\n"
     ]
    }
   ],
   "source": [
    "def test2():\n",
    "    global a  # 전역변수 a를 사용하겠다.\n",
    "    a = 20  # 전역변수를 그대로 사용한다.\n",
    "    print(f'a:{a}')\n",
    "\n",
    "\n",
    "test2()  # a:20\n",
    "print(f'a:{a}')  # a:20  (전역변수 a의 값이 test2()에 의해 변경되었다.)"
   ]
  },
  {
   "cell_type": "markdown",
   "metadata": {},
   "source": [
    "### #lambda() 함수\n",
    "한 줄로 간단하게 만들어 주는 함수"
   ]
  },
  {
   "cell_type": "code",
   "execution_count": 56,
   "metadata": {
    "scrolled": true
   },
   "outputs": [
    {
     "name": "stdout",
     "output_type": "stream",
     "text": [
      "30\n",
      "30\n"
     ]
    }
   ],
   "source": [
    "# 일반 함수\n",
    "def hap(num1, num2):\n",
    "    res = num1 + num2\n",
    "    return res\n",
    "print(hap(10,20))\n",
    "\n",
    "\n",
    "# lambda 함수\n",
    "hap = lambda num1, num2: num1+num2\n",
    "print(hap(10,20))"
   ]
  },
  {
   "cell_type": "markdown",
   "metadata": {},
   "source": [
    "-----"
   ]
  },
  {
   "cell_type": "markdown",
   "metadata": {},
   "source": [
    "## 02. 모듈 & 패키지"
   ]
  },
  {
   "cell_type": "code",
   "execution_count": 1,
   "metadata": {},
   "outputs": [],
   "source": [
    "# 함수 < 모듈 < 패키지\n",
    "\n",
    "# 모듈 사용하는 방법\n",
    "import random\n",
    "\n",
    "# 또는\n",
    "import random as rd\n",
    "\n",
    "# 또는\n",
    "from random import *"
   ]
  },
  {
   "cell_type": "code",
   "execution_count": 4,
   "metadata": {},
   "outputs": [
    {
     "data": {
      "text/plain": [
       "5"
      ]
     },
     "execution_count": 4,
     "metadata": {},
     "output_type": "execute_result"
    }
   ],
   "source": [
    "rd.choice([1,2,3,4,5]) "
   ]
  },
  {
   "cell_type": "code",
   "execution_count": 5,
   "metadata": {},
   "outputs": [
    {
     "data": {
      "text/plain": [
       "['C:\\\\python\\\\highschool',\n",
       " 'C:\\\\python\\\\Python39\\\\python39.zip',\n",
       " 'C:\\\\python\\\\Python39\\\\DLLs',\n",
       " 'C:\\\\python\\\\Python39\\\\lib',\n",
       " 'C:\\\\python\\\\Python39',\n",
       " '',\n",
       " 'C:\\\\Users\\\\yswoo\\\\AppData\\\\Roaming\\\\Python\\\\Python39\\\\site-packages',\n",
       " 'C:\\\\python\\\\Python39\\\\lib\\\\site-packages',\n",
       " 'C:\\\\python\\\\Python39\\\\lib\\\\site-packages\\\\win32',\n",
       " 'C:\\\\python\\\\Python39\\\\lib\\\\site-packages\\\\win32\\\\lib',\n",
       " 'C:\\\\python\\\\Python39\\\\lib\\\\site-packages\\\\Pythonwin']"
      ]
     },
     "execution_count": 5,
     "metadata": {},
     "output_type": "execute_result"
    }
   ],
   "source": [
    "import sys\n",
    "sys.path"
   ]
  },
  {
   "cell_type": "code",
   "execution_count": 2,
   "metadata": {},
   "outputs": [
    {
     "name": "stdout",
     "output_type": "stream",
     "text": [
      "Package                Version\n",
      "---------------------- ---------\n",
      "absl-py                0.10.0\n",
      "argon2-cffi            20.1.0\n",
      "astroid                2.4.2\n",
      "astunparse             1.6.3\n",
      "attrs                  20.1.0\n",
      "backcall               0.2.0\n",
      "bleach                 3.1.5\n",
      "cachetools             4.1.1\n",
      "certifi                2020.6.20\n",
      "cffi                   1.14.2\n",
      "chardet                3.0.4\n",
      "colorama               0.4.3\n",
      "cycler                 0.10.0\n",
      "decorator              4.4.2\n",
      "defusedxml             0.6.0\n",
      "entrypoints            0.3\n",
      "gast                   0.3.3\n",
      "google-auth            1.21.1\n",
      "google-auth-oauthlib   0.4.1\n",
      "google-pasta           0.2.0\n",
      "grpcio                 1.31.0\n",
      "h5py                   2.10.0\n",
      "idna                   2.10\n",
      "ipykernel              5.3.4\n",
      "ipython                7.18.1\n",
      "ipython-genutils       0.2.0\n",
      "ipywidgets             7.5.1\n",
      "isort                  4.3.21\n",
      "jedi                   0.17.2\n",
      "Jinja2                 2.11.2\n",
      "joblib                 0.16.0\n",
      "jsonschema             3.2.0\n",
      "jupyter                1.0.0\n",
      "jupyter-client         6.1.7\n",
      "jupyter-console        6.2.0\n",
      "jupyter-core           4.6.3\n",
      "Keras-Preprocessing    1.1.2\n",
      "kiwisolver             1.2.0\n",
      "lazy-object-proxy      1.4.3\n",
      "Markdown               3.2.2\n",
      "MarkupSafe             1.1.1\n",
      "matplotlib             3.3.1\n",
      "mccabe                 0.6.1\n",
      "mistune                0.8.4\n",
      "nbconvert              5.6.1\n",
      "nbformat               5.0.7\n",
      "notebook               6.1.3\n",
      "numpy                  1.18.5\n",
      "oauthlib               3.1.0\n",
      "opt-einsum             3.3.0\n",
      "packaging              20.4\n",
      "pandas                 1.1.1\n",
      "pandocfilters          1.4.2\n",
      "parso                  0.7.1\n",
      "pickleshare            0.7.5\n",
      "Pillow                 7.2.0\n",
      "pip                    20.2.3\n",
      "prometheus-client      0.8.0\n",
      "prompt-toolkit         3.0.7\n",
      "protobuf               3.13.0\n",
      "pyasn1                 0.4.8\n",
      "pyasn1-modules         0.2.8\n",
      "pycparser              2.20\n",
      "pygame                 1.9.6\n",
      "Pygments               2.6.1\n",
      "pylint                 2.5.3\n",
      "pyparsing              2.4.7\n",
      "pyrsistent             0.16.0\n",
      "python-dateutil        2.8.1\n",
      "pytz                   2020.1\n",
      "pywin32                228\n",
      "pywinpty               0.5.7\n",
      "pyzmq                  19.0.2\n",
      "qtconsole              4.7.7\n",
      "QtPy                   1.9.0\n",
      "requests               2.24.0\n",
      "requests-oauthlib      1.3.0\n",
      "rsa                    4.6\n",
      "scikit-learn           0.23.2\n",
      "scipy                  1.4.1\n",
      "Send2Trash             1.5.0\n",
      "setuptools             47.1.0\n",
      "six                    1.15.0\n",
      "sklearn                0.0\n",
      "tensorboard            2.3.0\n",
      "tensorboard-plugin-wit 1.7.0\n",
      "tensorflow             2.3.0\n",
      "tensorflow-estimator   2.3.0\n",
      "termcolor              1.1.0\n",
      "terminado              0.8.3\n",
      "testpath               0.4.4\n",
      "threadpoolctl          2.1.0\n",
      "toml                   0.10.1\n",
      "tornado                6.0.4\n",
      "traitlets              5.0.3\n",
      "urllib3                1.25.10\n",
      "wcwidth                0.2.5\n",
      "webencodings           0.5.1\n",
      "Werkzeug               1.0.1\n",
      "wheel                  0.35.1\n",
      "widgetsnbextension     3.5.1\n",
      "wrapt                  1.12.1\n"
     ]
    }
   ],
   "source": [
    "#설치된 패키지 확인방법\n",
    "!pip list "
   ]
  },
  {
   "cell_type": "code",
   "execution_count": 10,
   "metadata": {
    "scrolled": true
   },
   "outputs": [
    {
     "name": "stdout",
     "output_type": "stream",
     "text": [
      "Name: numpy\n",
      "Version: 1.19.5\n",
      "Summary: NumPy is the fundamental package for array computing with Python.\n",
      "Home-page: https://www.numpy.org\n",
      "Author: Travis E. Oliphant et al.\n",
      "Author-email: \n",
      "License: BSD\n",
      "Location: c:\\python\\python39\\lib\\site-packages\n",
      "Requires: \n",
      "Required-by: cvzone, folium, h5py, Keras-Preprocessing, konlpy, matplotlib, mediapipe, missingno, opencv-contrib-python, opencv-python, opt-einsum, pandas, pyarrow, pycocotools, sacrebleu, scikit-learn, scipy, seaborn, seqeval, tensorboard, tensorflow, tensorflow-datasets, tensorflow-hub, tensorflow-model-optimization, tf-models-official, timezonefinder, torchvision, wordcloud\n"
     ]
    },
    {
     "name": "stderr",
     "output_type": "stream",
     "text": [
      "WARNING: Ignoring invalid distribution -pencv-python-headless (c:\\python\\python39\\lib\\site-packages)\n"
     ]
    }
   ],
   "source": [
    "#설치된 특정 패키지 확인방법\n",
    "!pip show numpy"
   ]
  },
  {
   "cell_type": "code",
   "execution_count": 12,
   "metadata": {},
   "outputs": [
    {
     "name": "stdout",
     "output_type": "stream",
     "text": [
      "{1: 'python', 2: 'c'}\n"
     ]
    }
   ],
   "source": [
    "import pickle\n",
    "f = open('test.txt', 'wb')\n",
    "data = {1:'python', 2:'c'}\n",
    "pickle.dump(data, f)\n",
    "f.close\n",
    "\n",
    "f = open('test.txt', 'rb')\n",
    "data = pickle.load(f)\n",
    "print(data)"
   ]
  },
  {
   "cell_type": "markdown",
   "metadata": {},
   "source": []
  },
  {
   "cell_type": "markdown",
   "metadata": {},
   "source": [
    "## 03. 클래스 (Class)"
   ]
  },
  {
   "cell_type": "markdown",
   "metadata": {},
   "source": [
    "### 1.클래스 정의하기"
   ]
  },
  {
   "cell_type": "code",
   "execution_count": 16,
   "metadata": {},
   "outputs": [],
   "source": [
    "class Car :\n",
    "    color = \"\"\n",
    "    speed = 0\n",
    "\n",
    "    def upSpeed(self, value) :\n",
    "        self.speed += value\n",
    "\n",
    "    def downSpeed(self, value) :\n",
    "        self.speed -= value\n",
    "        \n",
    "    def printMessage() :\n",
    "        print(\"시험 출력입니다.\")"
   ]
  },
  {
   "cell_type": "markdown",
   "metadata": {},
   "source": [
    "### 2.인스턴스 생성 및 작동 구현"
   ]
  },
  {
   "cell_type": "code",
   "execution_count": 17,
   "metadata": {},
   "outputs": [
    {
     "name": "stdout",
     "output_type": "stream",
     "text": [
      "자동차1의 색상은 빨강이며, 현재 속도는 30km 입니다.\n",
      "자동차1의 색상은 파랑이며, 현재 속도는 60km 입니다.\n",
      "자동차1의 색상은 노랑이며, 현재 속도는 0km 입니다.\n"
     ]
    }
   ],
   "source": [
    "## 클래스 선언 부분 ##\n",
    "class Car :\n",
    "    color = \"\"\n",
    "    speed = 0\n",
    "\n",
    "    def upSpeed(self, value) :\n",
    "        self.speed += value\n",
    "\n",
    "    def downSpeed(self, value) :\n",
    "        self.speed -= value\n",
    "        \n",
    "    def printMessage() :\n",
    "        print(\"시험 출력입니다.\")\n",
    "\n",
    "## 메인 코드 부분 ##\n",
    "myCar1 = Car()\n",
    "myCar1.color = \"빨강\"\n",
    "myCar1.speed = 0\n",
    "\n",
    "myCar2 = Car()\n",
    "myCar2.color = \"파랑\"\n",
    "myCar2.speed = 0\n",
    "\n",
    "myCar3 = Car()\n",
    "myCar3.color = \"노랑\"\n",
    "myCar3.speed = 0\n",
    "\n",
    "myCar1.upSpeed(30)\n",
    "print(\"자동차1의 색상은 %s이며, 현재 속도는 %dkm 입니다.\" % (myCar1.color, myCar1.speed))\n",
    "\n",
    "myCar2.upSpeed(60)\n",
    "print(\"자동차1의 색상은 %s이며, 현재 속도는 %dkm 입니다.\" % (myCar2.color, myCar2.speed))\n",
    "\n",
    "myCar3.upSpeed(0)\n",
    "print(\"자동차1의 색상은 %s이며, 현재 속도는 %dkm 입니다.\" % (myCar3.color, myCar3.speed))"
   ]
  },
  {
   "cell_type": "markdown",
   "metadata": {},
   "source": [
    "### 3. 클래스 생성자 정의"
   ]
  },
  {
   "cell_type": "markdown",
   "metadata": {},
   "source": [
    "### [실습문제]"
   ]
  },
  {
   "cell_type": "code",
   "execution_count": 18,
   "metadata": {},
   "outputs": [
    {
     "name": "stdout",
     "output_type": "stream",
     "text": [
      "흰색 아우디의 현재 속도는 0 입니다.\n",
      "검정색 벤츠의 현재 속도는 30 입니다.\n"
     ]
    }
   ],
   "source": [
    "## 클래스 선언 부분 ##\n",
    "class Car :\n",
    "    color = \"\"\n",
    "    name = \"\"\n",
    "    speed = 0\n",
    "\n",
    "    def __init__(self, color, name, speed) :\n",
    "        self.color = color\n",
    "        self.name = name\n",
    "        self.speed = speed\n",
    "        \n",
    "    def getColor(self) :\n",
    "        return self.color\n",
    "    \n",
    "    def getName(self) :\n",
    "        return self.name\n",
    "\n",
    "    def getSpeed(self) :\n",
    "        return self.speed\n",
    "\n",
    "## 변수 선언 부분 ##\n",
    "car1, car2 = None, None\n",
    "\n",
    "## 메인 코드 부분 ##\n",
    "car1 = Car(\"흰색\", \"아우디\", 0 )\n",
    "car2 = Car(\"검정색\", \"벤츠\", 30)\n",
    "\n",
    "print(\"%s %s의 현재 속도는 %d 입니다.\" % (car1.getColor(), car1.getName(), car1.getSpeed()))\n",
    "print(\"%s %s의 현재 속도는 %d 입니다.\" % (car2.getColor(), car2.getName(), car2.getSpeed()))\n"
   ]
  },
  {
   "cell_type": "markdown",
   "metadata": {},
   "source": [
    "### 클래스의 특별한 메서드"
   ]
  },
  {
   "cell_type": "code",
   "execution_count": 53,
   "metadata": {},
   "outputs": [
    {
     "name": "stdout",
     "output_type": "stream",
     "text": [
      "100 길이의 선이 생성되었습니다\n",
      "200 길이의 선이 생성되었습니다\n",
      "선의 길이 : 100\n",
      "두 선의 길이 합 :  300\n",
      "선분 2가 더 기네요\n",
      "100 길이의 선이 삭제되었습니다\n"
     ]
    }
   ],
   "source": [
    "class Line :\n",
    "    length = 0\n",
    "    def __init__(self, length):\n",
    "        self.length = length\n",
    "        print(self.length, '길이의 선이 생성되었습니다')\n",
    "    \n",
    "    def __del__(self):\n",
    "        print(self.length, '길이의 선이 삭제되었습니다')\n",
    "        \n",
    "    def __repr__(self):\n",
    "        return '선의 길이 : ' + str(self.length)\n",
    "    \n",
    "    def __add__(self, other):\n",
    "        return self.length + other.length\n",
    "    \n",
    "    def __lt__(self, other):\n",
    "        return self.length < other.length\n",
    "    \n",
    "    def __eq__(self, other):\n",
    "        return self.length == other.length\n",
    "    \n",
    "## 메인 코드 부분 ##\n",
    "myLine1 = Line(100)\n",
    "myLine2 = Line(200)\n",
    "print(myLine1)\n",
    "\n",
    "print('두 선의 길이 합 : ', myLine1+myLine2)\n",
    "\n",
    "if myLine1 < myLine2 :\n",
    "    print('선분 2가 더 기네요')\n",
    "elif myLine1 == myLine2 :\n",
    "    print('두선분이 같네요')\n",
    "else :\n",
    "    print('모르겠네요.')\n",
    "    \n",
    "del(myLine1)\n",
    "    "
   ]
  },
  {
   "cell_type": "markdown",
   "metadata": {},
   "source": [
    "### 4. 클래스 상속 (Inheritance)"
   ]
  },
  {
   "cell_type": "markdown",
   "metadata": {},
   "source": [
    "#### 메서드 오버라이딩"
   ]
  },
  {
   "cell_type": "code",
   "execution_count": 2,
   "metadata": {},
   "outputs": [
    {
     "name": "stdout",
     "output_type": "stream",
     "text": [
      "트럭 -->현재 속도(슈퍼 클래스) : 200\n",
      "승용차 -->현재 속도(서브 클래스) : 150\n"
     ]
    }
   ],
   "source": [
    "## 클래스 선언 부분 ##\n",
    "class Car :\n",
    "    speed = 0\n",
    "\n",
    "    def upSpeed(self, value) :\n",
    "        self.speed += value\n",
    "        \n",
    "        print(\"현재 속도(슈퍼 클래스) : %d\" % self.speed)\n",
    "\n",
    "class Sedan(Car) :\n",
    "    def upSpeed(self, value) :\n",
    "        self.speed += value\n",
    "\n",
    "        if self.speed > 150 :\n",
    "            self.speed = 150\n",
    "\n",
    "        print(\"현재 속도(서브 클래스) : %d\" % self.speed)            \n",
    "\n",
    "class Truck(Car) :\n",
    "    pass\n",
    "\n",
    "    \n",
    "## 변수 선언 부분 ##\n",
    "sedan1, truck1 = None, None\n",
    "\n",
    "## 메인 코드 부분 ##\n",
    "truck1 = Truck()\n",
    "sedan1 = Sedan()\n",
    "\n",
    "print(\"트럭 -->\",  end=\"\")\n",
    "truck1.upSpeed(200)\n",
    "\n",
    "print(\"승용차 -->\",  end=\"\")\n",
    "sedan1.upSpeed(200)\n"
   ]
  },
  {
   "cell_type": "markdown",
   "metadata": {},
   "source": [
    "### 실습문제\n",
    "앞에서 확인한  클래스 상속(메서드 오버라이딩) 예제에 Sonata 클래스를 추가해 보세요. 단, Sonata 클래스는 Car -> Sedan -> Sonata 순서로 상속을 받습니다. Sonata 클래스에는 특별히 추가하는 필드나 메서드가 없습니다. "
   ]
  },
  {
   "cell_type": "code",
   "execution_count": 52,
   "metadata": {
    "scrolled": true
   },
   "outputs": [
    {
     "name": "stdout",
     "output_type": "stream",
     "text": [
      "트럭 -->현재 속도(슈퍼 클래스) : 200\n",
      "승용차 -->현재 속도(서브 클래스) : 150\n",
      "소나타 -->현재 속도(서브 클래스) : 150\n"
     ]
    }
   ],
   "source": [
    "## 클래스 선언 부분 ##\n",
    "class Car :\n",
    "    speed = 0\n",
    "\n",
    "    def upSpeed(self, value) :\n",
    "        self.speed += value\n",
    "        \n",
    "        print(\"현재 속도(슈퍼 클래스) : %d\" % self.speed)\n",
    "\n",
    "class Sedan(Car) :\n",
    "    def upSpeed(self, value) :\n",
    "        self.speed += value\n",
    "\n",
    "        if self.speed > 150 :\n",
    "            self.speed = 150\n",
    "\n",
    "        print(\"현재 속도(서브 클래스) : %d\" % self.speed)            \n",
    "\n",
    "class Truck(Car) :\n",
    "    pass\n",
    "\n",
    "class Sonata(Sedan) :\n",
    "    pass\n",
    "\n",
    "## 변수 선언 부분 ##\n",
    "sedan1, truck1 = None, None\n",
    "\n",
    "## 메인 코드 부분 ##\n",
    "truck1 = Truck()\n",
    "sedan1 = Sedan()\n",
    "sonata1 = Sonata()\n",
    "\n",
    "print(\"트럭 -->\",  end=\"\")\n",
    "truck1.upSpeed(200)\n",
    "\n",
    "print(\"승용차 -->\",  end=\"\")\n",
    "sedan1.upSpeed(200)\n",
    "\n",
    "print(\"소나타 -->\",  end=\"\")\n",
    "sonata1.upSpeed(200)"
   ]
  },
  {
   "cell_type": "markdown",
   "metadata": {},
   "source": [
    "### [실습문제]\n",
    "온라인 장바구니를 구현하는 클래스를 만들어 보세요. "
   ]
  },
  {
   "cell_type": "code",
   "execution_count": 62,
   "metadata": {},
   "outputs": [
    {
     "name": "stdout",
     "output_type": "stream",
     "text": [
      "#제인의 장바구니\n",
      "--------------\n",
      "* 바나나 3000 2\n",
      "* 우유 2500 1\n",
      "* 라면 4000 1\n",
      "** 전체가격 = 12500 , 전체수량 = 3\n",
      "------------------------------\n",
      "#대원의 장바구니\n",
      "--------------\n",
      "* 라면 4000 2\n",
      "** 전체가격 = 8000 , 전체수량 = 1\n",
      "------------------------------\n"
     ]
    }
   ],
   "source": [
    "# 온라인 장바구니 구현\n",
    "class Basket:\n",
    "    \n",
    "    def __init__(self,id):\n",
    "        self.id = id       #인스턴스ID\n",
    "        self.items = []    #장바구니 물품명\n",
    "        self.prices = []   #장바구니 물품가격\n",
    "        self.quantity = [] #장바구니 물픔수량\n",
    "        self.total = 0     #장바구니 전체가격\n",
    "        self.itemcnt = 0   #장바구니 전체수량\n",
    "        \n",
    "    #장바구니에 추가    \n",
    "    def add(self, item, price, qty):\n",
    "        self.items.append(item) \n",
    "        self.prices.append(price)\n",
    "        self.quantity.append(qty)\n",
    "        self.total += price * qty\n",
    "        self.itemcnt += 1\n",
    "\n",
    "    #장바구니에서 삭제\n",
    "    def delete(self, item, qty):\n",
    "        for i in range(self.itemcnt):\n",
    "            if item == self.items[i]:\n",
    "                self.quantity[i] -= qty\n",
    "                self.total -= self.prices[i] * qty\n",
    "                if self.quantity[i] == 0:\n",
    "                    self.itemcnt -=1\n",
    "                    del self.items[i]\n",
    "                    del self.quantity[i]\n",
    "                    del self.prices[i]\n",
    "                break\n",
    "\n",
    "    #장바구니에 물건 출력\n",
    "    def printitems(self):\n",
    "        print(f'#{self.id}의 장바구니\\n--------------')\n",
    "        for i in range(self.itemcnt):\n",
    "            print('*',self.items[i], self.prices[i], self.quantity[i])\n",
    "        print(\"** 전체가격 =\", self.total, \", 전체수량 =\", self.itemcnt)\n",
    "        print('-'*30)\n",
    "\n",
    "basket1 = Basket(\"제인\")\n",
    "basket2 = Basket(\"대원\")\n",
    "\n",
    "basket1.add(\"바나나\", 3000,2)\n",
    "basket1.add(\"우유\", 2500, 2)\n",
    "basket1.add(\"라면\", 4000, 1)\n",
    "basket2.add(\"라면\", 4000, 2)\n",
    "basket1.delete(\"우유\", 1)\n",
    "\n",
    "basket1.printitems()\n",
    "basket2.printitems()"
   ]
  },
  {
   "cell_type": "code",
   "execution_count": null,
   "metadata": {},
   "outputs": [],
   "source": []
  }
 ],
 "metadata": {
  "kernelspec": {
   "display_name": "Python 3",
   "language": "python",
   "name": "python3"
  },
  "language_info": {
   "codemirror_mode": {
    "name": "ipython",
    "version": 3
   },
   "file_extension": ".py",
   "mimetype": "text/x-python",
   "name": "python",
   "nbconvert_exporter": "python",
   "pygments_lexer": "ipython3",
   "version": "3.9.10"
  }
 },
 "nbformat": 4,
 "nbformat_minor": 4
}
