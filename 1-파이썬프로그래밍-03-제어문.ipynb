{
 "cells": [
  {
   "cell_type": "markdown",
   "metadata": {},
   "source": [
    "# 3.파이썬 제어문 - 조건문, 반복문"
   ]
  },
  {
   "cell_type": "markdown",
   "metadata": {},
   "source": [
    "## if 조건문"
   ]
  },
  {
   "cell_type": "markdown",
   "metadata": {},
   "source": [
    "### [실습문제]\n",
    "숫자를 입력 받아 짝수/홀수를 판별하는 코드를 만들어 보세요.\n"
   ]
  },
  {
   "cell_type": "code",
   "execution_count": null,
   "metadata": {},
   "outputs": [],
   "source": [
    "x = int(input('숫자를 입력해 주세요: '))\n",
    "\n",
    "if x % 2 == 0:\n",
    "    print('입력된 수 : %d ==> 짝수' % x)\n",
    "else:\n",
    "    print('입력된 수 : %d ==> 홀수' % x)"
   ]
  },
  {
   "cell_type": "markdown",
   "metadata": {},
   "source": [
    "### [실습문제]\n",
    "아래와 같이 출력 결과가 나오도록 성적 등급을 판별하는 코드를 작성해 보세요."
   ]
  },
  {
   "cell_type": "code",
   "execution_count": 1,
   "metadata": {
    "scrolled": true
   },
   "outputs": [
    {
     "name": "stdout",
     "output_type": "stream",
     "text": [
      "성적을 입력해 주세요: 79\n",
      "------------------------------\n",
      "성적: 79 는 C 등급 입니다.\n"
     ]
    }
   ],
   "source": [
    "# 성적등급 판별\n",
    "x = int(input('성적을 입력해 주세요: '))\n",
    "grade = ''\n",
    "\n",
    "if x > 89 :  \n",
    "    grade = 'A'\n",
    "elif x >= 80 and x < 90 :\n",
    "    grade = 'B'\n",
    "elif x >= 70 and x < 80 :\n",
    "    grade = 'C'\n",
    "else :\n",
    "    grade = 'D'\n",
    "\n",
    "print('-'*30)\n",
    "print('성적: %d 는 %s 등급 입니다.' % (x, grade))\n"
   ]
  },
  {
   "cell_type": "code",
   "execution_count": null,
   "metadata": {},
   "outputs": [],
   "source": [
    "x = int(input('성적을 입력해 주세요: '))\n",
    "grade = 'D'\n",
    "\n",
    "if x > 89 :  \n",
    "    grade = 'A'\n",
    "elif x > 79 :\n",
    "    grade = 'B'\n",
    "elif x > 69 :\n",
    "    grade = 'C'\n",
    "    \n",
    "print('성적: %d 는 %s 등급 입니다.' % (x, grade))\n"
   ]
  },
  {
   "cell_type": "markdown",
   "metadata": {},
   "source": [
    "### [실습문제]\n",
    "주변에서 볼 수 있는 정보를 이용해  input(), if 조건문, print() 를 이용해 자유롭게 조건문 프로그램을 만들어 보세요'"
   ]
  },
  {
   "cell_type": "code",
   "execution_count": null,
   "metadata": {},
   "outputs": [],
   "source": [
    "'''\n",
    "ex)  온도가 30도 이상이면 에어컨을 켜고\n",
    "      온도가 15도 미만이 되면 내복을 입고\n",
    "      온도가 10도 이하면 난방기를 켠다.\n",
    "'''\n",
    "\n",
    "degree = int(input('현재 온도는?'))\n",
    "speaker = '쾌적한 온도이군요.'\n",
    "\n",
    "if degree > 29:\n",
    "    speaker = '온도가 덥군요. 에어컨을 켜세요.'\n",
    "elif degree < 11:\n",
    "    speaker = '너무 추워요. 난방기를 켜세요.'\n",
    "elif degree < 20:\n",
    "    speaker = '내복을 꺼내 입으세요'\n",
    "\n",
    "print(speaker)"
   ]
  },
  {
   "cell_type": "markdown",
   "metadata": {},
   "source": [
    "### [실습문제]\n",
    "사용자로부터 주민번호를 입력 받아 생일, 나이, 성별을 출력해 보세요."
   ]
  },
  {
   "cell_type": "code",
   "execution_count": 3,
   "metadata": {
    "scrolled": true
   },
   "outputs": [
    {
     "name": "stdout",
     "output_type": "stream",
     "text": [
      "주민번호 : 870701-2409184\n",
      "------------------------------\n",
      "1987년 07월 01일, 35세, 여성\n",
      "1987년 07월 01일, 35세, 여성\n"
     ]
    }
   ],
   "source": [
    "# 191218-1234567\n",
    "# 770919-1234567\n",
    "# 870701-2409184\n",
    "user_id = input('주민번호 : ')\n",
    "print('-'*30)\n",
    "\n",
    "year = int(user_id[:2])\n",
    "month = user_id[2:4]\n",
    "date = user_id[4:6]\n",
    "\n",
    "if user_id[7] == '1':\n",
    "    year += 1900\n",
    "    gender = '남성'\n",
    "elif user_id[7] == '2':\n",
    "    year += 1900\n",
    "    gender = '여성'\n",
    "elif user_id[7] == '3':\n",
    "    year += 2000\n",
    "    gender = '남성'\n",
    "elif user_id[7] == '4':\n",
    "    year += 2000\n",
    "    gender = '여성'\n",
    "\n",
    "\n",
    "# 나이구하기 방법1. 2022 고정값으로 나이 구하기\n",
    "YEAR = 2022\n",
    "print(f'{year}년 {month}월 {date}일, {YEAR-year}세, {gender}')\n",
    "\n",
    "# 나이구하기 방법2. 올해가 몇년인지 구하고 나이 구하기\n",
    "import datetime\n",
    "now = datetime.datetime.now()\n",
    "\n",
    "print(f'{year}년 {month}월 {date}일, {now.year-year}세, {gender}')"
   ]
  },
  {
   "cell_type": "markdown",
   "metadata": {},
   "source": [
    "### [실습문제]\n",
    "아래 조건을 만족하는 커피 자동주문 머신을 만들어보세요.<br><br>\n",
    "[커피 자동주문 머신]<br>\n",
    "친구들과 현금 커피 자동주문 머신 앞에서 \n",
    " - 아메리카노 2잔과 카페라테 2잔 카푸치노 1잔을 주문하였다. \n",
    " - 아메리카노 한잔에 2500원이고\n",
    " - 카페라테는 한잔에 3000원\n",
    " - 카푸치노는 한잔에 3000원이다. \n",
    "커피 종류와 잔 수를 결정한 후 현금 15000원을 투입하고 잔돈을 1000원 받았다. "
   ]
  },
  {
   "cell_type": "code",
   "execution_count": 12,
   "metadata": {
    "scrolled": false
   },
   "outputs": [
    {
     "name": "stdout",
     "output_type": "stream",
     "text": [
      "[커피 자동주문 머신 메뉴]\n",
      "------------------------------\n",
      "-아메리카노는 2500원\n",
      "-카레라떼는 3000원\n",
      "-카푸치노는 3000원\n",
      "입니다. 원하시는 커피종류와 잔수를 입력하세요.\n",
      "------------------------------\n",
      "아메리카노 몇잔?2\n",
      "카페라떼 몇잔?2\n",
      "카푸치노 몇잔?1\n",
      "지불할 총 금액은  14000 원 입니다\n",
      "돈을 넣어주세요~15000\n",
      "거스름돈은  1000 원 입니다\n"
     ]
    }
   ],
   "source": [
    "menu = '''[커피 자동주문 머신 메뉴]\n",
    "------------------------------\n",
    "-아메리카노는 2500원\n",
    "-카레라떼는 3000원\n",
    "-카푸치노는 3000원\n",
    "입니다. 원하시는 커피종류와 잔수를 입력하세요.\n",
    "------------------------------\\n'''\n",
    "coffee1 = int(input(menu+\"아메리카노 몇잔?\"))\n",
    "coffee2 = int(input(\"카페라떼 몇잔?\"))\n",
    "coffee3 = int(input(\"카푸치노 몇잔?\"))\n",
    "\n",
    "sum = coffee1*2500 + coffee2*3000 + coffee3*3000\n",
    "print(\"지불할 총 금액은 \", sum, \"원 입니다\")\n",
    "\n",
    "money = int(input(\"돈을 넣어주세요~\"))\n",
    "change = money - sum\n",
    "if change < 0:\n",
    "    print(\"입력한 금액이 부족합니다. \", change*-1, \"원을 넣어주세요.\")\n",
    "else:\n",
    "    print(\"거스름돈은 \", change, \"원 입니다\")"
   ]
  },
  {
   "cell_type": "markdown",
   "metadata": {},
   "source": [
    "-----"
   ]
  },
  {
   "cell_type": "markdown",
   "metadata": {},
   "source": [
    "##  for 반복문"
   ]
  },
  {
   "cell_type": "markdown",
   "metadata": {},
   "source": [
    "### range() 함수 사용해서 반복\n",
    "1 ~10까지 합계를 구하는 프로그램: range()"
   ]
  },
  {
   "cell_type": "code",
   "execution_count": 27,
   "metadata": {},
   "outputs": [
    {
     "name": "stdout",
     "output_type": "stream",
     "text": [
      "1에서 10까지의 합계: 55\n"
     ]
    }
   ],
   "source": [
    "hap = 0\n",
    "\n",
    "for i in range(1,11,1):\n",
    "    hap = hap + i\n",
    "    \n",
    "print(f'1에서 10까지의 합계: {hap}')"
   ]
  },
  {
   "cell_type": "markdown",
   "metadata": {},
   "source": [
    "### 리스트나 문자열 사용해서 반복\n",
    "리스트에 들어있는 값들의 합계를 구하는 프로그램"
   ]
  },
  {
   "cell_type": "code",
   "execution_count": 28,
   "metadata": {},
   "outputs": [
    {
     "name": "stdout",
     "output_type": "stream",
     "text": [
      "[70, 60, 55, 75, 95, 90, 80, 80, 85, 100] 안의 모든 합은: 790\n"
     ]
    }
   ],
   "source": [
    "a_list = [70, 60, 55, 75, 95, 90, 80, 80, 85, 100]\n",
    "hap = 0\n",
    "\n",
    "for i in a_list:\n",
    "    hap = hap + i\n",
    "    \n",
    "print(f'{a_list} 안의 모든 합은: {hap}')"
   ]
  },
  {
   "cell_type": "code",
   "execution_count": 29,
   "metadata": {},
   "outputs": [
    {
     "data": {
      "text/plain": [
       "790"
      ]
     },
     "execution_count": 29,
     "metadata": {},
     "output_type": "execute_result"
    }
   ],
   "source": [
    "sum(a_list)"
   ]
  },
  {
   "cell_type": "markdown",
   "metadata": {},
   "source": [
    "### [실습문제]\n",
    "숫자(정수) n을 입력 받아  for문을 이용하여 1~n까지의 합을 구하는 프로그램을 만들어 보세요.\n"
   ]
  },
  {
   "cell_type": "code",
   "execution_count": 31,
   "metadata": {},
   "outputs": [
    {
     "name": "stdout",
     "output_type": "stream",
     "text": [
      "합계를 구할 숫자 입력:100\n",
      "1 ~ 100까지의 합은: 5050\n"
     ]
    }
   ],
   "source": [
    "n = int(input('합계를 구할 숫자 입력:'))\n",
    "hap = 0\n",
    "\n",
    "for i in range(1,n+1,1):\n",
    "    hap = hap + i\n",
    "\n",
    "print(f'1 ~ {n}까지의 합은: {hap}')"
   ]
  },
  {
   "cell_type": "markdown",
   "metadata": {},
   "source": [
    "### [실습문제]\n",
    "숫자를 입력받아 1~n까지의 합을 구할 때 짝수를 제외하고 합을 구하는 프로그램을 만들어 보세요.\n"
   ]
  },
  {
   "cell_type": "code",
   "execution_count": 1,
   "metadata": {},
   "outputs": [
    {
     "name": "stdout",
     "output_type": "stream",
     "text": [
      "합계를 구할 숫자 입력:100\n",
      "1 ~ 100까지 짝수를 제외한 합은: 2500\n"
     ]
    }
   ],
   "source": [
    "n = int(input('합계를 구할 숫자 입력:'))\n",
    "hap = 0\n",
    "\n",
    "for i in range(1,n+1,2):\n",
    "    hap = hap + i\n",
    "\n",
    "print(f'1 ~ {n}까지 짝수를 제외한 합은: {hap}')"
   ]
  },
  {
   "cell_type": "markdown",
   "metadata": {},
   "source": [
    "### [실습문제]\n",
    "아래와 같이 소괄호만으로 구성된 문자열을 입력 받아 괄호의 짝꿍이 바른지 판단하여 결과를 True/False로 출력하도록 만들어 보세요.\n"
   ]
  },
  {
   "cell_type": "code",
   "execution_count": 2,
   "metadata": {},
   "outputs": [
    {
     "name": "stdout",
     "output_type": "stream",
     "text": [
      "괄호 : ()(())()()\n",
      "['(', ')', '(', '(', ')', ')', '(', ')', '(', ')']\n",
      "결과: True\n"
     ]
    }
   ],
   "source": [
    "'''\n",
    "예) \n",
    "    )))()()((( => False\n",
    "    ()()()()()) => False\n",
    "    ()(())()()  => True\n",
    "    ))(())(( => False\n",
    "    ()(()))( => False\n",
    "    ((())()) => True\n",
    "'''\n",
    "a_list = list(input('괄호 : '))\n",
    "print(a_list)\n",
    "\n",
    "t = 0\n",
    "for p in a_list:\n",
    "    if p == '(':\n",
    "        t += 1\n",
    "    elif p == ')':\n",
    "        t -= 1\n",
    "    if t < 0:\n",
    "        break\n",
    "        \n",
    "if t == 0:\n",
    "    print('결과: True')\n",
    "else:\n",
    "    print('결과: False')"
   ]
  },
  {
   "cell_type": "markdown",
   "metadata": {},
   "source": [
    "### 실습문제\n",
    "2~9단의 숫자를 입력 받아 해당하는 단의 구구단을 출력해 보세요.\n"
   ]
  },
  {
   "cell_type": "code",
   "execution_count": 4,
   "metadata": {
    "scrolled": true
   },
   "outputs": [
    {
     "name": "stdout",
     "output_type": "stream",
     "text": [
      "몇단을 출력할까요?: 5\n",
      "------------------------------\n",
      "5 x 1 =  5\n",
      "5 x 2 = 10\n",
      "5 x 3 = 15\n",
      "5 x 4 = 20\n",
      "5 x 5 = 25\n",
      "5 x 6 = 30\n",
      "5 x 7 = 35\n",
      "5 x 8 = 40\n",
      "5 x 9 = 45\n"
     ]
    }
   ],
   "source": [
    "n = int(input('몇단을 출력할까요?: '))\n",
    "print('-'*30)\n",
    "for i in range(1, 10, 1):\n",
    "    print('%d x %d = %2d' % (n,i,n*i))"
   ]
  },
  {
   "cell_type": "markdown",
   "metadata": {},
   "source": [
    "### 실습문제\n",
    "2~9단의 구구단을 모두 출력해 보세요.\n"
   ]
  },
  {
   "cell_type": "code",
   "execution_count": 19,
   "metadata": {
    "scrolled": false
   },
   "outputs": [
    {
     "name": "stdout",
     "output_type": "stream",
     "text": [
      "# 2 단 # 3 단 # 4 단 # 5 단 # 6 단 # 7 단 # 8 단 # 9 단 \n",
      "2x1= 2 3x1= 3 4x1= 4 5x1= 5 6x1= 6 7x1= 7 8x1= 8 9x1= 9 \n",
      "2x2= 4 3x2= 6 4x2= 8 5x2=10 6x2=12 7x2=14 8x2=16 9x2=18 \n",
      "2x3= 6 3x3= 9 4x3=12 5x3=15 6x3=18 7x3=21 8x3=24 9x3=27 \n",
      "2x4= 8 3x4=12 4x4=16 5x4=20 6x4=24 7x4=28 8x4=32 9x4=36 \n",
      "2x5=10 3x5=15 4x5=20 5x5=25 6x5=30 7x5=35 8x5=40 9x5=45 \n",
      "2x6=12 3x6=18 4x6=24 5x6=30 6x6=36 7x6=42 8x6=48 9x6=54 \n",
      "2x7=14 3x7=21 4x7=28 5x7=35 6x7=42 7x7=49 8x7=56 9x7=63 \n",
      "2x8=16 3x8=24 4x8=32 5x8=40 6x8=48 7x8=56 8x8=64 9x8=72 \n",
      "2x9=18 3x9=27 4x9=36 5x9=45 6x9=54 7x9=63 8x9=72 9x9=81 \n"
     ]
    }
   ],
   "source": [
    "gugudan = \"\"\n",
    "\n",
    "## 메인 코드 부분 ##\n",
    "for i in range(2, 10) :    \n",
    "    gugudan = gugudan + \"# %s 단 \"%i\n",
    "\n",
    "print(gugudan)\n",
    "\n",
    "for i in range(1, 10) :\n",
    "    gugudan = \"\" \n",
    "    for k in range(2, 10) :\n",
    "        gugudan = gugudan +(\"%dx%d=%2d \" % (k, i, k*i))\n",
    "    print(gugudan)\n"
   ]
  },
  {
   "cell_type": "markdown",
   "metadata": {},
   "source": [
    "컴프리헨션을 이용한 구구단 출력"
   ]
  },
  {
   "cell_type": "code",
   "execution_count": 44,
   "metadata": {},
   "outputs": [
    {
     "name": "stdout",
     "output_type": "stream",
     "text": [
      "2X1= 2 3X1= 3 4X1= 4 5X1= 5 6X1= 6 7X1= 7 8X1= 8 9X1= 9 \n",
      "2X2= 4 3X2= 6 4X2= 8 5X2=10 6X2=12 7X2=14 8X2=16 9X2=18 \n",
      "2X3= 6 3X3= 9 4X3=12 5X3=15 6X3=18 7X3=21 8X3=24 9X3=27 \n",
      "2X4= 8 3X4=12 4X4=16 5X4=20 6X4=24 7X4=28 8X4=32 9X4=36 \n",
      "2X5=10 3X5=15 4X5=20 5X5=25 6X5=30 7X5=35 8X5=40 9X5=45 \n",
      "2X6=12 3X6=18 4X6=24 5X6=30 6X6=36 7X6=42 8X6=48 9X6=54 \n",
      "2X7=14 3X7=21 4X7=28 5X7=35 6X7=42 7X7=49 8X7=56 9X7=63 \n",
      "2X8=16 3X8=24 4X8=32 5X8=40 6X8=48 7X8=56 8X8=64 9X8=72 \n",
      "2X9=18 3X9=27 4X9=36 5X9=45 6X9=54 7X9=63 8X9=72 9X9=81 \n"
     ]
    }
   ],
   "source": [
    "data = [ \"{}X{}={:2} \".format(x,y,x*y) for x in range(2,10) for y in range(1,10)]\n",
    "\n",
    "for i in range(9):\n",
    "    gugudan, k = '', 0 \n",
    "    for j in range(2,10):\n",
    "        gugudan += data[i+k]\n",
    "        k+=9\n",
    "    print(gugudan)"
   ]
  },
  {
   "cell_type": "markdown",
   "metadata": {},
   "source": [
    "### 실습문제\n",
    "아래와 같은 3행 4열로 1~12 숫자가 출력되도록 for 반복문으로 프로그램을 만들어 보세요."
   ]
  },
  {
   "cell_type": "code",
   "execution_count": 46,
   "metadata": {},
   "outputs": [
    {
     "name": "stdout",
     "output_type": "stream",
     "text": [
      " 1  2  3  4 \n",
      " 5  6  7  8 \n",
      " 9 10 11 12 \n"
     ]
    }
   ],
   "source": [
    "value=0\n",
    "for i in range(3):\n",
    "    for j in range(4):\n",
    "        value += 1\n",
    "        print(\"%2d\" % value, end=\" \")\n",
    "    print()"
   ]
  },
  {
   "cell_type": "code",
   "execution_count": null,
   "metadata": {},
   "outputs": [],
   "source": [
    "data = [i]"
   ]
  },
  {
   "cell_type": "code",
   "execution_count": 47,
   "metadata": {},
   "outputs": [
    {
     "name": "stdout",
     "output_type": "stream",
     "text": [
      " 1  4  7 10 \n",
      " 2  5  8 11 \n",
      " 3  6  9 12 \n"
     ]
    }
   ],
   "source": [
    "for i in range(3):\n",
    "    k = 0\n",
    "    for j in range(4):\n",
    "        print(\"%2d\" % (i+1+k), end=\" \")\n",
    "        k+=3\n",
    "    print()"
   ]
  },
  {
   "cell_type": "code",
   "execution_count": 49,
   "metadata": {},
   "outputs": [
    {
     "data": {
      "text/plain": [
       "[[1, 2, 3, 4], [5, 6, 7, 8], [9, 10, 11, 12]]"
      ]
     },
     "execution_count": 49,
     "metadata": {},
     "output_type": "execute_result"
    }
   ],
   "source": [
    "lst = [[m + n for n in range(1, 5)] for m in range(0, 12, 4)]\n",
    "lst"
   ]
  },
  {
   "cell_type": "code",
   "execution_count": 61,
   "metadata": {
    "scrolled": true
   },
   "outputs": [
    {
     "name": "stdout",
     "output_type": "stream",
     "text": [
      "1 2 3 4\n",
      "5 6 7 8\n",
      "9 10 11 12\n"
     ]
    }
   ],
   "source": [
    "for i in lst:\n",
    "    print(\" \".join([str(_) for _ in i]))"
   ]
  },
  {
   "cell_type": "markdown",
   "metadata": {},
   "source": [
    "### Random 모듈의 함수"
   ]
  },
  {
   "cell_type": "code",
   "execution_count": 22,
   "metadata": {},
   "outputs": [
    {
     "name": "stdout",
     "output_type": "stream",
     "text": [
      "20\n",
      "16\n",
      "0.8378652312255158\n",
      "15.245739391120829\n",
      "[0, 1, 2, 3, 4, 5, 6, 7, 8, 9]\n",
      "[0, 6, 1, 2, 7, 4, 5, 9, 3, 8]\n",
      "4\n"
     ]
    }
   ],
   "source": [
    "import random\n",
    "\n",
    "#random.seed(0)                \n",
    "\n",
    "#정수\n",
    "print( random.randint(10,20) )      #10~20사이의 임의의 정수 1개\n",
    "print( random.randrange(10,20,2) )  #10~20사이의 2간격의 임의의 정수 1개\n",
    "\n",
    "#실수\n",
    "print( random.random() )            #0~1사이의 균일분포 임의의 실수 1개   \n",
    "print( random.uniform(10,20) )\n",
    "\n",
    "#값 섞기\n",
    "x = list(range(10))\n",
    "print(x)\n",
    "random.shuffle(x)\n",
    "print(x)\n",
    "\n",
    "#주어진 X에서 임의의 값 추출하기\n",
    "x = random.choice(x)\n",
    "print(x)"
   ]
  },
  {
   "cell_type": "markdown",
   "metadata": {},
   "source": [
    "\n",
    "### [실습문제]\n",
    "2개의 주사위를 던져 나온 두 수를 비교하는 프로그램\n"
   ]
  },
  {
   "cell_type": "code",
   "execution_count": 26,
   "metadata": {
    "scrolled": true
   },
   "outputs": [
    {
     "name": "stdout",
     "output_type": "stream",
     "text": [
      "주사위를 던집니다!\n",
      "------------------------------\n",
      "A의 주사위 숫자는 6입니다.\n",
      "B의 주사위 숫자는 3입니다.\n",
      "------------------------------\n",
      "A가 이겼습니다.\n"
     ]
    }
   ],
   "source": [
    "import random\n",
    "\n",
    "print('주사위를 던집니다!')\n",
    "print('-'*30)\n",
    "\n",
    "num1 =  random.randrange(1, 7)\n",
    "print (\"A의 주사위 숫자는 %d입니다.\" % num1)\n",
    "num2 =  random.randrange(1, 7)\n",
    "print (\"B의 주사위 숫자는 %d입니다.\" % num2)\n",
    "\n",
    "print('-'*30)\n",
    "if num1 > num2 :\n",
    "    print(\"A가 이겼습니다.\")\n",
    "elif num1 < num1 :\n",
    "    print(\"B가 이겼습니다.\")\n",
    "else :\n",
    "    print(\"둘이 비겼네요.\")"
   ]
  },
  {
   "cell_type": "markdown",
   "metadata": {},
   "source": [
    "### [실습문제]\n",
    "주사위를 100번 던져서 나오는 숫자를 각 숫자별로 카운트하고 평균을 구하라"
   ]
  },
  {
   "cell_type": "code",
   "execution_count": 64,
   "metadata": {},
   "outputs": [
    {
     "name": "stdout",
     "output_type": "stream",
     "text": [
      "주사위 숫자별 개수: D1[17],D2[18],D3[13],D4[12],D5[19],D6[21]\n",
      "\n",
      "가장 많이 나온 주사위 숫자: 6, 횟수21\n"
     ]
    }
   ],
   "source": [
    "import random\n",
    "\n",
    "d1,d2,d3,d4,d5,d6=0,0,0,0,0,0\n",
    "for i in range(100):\n",
    "    x = random.randint(1,6)    \n",
    "    if x == 1: d1 += 1\n",
    "    if x == 2: d2 += 1\n",
    "    if x == 3: d3 += 1\n",
    "    if x == 4: d4 += 1\n",
    "    if x == 5: d5 += 1\n",
    "    if x == 6: d6 += 1     \n",
    "        \n",
    "max_v, max_d = d1, 1\n",
    "if max_v < d2: \n",
    "    max_v = d2\n",
    "    max_d = 2\n",
    "if max_v < d3: \n",
    "    max_v = d3\n",
    "    max_d = 3\n",
    "if max_v < d4: \n",
    "    max_v = d4\n",
    "    max_d = 4\n",
    "if max_v < d5: \n",
    "    max_v = d5\n",
    "    max_d = 5\n",
    "if max_v < d6: \n",
    "    max_v = d6\n",
    "    max_d = 6\n",
    "\n",
    "print(f'주사위 숫자별 개수: D1[{d1}],D2[{d2}],D3[{d3}],D4[{d4}],D5[{d5}],D6[{d6}]')    \n",
    "print(f'\\n가장 많이 나온 주사위 숫자: {max_d}, 횟수{max_v}')"
   ]
  },
  {
   "cell_type": "code",
   "execution_count": 71,
   "metadata": {},
   "outputs": [
    {
     "name": "stdout",
     "output_type": "stream",
     "text": [
      "주사위 숫자별 개수: D1[16] D2[12] D3[28] D4[20] D5[15] D6[9]\n",
      "\n",
      "가장 많이 나온 주사위 숫자: 6, 횟수21\n"
     ]
    }
   ],
   "source": [
    "import random\n",
    "\n",
    "dice=[0,0,0,0,0,0]\n",
    "for i in range(100):\n",
    "    x = random.randint(1,6)\n",
    "    dice[x-1] += 1\n",
    "dice\n",
    "\n",
    "result = [\"D%d[%d]\"%(i+1,v) for i, v in enumerate(dice)]\n",
    "\n",
    "print(f'주사위 숫자별 개수: {\" \".join(result)}')    \n",
    "print(f'\\n가장 많이 나온 주사위 숫자: {max_d}, 횟수{max_v}')"
   ]
  },
  {
   "cell_type": "code",
   "execution_count": 82,
   "metadata": {},
   "outputs": [
    {
     "ename": "NameError",
     "evalue": "name 'sum' is not defined",
     "output_type": "error",
     "traceback": [
      "\u001b[1;31m-----------------------------------------------------\u001b[0m",
      "\u001b[1;31mNameError\u001b[0m           Traceback (most recent call last)",
      "\u001b[1;32mC:\\Users\\Public\\Documents\\ESTsoft\\CreatorTemp/ipykernel_18288/960275928.py\u001b[0m in \u001b[0;36m<module>\u001b[1;34m\u001b[0m\n\u001b[0;32m      2\u001b[0m \u001b[1;31m# 보통 예약어를 변수명으로 사용한 후에 오류가 발생함\u001b[0m\u001b[1;33m\u001b[0m\u001b[1;33m\u001b[0m\u001b[1;33m\u001b[0m\u001b[0m\n\u001b[0;32m      3\u001b[0m \u001b[1;31m# 해당 예약어를 삭제해주면 된다.\u001b[0m\u001b[1;33m\u001b[0m\u001b[1;33m\u001b[0m\u001b[1;33m\u001b[0m\u001b[0m\n\u001b[1;32m----> 4\u001b[1;33m \u001b[1;32mdel\u001b[0m \u001b[0msum\u001b[0m\u001b[1;33m\u001b[0m\u001b[1;33m\u001b[0m\u001b[0m\n\u001b[0m",
      "\u001b[1;31mNameError\u001b[0m: name 'sum' is not defined"
     ]
    }
   ],
   "source": [
    "# TypeError: 'int' object is not callable  오류가 발생된 경우\n",
    "# 보통 예약어를 변수명으로 사용한 후에 오류가 발생함 \n",
    "# 해당 예약어를 삭제해주면 된다.\n",
    "del sum"
   ]
  },
  {
   "cell_type": "markdown",
   "metadata": {},
   "source": [
    "-----"
   ]
  },
  {
   "cell_type": "markdown",
   "metadata": {},
   "source": [
    "## while 반복문"
   ]
  },
  {
   "cell_type": "markdown",
   "metadata": {},
   "source": [
    "### while반복문으로 1부터 100까지의 합 구하기"
   ]
  },
  {
   "cell_type": "code",
   "execution_count": null,
   "metadata": {},
   "outputs": [],
   "source": [
    "hap, i = 0, 1\n",
    "\n",
    "while i < 101:\n",
    "    hap = hap + i\n",
    "    i = i + 1\n",
    "    \n",
    "print('1~100까지 합은: %d' % hap)"
   ]
  },
  {
   "cell_type": "markdown",
   "metadata": {},
   "source": [
    "### [실습문제]\n",
    "while문을 이용하여 열 번 찍어 나무 넘기기 프로그램을 만들어 보세요.\n"
   ]
  },
  {
   "cell_type": "code",
   "execution_count": 5,
   "metadata": {
    "scrolled": false
   },
   "outputs": [
    {
     "name": "stdout",
     "output_type": "stream",
     "text": [
      "나무를 1번 찍었습니다.\n",
      "나무를 2번 찍었습니다.\n",
      "나무를 3번 찍었습니다.\n",
      "나무를 4번 찍었습니다.\n",
      "나무를 5번 찍었습니다.\n",
      "나무를 6번 찍었습니다.\n",
      "나무를 7번 찍었습니다.\n",
      "나무를 8번 찍었습니다.\n",
      "나무를 9번 찍었습니다.\n",
      "나무를 10번 찍었습니다.\n",
      "나무 넘어 갑니다~\n"
     ]
    }
   ],
   "source": [
    "treeHit = 0\n",
    "while treeHit < 10:\n",
    "    treeHit += 1  # treeHit = treeHit + 1\n",
    "    print(\"나무를 %d번 찍었습니다.\" % treeHit)\n",
    "    if treeHit == 10:\n",
    "        print(\"나무 넘어 갑니다~\")"
   ]
  },
  {
   "cell_type": "code",
   "execution_count": 13,
   "metadata": {},
   "outputs": [
    {
     "name": "stdout",
     "output_type": "stream",
     "text": [
      "나무를 1번 찍었습니다.\n",
      "나무를 2번 찍었습니다.\n",
      "나무를 3번 찍었습니다.\n",
      "나무를 4번 찍었습니다.\n",
      "나무를 5번 찍었습니다.\n",
      "나무를 6번 찍었습니다.\n",
      "나무를 7번 찍었습니다.\n",
      "나무를 8번 찍었습니다.\n",
      "나무를 9번 찍었습니다.\n",
      "나무를 10번 찍었습니다.\n",
      "나무 넘어 갑니다~\n"
     ]
    }
   ],
   "source": [
    "## 방법2\n",
    "treeHit = 0\n",
    "while True:\n",
    "    treeHit += 1  # treeHit = treeHit + 1\n",
    "    print(\"나무를 %d번 찍었습니다.\" % treeHit)\n",
    "    if treeHit == 10:        \n",
    "        print(\"나무 넘어 갑니다~\")\n",
    "        break"
   ]
  },
  {
   "cell_type": "markdown",
   "metadata": {},
   "source": [
    "### [실습문제]\n",
    "무한 반복문을 빠져나오기 위한 프로그램을 만들어 보세요"
   ]
  },
  {
   "cell_type": "code",
   "execution_count": null,
   "metadata": {},
   "outputs": [],
   "source": [
    "prompt = \"\"\"\n",
    "    1.Add   2.Del   3.Modify   4.Quit\n",
    "    \n",
    "    Enter number: \"\"\"   # 1.코드를 실행하면 출력되는 부분\n",
    "\n",
    "number = 0\n",
    "\n",
    "while number != 4:  # 4.반복문 빠져나오는 조건\n",
    "    number = int(input(prompt+\" \"))   # 2.사용자 입력 부분"
   ]
  },
  {
   "cell_type": "markdown",
   "metadata": {},
   "source": [
    "### [실습문제]\n",
    "사용자가 숫자를 입력하면 별 모양을 입력한 숫자의 두 배만큼 출력하는 프로그램을 만드세요. \n",
    "예를 들어 345를 입력하면 각 행에 3, 4, 5 개의 별을 출력해 보세요."
   ]
  },
  {
   "cell_type": "code",
   "execution_count": 99,
   "metadata": {},
   "outputs": [
    {
     "name": "stdout",
     "output_type": "stream",
     "text": [
      "★\n"
     ]
    }
   ],
   "source": [
    "print('\\u2605')"
   ]
  },
  {
   "cell_type": "code",
   "execution_count": 74,
   "metadata": {},
   "outputs": [
    {
     "name": "stdout",
     "output_type": "stream",
     "text": [
      "숫자를 여러개 입력하세요 : 345\n",
      "\n",
      "★★★★★★\n",
      "★★★★★★★★\n",
      "★★★★★★★★★★\n"
     ]
    }
   ],
   "source": [
    "# 별모양 출력하기\n",
    "numStr=input(\"숫자를 여러개 입력하세요 : \")\n",
    "print()\n",
    "\n",
    "for i in numStr:\n",
    "    for k in range(int(i)):\n",
    "        print(\"\\u2605\"*2, end='')  \n",
    "    print()\n",
    "    "
   ]
  },
  {
   "cell_type": "code",
   "execution_count": null,
   "metadata": {},
   "outputs": [],
   "source": [
    "# 별모양 출력하기\n",
    "\n",
    "numStr=input(\"숫자를 여러개 입력하세요 : \")\n",
    "print()\n",
    "\n",
    "i=0\n",
    "ch = numStr[i]\n",
    "while True :\n",
    "    heartNum = int(ch)\n",
    "\n",
    "    heartStr = \"\"\n",
    "    for k in range (0, heartNum*2) :\n",
    "        heartStr += \"\\u2605\"\n",
    "        k += 1\n",
    "        \n",
    "    print(heartStr)\n",
    "\n",
    "    i += 1\n",
    "    if (i > len(numStr) -1 ) :\n",
    "        break\n",
    "\n",
    "    ch = numStr[i] "
   ]
  },
  {
   "cell_type": "markdown",
   "metadata": {},
   "source": [
    "### [실습문제]\n",
    "공을 일정 높이에서 던졌을 때, 원래 높이의 1/2만큼 튀어 오른다고 합니다. 그러다가 높이가 0.00001m보다 낮으면 튀어오르지 않는다고 합니다. while문을 이용하여 이 프로그램을 만들어 보세요."
   ]
  },
  {
   "cell_type": "code",
   "execution_count": 1,
   "metadata": {},
   "outputs": [
    {
     "name": "stdout",
     "output_type": "stream",
     "text": [
      "공의 높이를 입력하세요(meter) : 30\n",
      "30 위치에서 공의 튕긴 횟수는 총 22번 입니다.\n"
     ]
    }
   ],
   "source": [
    "length = int(input('공의 높이를 입력하세요(meter) : '))\n",
    "meter, cnt = length, 0\n",
    "while True:\n",
    "    if meter < 0.00001: \n",
    "        break\n",
    "    meter /= 2\n",
    "    cnt += 1\n",
    "    \n",
    "print(f'{length} 위치에서 공의 튕긴 횟수는 총 {cnt}번 입니다.')"
   ]
  },
  {
   "cell_type": "markdown",
   "metadata": {},
   "source": [
    "### [실습문제] 커피 자동주문 머신 업그레이드 하기"
   ]
  },
  {
   "cell_type": "code",
   "execution_count": 4,
   "metadata": {
    "scrolled": true
   },
   "outputs": [
    {
     "name": "stdout",
     "output_type": "stream",
     "text": [
      "[커피 자동주문 머신 메뉴]\n",
      "------------------------------\n",
      "-아메리카노는 2500원\n",
      "-카레라떼는 3000원\n",
      "-카푸치노는 3000원\n",
      "입니다. 원하시는 커피종류와 잔수를 입력하세요.\n",
      "------------------------------\n",
      "아메리카노 몇잔?2\n",
      "카페라떼 몇잔?1\n",
      "카푸치노 몇잔?1\n",
      "지불할 총 금액은  11000 원 입니다\n",
      "------------------------------\n",
      "[지불할 금액:11000] : 돈을 넣어주세요: 1000\n",
      "입력한 금액이 부족합니다.  10000 원을 더 넣어주세요.\n",
      "------------------------------\n",
      "[지불할 금액:10000] : 돈을 넣어주세요: 11000\n",
      "거스름돈은  1000 원 입니다\n",
      "------------------------------\n",
      "커피 맛있게 드세요~~~\n"
     ]
    }
   ],
   "source": [
    "menu = '''[커피 자동주문 머신 메뉴]\n",
    "------------------------------\n",
    "-아메리카노는 2500원\n",
    "-카레라떼는 3000원\n",
    "-카푸치노는 3000원\n",
    "입니다. 원하시는 커피종류와 잔수를 입력하세요.\n",
    "------------------------------\\n'''\n",
    "coffee1 = int(input(menu+\"아메리카노 몇잔?\"))\n",
    "coffee2 = int(input(\"카페라떼 몇잔?\"))\n",
    "coffee3 = int(input(\"카푸치노 몇잔?\"))\n",
    "\n",
    "total = coffee1*2500 + coffee2*3000 + coffee3*3000\n",
    "print(\"지불할 총 금액은 \", total, \"원 입니다\")\n",
    "\n",
    "money, change = 0, 0\n",
    "while True:\n",
    "    print('-'*30)\n",
    "    money = int(input(f'[지불할 금액:{total}] : 돈을 넣어주세요: '))\n",
    "    \n",
    "    change = money - total\n",
    "    if change < 0:\n",
    "        print(\"입력한 금액이 부족합니다. \", change*-1, \"원을 더 넣어주세요.\")\n",
    "        total = total - money\n",
    "    else:\n",
    "        print(\"거스름돈은 \", change, \"원 입니다\")\n",
    "        break\n",
    "\n",
    "print('-'*30)\n",
    "print('커피 맛있게 드세요~~~')"
   ]
  },
  {
   "cell_type": "markdown",
   "metadata": {},
   "source": [
    "### [실습문제]\n",
    "업&다운 게임 만들기\n",
    "\n",
    "(1~100)사이의 비밀의 숫자를 생성시킨 후 키보드로 입력받아 숫자를 맞추는 업다운 게임을 만들어 보세요. 아래와 같이 출력되도록 입력 시도 횟수도 함께 출력해 주세요."
   ]
  },
  {
   "cell_type": "code",
   "execution_count": 100,
   "metadata": {
    "scrolled": true
   },
   "outputs": [
    {
     "name": "stdout",
     "output_type": "stream",
     "text": [
      "--------------------------------------------------\n",
      "* 비밀의 숫자가 지정되었습니다.\n",
      "--------------------------------------------------\n",
      "숫자를 입력하세요 :50\n",
      "비밀의 수는 더 작은 수 입니다\n",
      "숫자를 입력하세요 :25\n",
      "비밀의 수는 더 작은 수 입니다\n",
      "숫자를 입력하세요 :13\n",
      "비밀의 수는 더 작은 수 입니다\n",
      "숫자를 입력하세요 :7\n",
      "비밀의 수는 더 작은 수 입니다\n",
      "숫자를 입력하세요 :4\n",
      "비밀의 수는 더 큰 수 입니다.\n",
      "숫자를 입력하세요 :5\n",
      "비밀의 수는 더 큰 수 입니다.\n",
      "숫자를 입력하세요 :6\n",
      "정답입니다\n",
      "--------------------------------------------------\n",
      "비밀의 숫자: 6\n",
      "당신의 입력 횟수: 7\n"
     ]
    }
   ],
   "source": [
    "import random\n",
    "\n",
    "number = random.randint(1,10)   #1~100의 랜덤한 숫자 생성\n",
    "print('-'*50)\n",
    "print('* 비밀의 숫자가 지정되었습니다.')\n",
    "print('-'*50)\n",
    "\n",
    "trycnt = 0\n",
    "while True:\n",
    "    guess = int(input('숫자를 입력하세요 :'))\n",
    "    trycnt += 1\n",
    "    if guess == number:\n",
    "        print('정답입니다')\n",
    "        break\n",
    "    elif guess > number:\n",
    "        print('비밀의 수는 더 작은 수 입니다')\n",
    "    else:\n",
    "        print('비밀의 수는 더 큰 수 입니다.')\n",
    "\n",
    "print('-'*50)\n",
    "print(f'비밀의 숫자: {number}')\n",
    "print(f'당신의 입력 횟수: {trycnt}')"
   ]
  },
  {
   "cell_type": "markdown",
   "metadata": {},
   "source": [
    "### enumerate() 함수\n",
    "순서가 있는 자료형(string, list, tuple)을 index, value로 반환하는 함수\n"
   ]
  },
  {
   "cell_type": "code",
   "execution_count": null,
   "metadata": {},
   "outputs": [],
   "source": [
    "# 리스트의 index와 value을 추출하려면 \n",
    "myList = [2,7,10,13,15]\n",
    "for i in range(len(myList)):\n",
    "    print(f'index:{i} value:{myList[i]}')"
   ]
  },
  {
   "cell_type": "code",
   "execution_count": null,
   "metadata": {
    "scrolled": false
   },
   "outputs": [],
   "source": [
    "#enumerate() 함수 사용\n",
    "myList = [2,7,10,13,15]\n",
    "for index,value in enumerate(myList):\n",
    "    print(f'index{index} value:{value}')"
   ]
  },
  {
   "cell_type": "code",
   "execution_count": 75,
   "metadata": {},
   "outputs": [
    {
     "name": "stdout",
     "output_type": "stream",
     "text": [
      "index5 value:2\n",
      "index6 value:7\n",
      "index7 value:10\n",
      "index8 value:13\n",
      "index9 value:15\n"
     ]
    }
   ],
   "source": [
    "#enumerate(,시작인덱스번호) 함수 사용\n",
    "myList = [2,7,10,13,15]\n",
    "for index,value in enumerate(myList,5):\n",
    "    print(f'index{index} value:{value}')"
   ]
  },
  {
   "cell_type": "markdown",
   "metadata": {},
   "source": [
    "----------------------"
   ]
  }
 ],
 "metadata": {
  "interpreter": {
   "hash": "a248ee2b75b2cfe4cb0741da8651464fa227ad10b1dd03ad8a0df0c0771cdb02"
  },
  "kernelspec": {
   "display_name": "Python 3",
   "language": "python",
   "name": "python3"
  },
  "language_info": {
   "codemirror_mode": {
    "name": "ipython",
    "version": 3
   },
   "file_extension": ".py",
   "mimetype": "text/x-python",
   "name": "python",
   "nbconvert_exporter": "python",
   "pygments_lexer": "ipython3",
   "version": "3.9.10"
  }
 },
 "nbformat": 4,
 "nbformat_minor": 4
}
