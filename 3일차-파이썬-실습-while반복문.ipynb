{
 "cells": [
  {
   "cell_type": "markdown",
   "id": "1e03b32f",
   "metadata": {},
   "source": [
    "# while 반복문"
   ]
  },
  {
   "cell_type": "markdown",
   "id": "3d97ae83",
   "metadata": {},
   "source": [
    "### [복습문제] 숫자 N을 입력받아서 1~N까지 for반복문을 이용하여 합계를 구하시오"
   ]
  },
  {
   "cell_type": "code",
   "execution_count": null,
   "id": "d0180501",
   "metadata": {},
   "outputs": [],
   "source": [
    "N = int( input('숫자를 입력하세요: '))\n",
    "\n",
    "total = 0\n",
    "for i in range(1, N+1):\n",
    "    total = total + i  # total += i\n",
    "#     print(f'i={i} total={total}')\n",
    "\n",
    "print(f\"1~{N}까지의 전체 합계는 {total}입니다.\")"
   ]
  },
  {
   "cell_type": "code",
   "execution_count": null,
   "id": "33ef624e",
   "metadata": {},
   "outputs": [],
   "source": [
    "# 짝수를 제외하고 합계구하기\n",
    "N = int( input('숫자를 입력하세요: '))\n",
    "\n",
    "total = 0\n",
    "for i in range(1, N+1):\n",
    "    if i%2 != 0:           # 짝수 제외\n",
    "        total = total + i  # total += i\n",
    "\n",
    "print(f\"1~{N}까지 짝수 제외 전체 합계는 {total}입니다.\")http://localhost:8888/notebooks/highschool/3%EC%9D%BC%EC%B0%A8-%ED%8C%8C%EC%9D%B4%EC%8D%AC-%EC%8B%A4%EC%8A%B5-while%EB%B0%98%EB%B3%B5%EB%AC%B8.ipynb#"
   ]
  },
  {
   "cell_type": "markdown",
   "id": "e34e0500",
   "metadata": {},
   "source": [
    "## While 반복문 : 무한루프"
   ]
  },
  {
   "cell_type": "code",
   "execution_count": null,
   "id": "f29c2acc",
   "metadata": {},
   "outputs": [],
   "source": [
    "hap = 0\n",
    "a, b = 0, 0\n",
    "\n",
    "while True:\n",
    "    a = int(input('더할 첫 번째 수를 입력하세요:'))\n",
    "    b = int(input('더할 두 번째 수를 입력하세요:'))\n",
    "    hap = a + b\n",
    "    print('%d + %d = %d' % (a, b, hap))\n",
    "    \n",
    "    if a==0 or b==0:\n",
    "        break\n",
    "print('끝!')        "
   ]
  },
  {
   "cell_type": "markdown",
   "id": "896d12fb",
   "metadata": {},
   "source": [
    "### [실습문제] while문으로 나무 10번찍어 넘기기"
   ]
  },
  {
   "cell_type": "code",
   "execution_count": null,
   "id": "9841ca6c",
   "metadata": {},
   "outputs": [],
   "source": [
    "treeHit = 0\n",
    "\n",
    "while True:\n",
    "    treeHit += 1    \n",
    "    print(f'나무를 {treeHit}번 찍었습니다.')\n",
    "    \n",
    "    if treeHit >= 10:\n",
    "        break\n",
    "    \n",
    "print('나무 넘어 갑니다~')"
   ]
  },
  {
   "cell_type": "markdown",
   "id": "e8a489b9",
   "metadata": {},
   "source": [
    "### [실습문제] while반복문 무한루프 빠져나기기"
   ]
  },
  {
   "cell_type": "code",
   "execution_count": null,
   "id": "a5984e51",
   "metadata": {},
   "outputs": [],
   "source": [
    "prompt = \"\"\"\n",
    "    1.Add   2.Del   3.Modify    4.Quit\n",
    "    \n",
    "    Enter number: \"\"\"\n",
    "\n",
    "while True:\n",
    "    number = input(prompt)\n",
    "    if number == '4': break\n",
    "\n",
    "print('program finish!')"
   ]
  },
  {
   "cell_type": "code",
   "execution_count": null,
   "id": "9a1f12e4",
   "metadata": {},
   "outputs": [],
   "source": [
    "num = input('숫자: ')\n",
    "for i in num:\n",
    "    print(i)"
   ]
  },
  {
   "cell_type": "markdown",
   "id": "3c3c7eb0",
   "metadata": {},
   "source": [
    "### [실습문제] 입력된 숫자로 별 출력하기"
   ]
  },
  {
   "cell_type": "code",
   "execution_count": null,
   "id": "505872a0",
   "metadata": {},
   "outputs": [],
   "source": [
    "num=input('숫자를 입력하세요 ')\n",
    "for i in num: \n",
    "    print('\\u2605' * int(i) * 2)   "
   ]
  },
  {
   "cell_type": "code",
   "execution_count": null,
   "id": "084f61ba",
   "metadata": {},
   "outputs": [],
   "source": [
    "fruits = ['사과','키위','포도']\n",
    "\n",
    "for fruit in fruits:\n",
    "    print(f'{fruit}는 과일입니다.')\n",
    "    print('%s는 과일입니다.' % fruit)"
   ]
  },
  {
   "cell_type": "code",
   "execution_count": null,
   "id": "9314872a",
   "metadata": {},
   "outputs": [],
   "source": []
  },
  {
   "cell_type": "code",
   "execution_count": null,
   "id": "9b1c2e7d",
   "metadata": {},
   "outputs": [],
   "source": [
    "length = int(input('공의 높이를 입력하세요(meter) : '))\n",
    "\n",
    "for i in range(length, 0, -1):\n",
    "    meter, cnt = i, 0\n",
    "    while True:\n",
    "        if meter < 0.00001: \n",
    "            break\n",
    "        meter /= 2\n",
    "        cnt += 1\n",
    "    print(f'{i} 위치에서 공의 튕긴 횟수는 총 {cnt}번 입니다.')"
   ]
  },
  {
   "cell_type": "markdown",
   "id": "8973c5c3",
   "metadata": {},
   "source": [
    "### [실습문제] 커피자동주문 머신 만들기 "
   ]
  },
  {
   "cell_type": "code",
   "execution_count": null,
   "id": "828f5fa3",
   "metadata": {},
   "outputs": [],
   "source": [
    "menu = '''[커피 자동주문 머신 메뉴]\n",
    "-----------------------\n",
    "-아메리카노는 2500원\n",
    "-카페라떼는 3000원\n",
    "-카푸치노는 3000원\n",
    "입니다. 원하시는 커피종류와 잔 수를 입력하세요.\n",
    "-----------------------\\n'''\n",
    "coffee1 = int(input(menu+'아메리카노 몇잔? : '))\n",
    "coffee2 = int(input('카페라떼 몇잔? : '))\n",
    "coffee3 = int(input('카푸치노 몇잔? : '))\n",
    "total = coffee1*2500 + coffee2*3000 + coffee3*3000\n",
    "print(f'지불할 총 금액은 {total}원 입니다.')\n",
    "\n",
    "while True:\n",
    "    print('-'*30)\n",
    "    money = int(input(f'[지불할 금액:{total}] : 돈을 넣어주세요(원) : '))\n",
    "\n",
    "    change = money - total\n",
    "    if change < 0:\n",
    "        print(f'돈이 부족합니다. {change*-1}원 을 더 넣어주세요')\n",
    "        total -= money\n",
    "    else:\n",
    "        print(f'거스름돈은 {change}원 입니다.')\n",
    "        break\n",
    "        \n",
    "print('-'*30)\n",
    "print('커피 맛있게 드세요~')"
   ]
  },
  {
   "cell_type": "markdown",
   "id": "ac9b9626",
   "metadata": {},
   "source": [
    "### [실습문제] 업&다운 비밀의 숫자 맞추기"
   ]
  },
  {
   "cell_type": "code",
   "execution_count": 2,
   "id": "9634da16",
   "metadata": {},
   "outputs": [
    {
     "name": "stdout",
     "output_type": "stream",
     "text": [
      "------------------------------\n",
      "* 비밀의 숫자가 지정되었습니다.\n",
      "------------------------------\n"
     ]
    },
    {
     "ename": "KeyboardInterrupt",
     "evalue": "Interrupted by user",
     "output_type": "error",
     "traceback": [
      "\u001b[1;31m---------------------------------------------------------------------------\u001b[0m",
      "\u001b[1;31mKeyboardInterrupt\u001b[0m                         Traceback (most recent call last)",
      "Input \u001b[1;32mIn [2]\u001b[0m, in \u001b[0;36m<cell line: 10>\u001b[1;34m()\u001b[0m\n\u001b[0;32m      8\u001b[0m trycnt \u001b[38;5;241m=\u001b[39m \u001b[38;5;241m0\u001b[39m\n\u001b[0;32m      9\u001b[0m \u001b[38;5;28;01mwhile\u001b[39;00m \u001b[38;5;28;01mTrue\u001b[39;00m:\n\u001b[1;32m---> 10\u001b[0m     guess \u001b[38;5;241m=\u001b[39m \u001b[38;5;28mint\u001b[39m(\u001b[38;5;28;43minput\u001b[39;49m\u001b[43m(\u001b[49m\u001b[38;5;124;43m'\u001b[39;49m\u001b[38;5;124;43m숫자를 입력하세요: \u001b[39;49m\u001b[38;5;124;43m'\u001b[39;49m\u001b[43m)\u001b[49m)\n\u001b[0;32m     11\u001b[0m     trycnt \u001b[38;5;241m+\u001b[39m\u001b[38;5;241m=\u001b[39m \u001b[38;5;241m1\u001b[39m\n\u001b[0;32m     12\u001b[0m     \u001b[38;5;66;03m# 종료조건\u001b[39;00m\n",
      "File \u001b[1;32mC:\\python\\Python39\\lib\\site-packages\\ipykernel\\kernelbase.py:1177\u001b[0m, in \u001b[0;36mKernel.raw_input\u001b[1;34m(self, prompt)\u001b[0m\n\u001b[0;32m   1173\u001b[0m \u001b[38;5;28;01mif\u001b[39;00m \u001b[38;5;129;01mnot\u001b[39;00m \u001b[38;5;28mself\u001b[39m\u001b[38;5;241m.\u001b[39m_allow_stdin:\n\u001b[0;32m   1174\u001b[0m     \u001b[38;5;28;01mraise\u001b[39;00m StdinNotImplementedError(\n\u001b[0;32m   1175\u001b[0m         \u001b[38;5;124m\"\u001b[39m\u001b[38;5;124mraw_input was called, but this frontend does not support input requests.\u001b[39m\u001b[38;5;124m\"\u001b[39m\n\u001b[0;32m   1176\u001b[0m     )\n\u001b[1;32m-> 1177\u001b[0m \u001b[38;5;28;01mreturn\u001b[39;00m \u001b[38;5;28;43mself\u001b[39;49m\u001b[38;5;241;43m.\u001b[39;49m\u001b[43m_input_request\u001b[49m\u001b[43m(\u001b[49m\n\u001b[0;32m   1178\u001b[0m \u001b[43m    \u001b[49m\u001b[38;5;28;43mstr\u001b[39;49m\u001b[43m(\u001b[49m\u001b[43mprompt\u001b[49m\u001b[43m)\u001b[49m\u001b[43m,\u001b[49m\n\u001b[0;32m   1179\u001b[0m \u001b[43m    \u001b[49m\u001b[38;5;28;43mself\u001b[39;49m\u001b[38;5;241;43m.\u001b[39;49m\u001b[43m_parent_ident\u001b[49m\u001b[43m[\u001b[49m\u001b[38;5;124;43m\"\u001b[39;49m\u001b[38;5;124;43mshell\u001b[39;49m\u001b[38;5;124;43m\"\u001b[39;49m\u001b[43m]\u001b[49m\u001b[43m,\u001b[49m\n\u001b[0;32m   1180\u001b[0m \u001b[43m    \u001b[49m\u001b[38;5;28;43mself\u001b[39;49m\u001b[38;5;241;43m.\u001b[39;49m\u001b[43mget_parent\u001b[49m\u001b[43m(\u001b[49m\u001b[38;5;124;43m\"\u001b[39;49m\u001b[38;5;124;43mshell\u001b[39;49m\u001b[38;5;124;43m\"\u001b[39;49m\u001b[43m)\u001b[49m\u001b[43m,\u001b[49m\n\u001b[0;32m   1181\u001b[0m \u001b[43m    \u001b[49m\u001b[43mpassword\u001b[49m\u001b[38;5;241;43m=\u001b[39;49m\u001b[38;5;28;43;01mFalse\u001b[39;49;00m\u001b[43m,\u001b[49m\n\u001b[0;32m   1182\u001b[0m \u001b[43m\u001b[49m\u001b[43m)\u001b[49m\n",
      "File \u001b[1;32mC:\\python\\Python39\\lib\\site-packages\\ipykernel\\kernelbase.py:1219\u001b[0m, in \u001b[0;36mKernel._input_request\u001b[1;34m(self, prompt, ident, parent, password)\u001b[0m\n\u001b[0;32m   1216\u001b[0m             \u001b[38;5;28;01mbreak\u001b[39;00m\n\u001b[0;32m   1217\u001b[0m \u001b[38;5;28;01mexcept\u001b[39;00m \u001b[38;5;167;01mKeyboardInterrupt\u001b[39;00m:\n\u001b[0;32m   1218\u001b[0m     \u001b[38;5;66;03m# re-raise KeyboardInterrupt, to truncate traceback\u001b[39;00m\n\u001b[1;32m-> 1219\u001b[0m     \u001b[38;5;28;01mraise\u001b[39;00m \u001b[38;5;167;01mKeyboardInterrupt\u001b[39;00m(\u001b[38;5;124m\"\u001b[39m\u001b[38;5;124mInterrupted by user\u001b[39m\u001b[38;5;124m\"\u001b[39m) \u001b[38;5;28;01mfrom\u001b[39;00m \u001b[38;5;28mNone\u001b[39m\n\u001b[0;32m   1220\u001b[0m \u001b[38;5;28;01mexcept\u001b[39;00m \u001b[38;5;167;01mException\u001b[39;00m:\n\u001b[0;32m   1221\u001b[0m     \u001b[38;5;28mself\u001b[39m\u001b[38;5;241m.\u001b[39mlog\u001b[38;5;241m.\u001b[39mwarning(\u001b[38;5;124m\"\u001b[39m\u001b[38;5;124mInvalid Message:\u001b[39m\u001b[38;5;124m\"\u001b[39m, exc_info\u001b[38;5;241m=\u001b[39m\u001b[38;5;28;01mTrue\u001b[39;00m)\n",
      "\u001b[1;31mKeyboardInterrupt\u001b[0m: Interrupted by user"
     ]
    }
   ],
   "source": [
    "import random\n",
    "\n",
    "number = random.randint(1,100) #1~100의 랜덤한 숫자 생성\n",
    "print('-'*30)\n",
    "print('* 비밀의 숫자가 지정되었습니다.')\n",
    "print('-'*30)\n",
    "\n",
    "trycnt = 0\n",
    "while True:\n",
    "    guess = int(input('숫자를 입력하세요: '))\n",
    "    trycnt += 1\n",
    "    # 종료조건\n",
    "    if guess == number:\n",
    "        print('정답입니다!!!')\n",
    "        break\n",
    "    #비교조건\n",
    "    elif guess > number:\n",
    "        print('비밀의 수는 더 작은 수 입니다.')\n",
    "    else:\n",
    "        print('비밀의 수는 더 큰 수 입니다.')\n",
    "    \n",
    "print('-'*30)\n",
    "print(f'비밀의 숫자는 {number}')\n",
    "print(f'당신의 입력 횟수는 {trycnt}회')\n",
    "\n"
   ]
  },
  {
   "cell_type": "markdown",
   "id": "4a7e8d12",
   "metadata": {},
   "source": [
    "### enumerate()\n"
   ]
  },
  {
   "cell_type": "code",
   "execution_count": 6,
   "id": "4e624a65",
   "metadata": {},
   "outputs": [
    {
     "name": "stdout",
     "output_type": "stream",
     "text": [
      "5 2\n",
      "6 3\n",
      "7 4\n",
      "8 5\n",
      "9 7\n",
      "10 10\n",
      "11 9\n",
      "12 10\n",
      "13 30\n"
     ]
    }
   ],
   "source": [
    "myList = [2,3,4,5,7,10, 9,10,30]\n",
    "\n",
    "for idx, i in enumerate(myList, 5):\n",
    "    print(idx, i)"
   ]
  },
  {
   "cell_type": "code",
   "execution_count": null,
   "id": "521245f0",
   "metadata": {},
   "outputs": [],
   "source": []
  }
 ],
 "metadata": {
  "kernelspec": {
   "display_name": "Python 3",
   "language": "python",
   "name": "python3"
  },
  "language_info": {
   "codemirror_mode": {
    "name": "ipython",
    "version": 3
   },
   "file_extension": ".py",
   "mimetype": "text/x-python",
   "name": "python",
   "nbconvert_exporter": "python",
   "pygments_lexer": "ipython3",
   "version": "3.9.10"
  }
 },
 "nbformat": 4,
 "nbformat_minor": 5
}
